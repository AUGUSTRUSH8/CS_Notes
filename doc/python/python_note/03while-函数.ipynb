{
 "cells": [
  {
   "cell_type": "markdown",
   "metadata": {},
   "source": [
    "# while\n"
   ]
  },
  {
   "cell_type": "code",
   "execution_count": 1,
   "metadata": {},
   "outputs": [
    {
     "name": "stdout",
     "output_type": "stream",
     "text": [
      "第1年拿10670.0块钱\n",
      "第2年拿11384.89块钱\n",
      "第3年拿12147.677629999998块钱\n",
      "第4年拿12961.572031209998块钱\n",
      "第5年拿13829.997357301068块钱\n",
      "第6年拿14756.607180240238块钱\n",
      "第7年拿15745.299861316334块钱\n",
      "第8年拿16800.23495202453块钱\n",
      "第9年拿17925.85069381017块钱\n",
      "第10年拿19126.88269029545块钱\n",
      "第11年拿20408.383830545245块钱\n"
     ]
    }
   ],
   "source": [
    "benqian = 10000\n",
    "year =0\n",
    "while benqian <20000:\n",
    "    benqian = benqian*(1+0.067)\n",
    "    year +=1\n",
    "    print (\"第{0}年拿{1}块钱\".format(year,benqian))"
   ]
  },
  {
   "cell_type": "code",
   "execution_count": 3,
   "metadata": {},
   "outputs": [
    {
     "name": "stdout",
     "output_type": "stream",
     "text": [
      "第1年拿10670.0块钱\n",
      "第2年拿11384.89块钱\n",
      "第3年拿12147.677629999998块钱\n",
      "第4年拿12961.572031209998块钱\n",
      "第5年拿13829.997357301068块钱\n",
      "第6年拿14756.607180240238块钱\n",
      "第7年拿15745.299861316334块钱\n",
      "第8年拿16800.23495202453块钱\n",
      "第9年拿17925.85069381017块钱\n",
      "第10年拿19126.88269029545块钱\n",
      "第11年拿20408.383830545245块钱\n",
      "终于翻倍了\n"
     ]
    }
   ],
   "source": [
    "benqian = 10000\n",
    "year =0\n",
    "while benqian <20000:\n",
    "    benqian = benqian*(1+0.067)\n",
    "    year +=1\n",
    "    print (\"第{0}年拿{1}块钱\".format(year,benqian))\n",
    "else:\n",
    "    print(\"终于翻倍了\")"
   ]
  },
  {
   "cell_type": "markdown",
   "metadata": {},
   "source": [
    "# 函数\n",
    "- 代码一个组织形式\n",
    "- 一个函数一般完成一项特定都功能\n",
    "- 函数都使用\n",
    "    -需要先定义函数\n",
    "    -使用函数，俗称调用\n"
   ]
  },
  {
   "cell_type": "code",
   "execution_count": 7,
   "metadata": {},
   "outputs": [
    {
     "name": "stdout",
     "output_type": "stream",
     "text": [
      "我结束了\n"
     ]
    }
   ],
   "source": [
    "#定义一个函数\n",
    "#只是定义的话不会执行\n",
    "# def关键字，后面跟一个空格\n",
    "#函数名自己定义，起名需要遵循命名规则，大驼峰只给类用\n",
    "#括号内可以有参数，后面都括号和冒号不能省\n",
    "#函数内所有代码缩进\n",
    "def func():\n",
    "    print(\"我是一个函数\")\n",
    "    print(\"我要完成一个功能\")#注意缩进\n",
    "print(\"我结束了\") #注意缩进"
   ]
  },
  {
   "cell_type": "code",
   "execution_count": 8,
   "metadata": {},
   "outputs": [
    {
     "name": "stdout",
     "output_type": "stream",
     "text": [
      "我是一个函数\n",
      "我要完成一个功能\n"
     ]
    }
   ],
   "source": [
    "#调用函数\n",
    "#直接函数名后面跟括号\n",
    "func()"
   ]
  },
  {
   "cell_type": "markdown",
   "metadata": {},
   "source": [
    "### 函数都参数和返回值\n",
    "- 参数: 负责给函数传递一些必要都数据或者信息\n",
    "        - 形参（形式参数）：没有具体值，只是一个占位符号\n",
    "        - 实参 （实际参数）： 在调用函数的时候输入的值\n",
    "- 返回值： 函数的执行结果\n",
    "        - 使用return\n",
    "        - 如果没有return，系统return None\n",
    "        - 函数一旦执行return的语句，则无条件返回，结束函数的执行"
   ]
  },
  {
   "cell_type": "code",
   "execution_count": 9,
   "metadata": {},
   "outputs": [
    {
     "name": "stdout",
     "output_type": "stream",
     "text": [
      "abc, what happened\n"
     ]
    }
   ],
   "source": [
    "# 参数都定义和使用\n",
    "# 参数person只是一个符号，代表的是调用的时候某个数据\n",
    "# 调用都时候，用p的值代替函数中所有都person\n",
    "def hello(person): #person只是一个符号\n",
    "    print(\"{0}, what happened\".format(person))\n",
    "\n",
    "p = \"abc\"\n",
    "hello(p)"
   ]
  },
  {
   "cell_type": "code",
   "execution_count": 11,
   "metadata": {},
   "outputs": [
    {
     "name": "stdout",
     "output_type": "stream",
     "text": [
      "abc, what happened\n"
     ]
    },
    {
     "data": {
      "text/plain": [
       "'abc,abc'"
      ]
     },
     "execution_count": 11,
     "metadata": {},
     "output_type": "execute_result"
    }
   ],
   "source": [
    " # return使用\n",
    "def hello(person): #person只是一个符号\n",
    "    print(\"{0}, what happened\".format(person))\n",
    "    \n",
    "    return \"{0},{1}\".format(person,person)\n",
    "\n",
    "p = \"abc\"\n",
    "hello(p)\n",
    "    "
   ]
  },
  {
   "cell_type": "code",
   "execution_count": 26,
   "metadata": {},
   "outputs": [
    {
     "name": "stdout",
     "output_type": "stream",
     "text": [
      "abc, what happened\n",
      "abc,abc\n"
     ]
    }
   ],
   "source": [
    "# return案例2\n",
    "def hello(person): #person只是一个符号\n",
    "    print(\"{0}, what happened\".format(person))\n",
    "    \n",
    "    return \"{0},{1}\".format(person,person)\n",
    "    print (\"1234\") #return之后函数结束，之后都不管\n",
    "\n",
    "p =\"abc\"\n",
    "rst = hello(p)\n",
    "print  (rst)\n"
   ]
  },
  {
   "cell_type": "code",
   "execution_count": 27,
   "metadata": {},
   "outputs": [
    {
     "name": "stdout",
     "output_type": "stream",
     "text": [
      "Help on built-in function print in module builtins:\n",
      "\n",
      "print(...)\n",
      "    print(value, ..., sep=' ', end='\\n', file=sys.stdout, flush=False)\n",
      "    \n",
      "    Prints the values to a stream, or to sys.stdout by default.\n",
      "    Optional keyword arguments:\n",
      "    file:  a file-like object (stream); defaults to the current sys.stdout.\n",
      "    sep:   string inserted between values, default a space.\n",
      "    end:   string appended after the last value, default a newline.\n",
      "    flush: whether to forcibly flush the stream.\n",
      "\n"
     ]
    }
   ],
   "source": [
    "#查找函数帮助文档\n",
    "help(print)"
   ]
  },
  {
   "cell_type": "code",
   "execution_count": 30,
   "metadata": {},
   "outputs": [
    {
     "name": "stdout",
     "output_type": "stream",
     "text": [
      "1 ...\n",
      "2 4 ...\n",
      "3 6 9 ...\n",
      "4 8 12 16 ...\n",
      "5 10 15 20 25 ...\n",
      "6 12 18 24 30 36 ...\n",
      "7 14 21 28 35 42 49 ...\n",
      "8 16 24 32 40 48 56 64 ...\n",
      "9 18 27 36 45 54 63 72 81 ...\n"
     ]
    }
   ],
   "source": [
    "#九九乘法表\n",
    "\n",
    "for row in range(1,10):\n",
    "    #打印一行\n",
    "    #print(\"{0}\".format(row))\n",
    "    for col in range(1, row+1):\n",
    "        #print函数默认任务完成后换行\n",
    "        print(\"{0}\".format(row*col), end = \" \")\n",
    "    print(\"...\")"
   ]
  },
  {
   "cell_type": "code",
   "execution_count": 39,
   "metadata": {},
   "outputs": [
    {
     "name": "stdout",
     "output_type": "stream",
     "text": [
      "1 \n",
      "2 4 \n",
      "3 6 9 \n",
      "4 8 12 16 \n",
      "5 10 15 20 25 \n",
      "6 12 18 24 30 36 \n",
      "7 14 21 28 35 42 49 \n",
      "8 16 24 32 40 48 56 64 \n",
      "9 18 27 36 45 54 63 72 81 \n"
     ]
    }
   ],
   "source": [
    "# 定义一个函数，打印99一行\n",
    "def printline(row):\n",
    "    for col in range(1, row+1):\n",
    "        #print函数默认任务完成后换行\n",
    "        print(\"{0}\".format(row*col), end = \" \") #自动换行的符号替换了，要替换的时候傻了\n",
    "    print(\"\")#加一个print 自动换行\n",
    "    pass\n",
    "\n",
    "for row in range(1,10):\n",
    "    printline(row)"
   ]
  },
  {
   "cell_type": "code",
   "execution_count": null,
   "metadata": {
    "collapsed": true
   },
   "outputs": [],
   "source": [
    " ## 参数详解\n",
    "    参数分类\n",
    "        - 普通参数\n",
    "        - 默认参数\n",
    "        - 关键字参数\n",
    "        - 收集参数\n",
    "    "
   ]
  },
  {
   "cell_type": "markdown",
   "metadata": {},
   "source": [
    "# 普通参数\n",
    "    -参见上例\n",
    "    -定义的时候直接定义变量名\n",
    "    -调用都时候直接把变量或者值放入指定位置\n",
    "    \n",
    "    def 函数名（参数1，参数2..）\n",
    "        函数体\n",
    "    #调用\n",
    "    函数名（value1，valu2. ）\n",
    "    #调用的时候，具体参数参考的是位置，按位置赋值\n",
    "-默认参数\n",
    "  - 调用的时候，没有值用默认参数\n",
    "    \n",
    "    def fun_name(p1=v1,p2=v2...)\n",
    "        func_block\n",
    "    调用1\n",
    "    func_name()\n",
    "    value1 = 100\n",
    "    value2 = 200\n",
    "    func_name(value1,value2)\n",
    "    "
   ]
  },
  {
   "cell_type": "code",
   "execution_count": 47,
   "metadata": {},
   "outputs": [
    {
     "name": "stdout",
     "output_type": "stream",
     "text": [
      "he is 21, and he is a good student\n",
      "she is 22, and she is a good student\n"
     ]
    }
   ],
   "source": [
    "# 默认参数实例\n",
    "\n",
    "def reg(name, age, gender =\"male\"):\n",
    "    if gender == \"male\":\n",
    "       print(\"{0} is {1}, and he is a good student\".format(name,age))\n",
    "    else:\n",
    "       print(\"{0} is {1}, and she is a good student\".format(name,age)) \n",
    "\n",
    "    \n",
    "reg(\"he\",21)\n",
    "reg(\"she\",22,\"female\")\n",
    "    "
   ]
  },
  {
   "cell_type": "code",
   "execution_count": 1,
   "metadata": {},
   "outputs": [
    {
     "name": "stdout",
     "output_type": "stream",
     "text": [
      "hello tanggu 先生 , welcome to python world!\n",
      "hello tanggu 先生, welcome to python world!\n"
     ]
    }
   ],
   "source": [
    "def print_hello(name, sex):\n",
    "    sex_dict = {1: '先生', 2: '女士'}\n",
    "    s = 'hello %s %s , welcome to python world!'\n",
    "    print (s%(name, sex_dict.get(sex, u'先生')))\n",
    "    \n",
    "    \n",
    "    print ('hello %s %s, welcome to python world!' %(name, sex_dict.get(sex)))\n",
    "    \n",
    "print_hello('tanggu', 1)"
   ]
  },
  {
   "cell_type": "code",
   "execution_count": null,
   "metadata": {
    "collapsed": true
   },
   "outputs": [],
   "source": []
  },
  {
   "cell_type": "code",
   "execution_count": null,
   "metadata": {
    "collapsed": true
   },
   "outputs": [],
   "source": []
  },
  {
   "cell_type": "code",
   "execution_count": null,
   "metadata": {
    "collapsed": true
   },
   "outputs": [],
   "source": []
  },
  {
   "cell_type": "code",
   "execution_count": null,
   "metadata": {
    "collapsed": true
   },
   "outputs": [],
   "source": []
  },
  {
   "cell_type": "code",
   "execution_count": null,
   "metadata": {
    "collapsed": true
   },
   "outputs": [],
   "source": []
  },
  {
   "cell_type": "code",
   "execution_count": null,
   "metadata": {
    "collapsed": true
   },
   "outputs": [],
   "source": []
  },
  {
   "cell_type": "code",
   "execution_count": null,
   "metadata": {
    "collapsed": true
   },
   "outputs": [],
   "source": []
  },
  {
   "cell_type": "code",
   "execution_count": null,
   "metadata": {
    "collapsed": true
   },
   "outputs": [],
   "source": []
  },
  {
   "cell_type": "code",
   "execution_count": null,
   "metadata": {
    "collapsed": true
   },
   "outputs": [],
   "source": []
  },
  {
   "cell_type": "code",
   "execution_count": null,
   "metadata": {
    "collapsed": true
   },
   "outputs": [],
   "source": []
  },
  {
   "cell_type": "code",
   "execution_count": null,
   "metadata": {
    "collapsed": true
   },
   "outputs": [],
   "source": []
  },
  {
   "cell_type": "code",
   "execution_count": null,
   "metadata": {
    "collapsed": true
   },
   "outputs": [],
   "source": []
  },
  {
   "cell_type": "code",
   "execution_count": null,
   "metadata": {
    "collapsed": true
   },
   "outputs": [],
   "source": []
  },
  {
   "cell_type": "code",
   "execution_count": null,
   "metadata": {
    "collapsed": true
   },
   "outputs": [],
   "source": []
  },
  {
   "cell_type": "code",
   "execution_count": null,
   "metadata": {
    "collapsed": true
   },
   "outputs": [],
   "source": []
  },
  {
   "cell_type": "code",
   "execution_count": null,
   "metadata": {
    "collapsed": true
   },
   "outputs": [],
   "source": []
  },
  {
   "cell_type": "code",
   "execution_count": null,
   "metadata": {
    "collapsed": true
   },
   "outputs": [],
   "source": []
  },
  {
   "cell_type": "code",
   "execution_count": null,
   "metadata": {
    "collapsed": true
   },
   "outputs": [],
   "source": []
  },
  {
   "cell_type": "code",
   "execution_count": null,
   "metadata": {
    "collapsed": true
   },
   "outputs": [],
   "source": []
  },
  {
   "cell_type": "code",
   "execution_count": null,
   "metadata": {
    "collapsed": true
   },
   "outputs": [],
   "source": []
  },
  {
   "cell_type": "code",
   "execution_count": null,
   "metadata": {
    "collapsed": true
   },
   "outputs": [],
   "source": []
  },
  {
   "cell_type": "code",
   "execution_count": null,
   "metadata": {
    "collapsed": true
   },
   "outputs": [],
   "source": []
  },
  {
   "cell_type": "code",
   "execution_count": null,
   "metadata": {
    "collapsed": true
   },
   "outputs": [],
   "source": []
  },
  {
   "cell_type": "code",
   "execution_count": null,
   "metadata": {
    "collapsed": true
   },
   "outputs": [],
   "source": [
    "\n"
   ]
  },
  {
   "cell_type": "code",
   "execution_count": null,
   "metadata": {
    "collapsed": true
   },
   "outputs": [],
   "source": []
  },
  {
   "cell_type": "code",
   "execution_count": null,
   "metadata": {
    "collapsed": true
   },
   "outputs": [],
   "source": []
  },
  {
   "cell_type": "code",
   "execution_count": null,
   "metadata": {
    "collapsed": true
   },
   "outputs": [],
   "source": []
  },
  {
   "cell_type": "code",
   "execution_count": null,
   "metadata": {
    "collapsed": true
   },
   "outputs": [],
   "source": []
  },
  {
   "cell_type": "code",
   "execution_count": null,
   "metadata": {
    "collapsed": true
   },
   "outputs": [],
   "source": []
  },
  {
   "cell_type": "code",
   "execution_count": null,
   "metadata": {
    "collapsed": true
   },
   "outputs": [],
   "source": []
  },
  {
   "cell_type": "code",
   "execution_count": null,
   "metadata": {
    "collapsed": true
   },
   "outputs": [],
   "source": []
  },
  {
   "cell_type": "code",
   "execution_count": null,
   "metadata": {
    "collapsed": true
   },
   "outputs": [],
   "source": []
  },
  {
   "cell_type": "code",
   "execution_count": null,
   "metadata": {
    "collapsed": true
   },
   "outputs": [],
   "source": []
  }
 ],
 "metadata": {
  "kernelspec": {
   "display_name": "Python 3",
   "language": "python",
   "name": "python3"
  },
  "language_info": {
   "codemirror_mode": {
    "name": "ipython",
    "version": 3
   },
   "file_extension": ".py",
   "mimetype": "text/x-python",
   "name": "python",
   "nbconvert_exporter": "python",
   "pygments_lexer": "ipython3",
   "version": "3.6.3"
  }
 },
 "nbformat": 4,
 "nbformat_minor": 2
}
