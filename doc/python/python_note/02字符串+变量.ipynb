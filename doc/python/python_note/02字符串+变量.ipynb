{
 "cells": [
  {
   "cell_type": "code",
   "execution_count": 7,
   "metadata": {},
   "outputs": [
    {
     "name": "stdout",
     "output_type": "stream",
     "text": [
      "i love\n"
     ]
    }
   ],
   "source": [
    "##字符串\n",
    "s = \"i love\"\n",
    "print(s)"
   ]
  },
  {
   "cell_type": "code",
   "execution_count": 17,
   "metadata": {},
   "outputs": [
    {
     "name": "stdout",
     "output_type": "stream",
     "text": [
      "let't go\n",
      "c:\\user\n",
      "I love \n",
      "xxx\n"
     ]
    }
   ],
   "source": [
    "## 用嵌套引号，外层用双引号\n",
    "##用转义字符 \\\n",
    "s= 'let\\'t go'\n",
    "print (s)\n",
    "# \\\\ = \\\n",
    "SSS =\"c:\\\\user\"\n",
    "print(SSS)\n",
    "#回车换行\n",
    "#windows:\\n\n",
    "#linux: \\r\\n   \\t制表符\n",
    "s1 = \"I love \\r\\nxxx\"\n",
    "print (s1) \n"
   ]
  },
  {
   "cell_type": "markdown",
   "metadata": {
    "collapsed": true
   },
   "source": [
    "## 格式化\n",
    "- 字符串按照一定格式打印或者填充\n",
    "- 利用百分号% \n",
    "    %d 放入一个整数\n",
    "    %s 放入一个字符串\n",
    "- 利用format函数"
   ]
  },
  {
   "cell_type": "code",
   "execution_count": 21,
   "metadata": {},
   "outputs": [
    {
     "name": "stdout",
     "output_type": "stream",
     "text": [
      "I love %s\n"
     ]
    }
   ],
   "source": [
    "s = \"xxx,你好\"\n",
    "ss = \"I love %s\"\n",
    "print(ss)"
   ]
  },
  {
   "cell_type": "code",
   "execution_count": 22,
   "metadata": {},
   "outputs": [
    {
     "name": "stdout",
     "output_type": "stream",
     "text": [
      "I love xxx\n"
     ]
    }
   ],
   "source": [
    "print(\"I love %s\" %\"xxx\")"
   ]
  },
  {
   "cell_type": "code",
   "execution_count": 27,
   "metadata": {},
   "outputs": [
    {
     "name": "stdout",
     "output_type": "stream",
     "text": [
      "I love xxx\n"
     ]
    }
   ],
   "source": [
    "print (ss%\"xxx\")"
   ]
  },
  {
   "cell_type": "code",
   "execution_count": 29,
   "metadata": {},
   "outputs": [
    {
     "name": "stdout",
     "output_type": "stream",
     "text": [
      "I am %d years old \n",
      "I am 18 years old \n"
     ]
    }
   ],
   "source": [
    "s = \"I am %d years old \"\n",
    "#区别\n",
    "print(s)\n",
    "print(s%18)"
   ]
  },
  {
   "cell_type": "code",
   "execution_count": 34,
   "metadata": {},
   "outputs": [
    {
     "name": "stdout",
     "output_type": "stream",
     "text": [
      "I am %s, I am %d years old\n",
      "I am xxx, I am 18 years old\n"
     ]
    }
   ],
   "source": [
    "s = \"I am %s, I am %d years old\"\n",
    "print(s)\n",
    "##注意以下报错的原因\n",
    "## print(s%\"abc\") #typeerror 类型相关 not enough arguments for format string\n",
    "print(s%(\"xxx\",18)) #用括号括起来"
   ]
  },
  {
   "cell_type": "markdown",
   "metadata": {},
   "source": [
    "## format函数格式化\n",
    "- 直接用format\n",
    "- 推荐用这个办法， 以｛｝和： 代替%号，后面用format带参数完成"
   ]
  },
  {
   "cell_type": "code",
   "execution_count": 41,
   "metadata": {},
   "outputs": [
    {
     "name": "stdout",
     "output_type": "stream",
     "text": [
      "I love xxx\n",
      "I am 18 years old, I love xxx and I am 18 years old\n"
     ]
    }
   ],
   "source": [
    "s = \"I love {}\".format(\"xxx\")\n",
    "print(s)\n",
    "ss = \"I am {1} years old, I love {0} and I am {1} years old\".format(\"xxx\",18)\n",
    "print (ss)"
   ]
  },
  {
   "cell_type": "markdown",
   "metadata": {},
   "source": [
    "## None\n",
    "- 什么都没有\n",
    "- 函数以return为结果，可以返回None\n",
    "- 用来占位\n",
    "- 用来解除变量绑定"
   ]
  },
  {
   "cell_type": "markdown",
   "metadata": {},
   "source": [
    "## 表达式和运算符\n",
    "- 运算符分类\n",
    "    - 算数运算符\n",
    "    - 比较或者关系运算符\n",
    "    - 赋值运算符\n",
    "    - 逻辑运算符\n",
    "    - 位运算\n",
    "    - 成员运算\n",
    "    - 身份运算符\n",
    "    "
   ]
  },
  {
   "cell_type": "markdown",
   "metadata": {},
   "source": [
    "#### 算数运算符 \n",
    "和正常都运算符一样 \n",
    "python没有自增自减运算符"
   ]
  },
  {
   "cell_type": "code",
   "execution_count": 50,
   "metadata": {},
   "outputs": [
    {
     "name": "stdout",
     "output_type": "stream",
     "text": [
      "10\n",
      "6\n",
      "2.6666666666666665\n",
      "2\n",
      "3\n",
      "8\n"
     ]
    }
   ],
   "source": [
    "a = 9+3-2\n",
    "print(a)\n",
    "a = 2*3\n",
    "print(a)\n",
    "##除号（/）以3系列为准 数学意义上的除法 \n",
    "a = 8/3\n",
    "print(a)\n",
    "# %取余运算\n",
    "a =  8 %3\n",
    "print(a)\n",
    "# // 取商\n",
    "a = 10//3\n",
    "print(a)\n",
    "# ** 表示幂运算\n",
    "a = 2**3\n",
    "print(a)"
   ]
  },
  {
   "cell_type": "markdown",
   "metadata": {
    "collapsed": true
   },
   "source": [
    "#### 比较运算符\n",
    "- 对两个变量或者值进行比较都运算符\n",
    "- 比较结果是个布尔值，true/false"
   ]
  },
  {
   "cell_type": "code",
   "execution_count": 4,
   "metadata": {},
   "outputs": [
    {
     "name": "stdout",
     "output_type": "stream",
     "text": [
      "False\n",
      "True\n"
     ]
    }
   ],
   "source": [
    "## ==，等于号\n",
    "a = 3**4\n",
    "##执行顺序\n",
    "##1. a==80 a等于80吗 把布尔值赋值给b\n",
    "##2. 把结果放入b中\n",
    "b = a ==80\n",
    "print(b)\n",
    "\n",
    "## ！= 不等于\n",
    "print (9!=8)\n",
    "\n",
    "# 大于> \n",
    "# 小于<\n",
    "# 结果为布尔值"
   ]
  },
  {
   "cell_type": "markdown",
   "metadata": {},
   "source": [
    "#### 赋值运算符"
   ]
  },
  {
   "cell_type": "code",
   "execution_count": 8,
   "metadata": {},
   "outputs": [
    {
     "name": "stdout",
     "output_type": "stream",
     "text": [
      "7\n"
     ]
    }
   ],
   "source": [
    "# = ，赋值\n",
    "a = 0\n",
    "c = a =4\n",
    "# +=\n",
    "a = 0\n",
    "a += 7 # a=a+7\n",
    "print(a)\n",
    "\n",
    "# -=,/=,//=,%=,**= 缩写形式"
   ]
  },
  {
   "cell_type": "markdown",
   "metadata": {},
   "source": [
    "#### 逻辑运算符\n",
    "- 对布尔值进行计算的符号\n",
    "- and or not 逻辑与 或 非"
   ]
  },
  {
   "cell_type": "code",
   "execution_count": 11,
   "metadata": {},
   "outputs": [
    {
     "name": "stdout",
     "output_type": "stream",
     "text": [
      "True\n"
     ]
    }
   ],
   "source": [
    "a = True\n",
    "b = False\n",
    "c = True\n",
    "d = a and b or c\n",
    "print(d)\n",
    "\n"
   ]
  },
  {
   "cell_type": "code",
   "execution_count": null,
   "metadata": {
    "collapsed": true
   },
   "outputs": [],
   "source": [
    "a = True or xxxxx #a一定为true\n",
    "\n",
    "a = False and xxxxx #a一定为false\n"
   ]
  },
  {
   "cell_type": "markdown",
   "metadata": {
    "collapsed": true
   },
   "source": [
    "#### 成员运算符号\n",
    "用来检测一个变量是否是另外一个变量都成员\n",
    "in\n",
    "not in"
   ]
  },
  {
   "cell_type": "code",
   "execution_count": 13,
   "metadata": {},
   "outputs": [
    {
     "name": "stdout",
     "output_type": "stream",
     "text": [
      "False\n",
      "True\n"
     ]
    }
   ],
   "source": [
    "L = [1,2,3,4,5]\n",
    "a = 7\n",
    "b = a in L\n",
    "print (b)\n",
    "a = 4\n",
    "print (a in L)"
   ]
  },
  {
   "cell_type": "markdown",
   "metadata": {},
   "source": [
    "#### 身份运算\n",
    "- 用来检测两个变量是否为同一个变量 is\n",
    "    -语法 var1 is var2\n",
    "  "
   ]
  },
  {
   "cell_type": "code",
   "execution_count": 14,
   "metadata": {},
   "outputs": [
    {
     "name": "stdout",
     "output_type": "stream",
     "text": [
      "True\n"
     ]
    }
   ],
   "source": [
    "a = 9\n",
    "b = 9\n",
    "print (a is b)\n"
   ]
  },
  {
   "cell_type": "markdown",
   "metadata": {},
   "source": [
    "##运算符的优先级问题"
   ]
  }
 ],
 "metadata": {
  "kernelspec": {
   "display_name": "Python 3",
   "language": "python",
   "name": "python3"
  },
  "language_info": {
   "codemirror_mode": {
    "name": "ipython",
    "version": 3
   },
   "file_extension": ".py",
   "mimetype": "text/x-python",
   "name": "python",
   "nbconvert_exporter": "python",
   "pygments_lexer": "ipython3",
   "version": "3.6.3"
  }
 },
 "nbformat": 4,
 "nbformat_minor": 2
}
