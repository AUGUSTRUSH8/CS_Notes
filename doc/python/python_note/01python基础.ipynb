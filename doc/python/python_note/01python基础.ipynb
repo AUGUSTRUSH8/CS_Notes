{
 "cells": [
  {
   "cell_type": "markdown",
   "metadata": {},
   "source": [
    "# python 基础\n",
    "\n"
   ]
  },
  {
   "cell_type": "code",
   "execution_count": 29,
   "metadata": {},
   "outputs": [
    {
     "name": "stdout",
     "output_type": "stream",
     "text": [
      "['False', 'None', 'True', 'and', 'as', 'assert', 'break', 'class', 'continue', 'def', 'del', 'elif', 'else', 'except', 'finally', 'for', 'from', 'global', 'if', 'import', 'in', 'is', 'lambda', 'nonlocal', 'not', 'or', 'pass', 'raise', 'return', 'try', 'while', 'with', 'yield']\n"
     ]
    }
   ],
   "source": [
    "import keyword\n",
    "print (keyword.kwlist)"
   ]
  },
  {
   "cell_type": "code",
   "execution_count": 32,
   "metadata": {
    "scrolled": true
   },
   "outputs": [
    {
     "name": "stdout",
     "output_type": "stream",
     "text": [
      "12\n",
      "32\n",
      "45\n"
     ]
    }
   ],
   "source": [
    "age4,age5,age6 = 12,32,45\n",
    "print(age4)\n",
    "print(age5)\n",
    "print(age6)\n",
    "      "
   ]
  },
  {
   "cell_type": "markdown",
   "metadata": {},
   "source": [
    "## 数字类型\n",
    "- 数字类型没有大小限制 bignumber 只要内存装都下\n",
    "\n",
    "## 整数\n",
    "    - 整数 没有小数部分 \n",
    "    - 自然数 负自然数 0\n",
    "    - 整数分进制\n",
    "        -二进制\n",
    "            机器常用\n",
    "            是计算机唯一能理解的数字\n",
    "            已0b为开头都0，1代码 0b00101\n",
    "        -八进制\n",
    "            以0o开头包含0-7的数字\n",
    "        -十进制\n",
    "        -十六进制\n",
    "            其实是每四位二进制表示一位十六进制数\n",
    "            0-9 a-f\n",
    "            数字上以0x开头表示\n",
    "       "
   ]
  },
  {
   "cell_type": "code",
   "execution_count": 38,
   "metadata": {},
   "outputs": [
    {
     "name": "stdout",
     "output_type": "stream",
     "text": [
      "18\n",
      "18\n",
      "66\n",
      "65300\n"
     ]
    }
   ],
   "source": [
    "age = 18\n",
    "print (age)\n",
    "age = 0b10010\n",
    "print (age)\n",
    "age = 0o102\n",
    "print(age)\n",
    "age = 0xff14 #ff表示1111 1111\n",
    "print(age)"
   ]
  },
  {
   "cell_type": "markdown",
   "metadata": {},
   "source": [
    "### 浮点数\n",
    "- 小数\n",
    "- 计算机表示浮点数可以有条件省略\n",
    "- 3.1415\n",
    "- 3.\n",
    "- 0.5\n",
    "- .5\n",
    "- 科学计数法\n",
    "    - 定义科学\n",
    "    - 用e/E后面跟着整数表示10点的指数\n",
    "    - 176.23 = 1.7623e2"
   ]
  },
  {
   "cell_type": "code",
   "execution_count": 42,
   "metadata": {},
   "outputs": [
    {
     "name": "stdout",
     "output_type": "stream",
     "text": [
      "156.34\n",
      "0.2\n",
      "0.6\n"
     ]
    }
   ],
   "source": [
    "height = 156.34\n",
    "print(height)\n",
    "shili = 0.2\n",
    "print(shili)\n",
    "shili = .6\n",
    "print(shili)"
   ]
  },
  {
   "cell_type": "markdown",
   "metadata": {},
   "source": [
    "#### 复数 complex\n",
    "- 一共由实数和虚部构成的数字\n",
    "- 虚部用j/J表示\n",
    "- 5+3j\n",
    "- 3j"
   ]
  },
  {
   "cell_type": "markdown",
   "metadata": {},
   "source": [
    "### 布尔值\n",
    "- 表示真假的值\n",
    "- True/False\n",
    "- 可以直接跟数字操作\n"
   ]
  },
  {
   "cell_type": "code",
   "execution_count": 48,
   "metadata": {},
   "outputs": [
    {
     "name": "stdout",
     "output_type": "stream",
     "text": [
      "19\n"
     ]
    }
   ],
   "source": [
    "age = 18 + True\n",
    "print(age)"
   ]
  },
  {
   "cell_type": "markdown",
   "metadata": {},
   "source": [
    "## 字符串\n",
    "- 用來表示一串文字信息\n",
    "- 如何表示\n",
    "    -单引号\n",
    "    -双引号\n",
    "    -三引号（三个单引号或者三个双引号）\n",
    "        - 能够扩起多行信息\n",
    "- 单双引号可以交错使用"
   ]
  },
  {
   "cell_type": "code",
   "execution_count": 57,
   "metadata": {
    "scrolled": true
   },
   "outputs": [
    {
     "name": "stdout",
     "output_type": "stream",
     "text": [
      "abc\n",
      "aaaa\n",
      " \n",
      "i love \n",
      "我爱\n",
      "哈哈哈\n",
      "\n",
      "\n"
     ]
    }
   ],
   "source": [
    "love = \"abc\"\n",
    "print(love)\n",
    "love = 'aaaa'\n",
    "print(love)\n",
    "\n",
    "html = '<a style = \"color :red\">hahha</a>'\n",
    "htmls =''' \n",
    "i love \n",
    "我爱\n",
    "哈哈哈\n",
    "\n",
    "'''\n",
    "print(htmls)"
   ]
  }
 ],
 "metadata": {
  "kernelspec": {
   "display_name": "Python 3",
   "language": "python",
   "name": "python3"
  },
  "language_info": {
   "codemirror_mode": {
    "name": "ipython",
    "version": 3
   },
   "file_extension": ".py",
   "mimetype": "text/x-python",
   "name": "python",
   "nbconvert_exporter": "python",
   "pygments_lexer": "ipython3",
   "version": "3.6.3"
  }
 },
 "nbformat": 4,
 "nbformat_minor": 2
}
