{
 "cells": [
  {
   "cell_type": "markdown",
   "metadata": {},
   "source": [
    "# 关于元祖的函数\n",
    "- 以下函数， 对list基本使用"
   ]
  },
  {
   "cell_type": "code",
   "execution_count": 1,
   "metadata": {},
   "outputs": [
    {
     "data": {
      "text/plain": [
       "5"
      ]
     },
     "execution_count": 1,
     "metadata": {},
     "output_type": "execute_result"
    }
   ],
   "source": [
    "#len: 获取元祖的长度\n",
    "t = (1,2,3,4,5)\n",
    "len(t)"
   ]
  },
  {
   "cell_type": "code",
   "execution_count": 2,
   "metadata": {},
   "outputs": [
    {
     "name": "stdout",
     "output_type": "stream",
     "text": [
      "5\n",
      "1\n"
     ]
    }
   ],
   "source": [
    "# max, min:\n",
    "print(max(t))\n",
    "print(min(t))"
   ]
  },
  {
   "cell_type": "code",
   "execution_count": 5,
   "metadata": {},
   "outputs": [
    {
     "name": "stdout",
     "output_type": "stream",
     "text": [
      "(1, 2, 3, 4, 5)\n",
      "()\n"
     ]
    }
   ],
   "source": [
    "# tuple 转化成或创建元祖\n",
    "l = [1,2,3,4,5]\n",
    "t = tuple(l)\n",
    "print(t)\n",
    "\n",
    "t = tuple()\n",
    "print (t)"
   ]
  },
  {
   "cell_type": "markdown",
   "metadata": {},
   "source": [
    "# 元祖的函数\n",
    "- 基本和list通用，除了append等（改变了元祖）"
   ]
  },
  {
   "cell_type": "code",
   "execution_count": 8,
   "metadata": {},
   "outputs": [
    {
     "name": "stdout",
     "output_type": "stream",
     "text": [
      "3\n",
      "1\n"
     ]
    }
   ],
   "source": [
    "# count()： 计算指定数据出现的次数\n",
    "t = (1,2,3,4,2,5,6,2,3,4,5)\n",
    "print(t.count(2))\n",
    "\n",
    "# index: 求指定元素在元祖中的索引的位置, 返回第一个\n",
    "print(t.index(2))"
   ]
  },
  {
   "cell_type": "markdown",
   "metadata": {},
   "source": [
    "# 元祖变量交换法\n",
    "- 两个变量交换值"
   ]
  },
  {
   "cell_type": "code",
   "execution_count": 14,
   "metadata": {},
   "outputs": [
    {
     "name": "stdout",
     "output_type": "stream",
     "text": [
      "3\n",
      "1\n",
      "***\n",
      "1\n",
      "3\n"
     ]
    }
   ],
   "source": [
    "a = 1\n",
    "b = 3\n",
    "\n",
    "# java的写法\n",
    "c = a\n",
    "a = b\n",
    "b = c\n",
    "print (a)\n",
    "print (b)\n",
    "\n",
    "print ('***')\n",
    "\n",
    "# python\n",
    "a, b = b, a\n",
    "print (a)\n",
    "print (b)\n"
   ]
  },
  {
   "cell_type": "markdown",
   "metadata": {},
   "source": [
    "# 集合 set\n",
    "- 一堆确定的无序的唯一的数据，集合中每一个数据成为一个元素"
   ]
  },
  {
   "cell_type": "code",
   "execution_count": 19,
   "metadata": {},
   "outputs": [
    {
     "name": "stdout",
     "output_type": "stream",
     "text": [
      "<class 'set'>\n",
      "set()\n",
      "{1, 4, 5, 6, 23}\n"
     ]
    }
   ],
   "source": [
    "# 集合的定义\n",
    "\n",
    "s = set()\n",
    "print (type(s))\n",
    "print (s)\n",
    "## 大括号里面一定要有值，否则定义的是一个dict\n",
    "s = {1,23,4,5,6}\n",
    "print (s)"
   ]
  },
  {
   "cell_type": "code",
   "execution_count": 18,
   "metadata": {},
   "outputs": [
    {
     "name": "stdout",
     "output_type": "stream",
     "text": [
      "<class 'dict'>\n",
      "{}\n"
     ]
    }
   ],
   "source": [
    "# 如果只用大括号定义，则定义的是一个dict类型\n",
    "d = {}\n",
    "print (type(d))\n",
    "print (d)"
   ]
  },
  {
   "cell_type": "markdown",
   "metadata": {},
   "source": [
    "# 集合的特征\n",
    "- 集合内数据无序，即无法使用索引和分片\n",
    "- 集合内数据元素具有唯一性，可以用来排除重复数据\n",
    "- 集合内的数据，str，int，float， tuple， 冰冻集合等，即内部自能放置可哈希数据\n",
    "\n",
    "# 集合序列操作"
   ]
  },
  {
   "cell_type": "code",
   "execution_count": 24,
   "metadata": {},
   "outputs": [
    {
     "name": "stdout",
     "output_type": "stream",
     "text": [
      "{'one', 4, 5, 6, 'love', 'i'}\n",
      "ok\n",
      "ok\n"
     ]
    }
   ],
   "source": [
    "# 成员检测\n",
    "# in， not in\n",
    "s = {4,5,6,'i','love','one'}\n",
    "print (s) #打印的结果无序\n",
    "\n",
    "if 'love' in s:\n",
    "    print ('ok')\n",
    "if 'two' not in s:\n",
    "    print ('ok')"
   ]
  },
  {
   "cell_type": "markdown",
   "metadata": {},
   "source": [
    "# 集合的遍历操作"
   ]
  },
  {
   "cell_type": "code",
   "execution_count": 27,
   "metadata": {},
   "outputs": [
    {
     "name": "stdout",
     "output_type": "stream",
     "text": [
      "one 4 5 6 love i "
     ]
    }
   ],
   "source": [
    "# for 循环\n",
    "s = {4,5,6,'i','love','one'}\n",
    "\n",
    "for i in s:\n",
    "    print (i, end =\" \") #说明set的无序性"
   ]
  },
  {
   "cell_type": "code",
   "execution_count": 30,
   "metadata": {},
   "outputs": [
    {
     "name": "stdout",
     "output_type": "stream",
     "text": [
      "i  ... love ... one\n",
      "4  ... 5 ... 6\n",
      "1  ... 2 ... 3\n",
      "('i', 'love', 'one')\n",
      "(4, 5, 6)\n",
      "(1, 2, 3)\n"
     ]
    }
   ],
   "source": [
    "# 带有元祖的集合遍历\n",
    "s = {(1,2,3),(4,5,6),('i','love','one')}\n",
    "#s = {{1,2,3},{4,5,6}{'i','love','one'}} set 不可hash，如果用for，内部不能放set \n",
    "\n",
    "for k,m,n in s:\n",
    "    print(k, \" ...\", m,\"...\",n)\n",
    "for k in s:\n",
    "    print(k) # k是tuple元素"
   ]
  },
  {
   "cell_type": "markdown",
   "metadata": {},
   "source": [
    "# 集合的内涵\n"
   ]
  },
  {
   "cell_type": "code",
   "execution_count": 32,
   "metadata": {},
   "outputs": [
    {
     "name": "stdout",
     "output_type": "stream",
     "text": [
      "{1, 2, 3, 4, 5, 66, 7, 8, 33, 6, 22}\n",
      "{1, 2, 3, 4, 5, 66, 7, 8, 33, 6, 22}\n"
     ]
    }
   ],
   "source": [
    "# 普通集合内涵\n",
    "# 初始化之后自动过滤掉重复元素\n",
    "s = {1,2,3,4,5,66,7,8,22,33,1,2,3,4,6,7,4,1,2,3}\n",
    "print (s)\n",
    "\n",
    "#普通集合内涵\n",
    "\n",
    "ss = {i for i in s}\n",
    "print (ss)"
   ]
  },
  {
   "cell_type": "code",
   "execution_count": 33,
   "metadata": {},
   "outputs": [
    {
     "name": "stdout",
     "output_type": "stream",
     "text": [
      "{2, 66, 4, 6, 8, 22}\n"
     ]
    }
   ],
   "source": [
    "# 带条件的集合内涵\n",
    "sss = {i for i in s if i%2 ==0}\n",
    "print (sss)"
   ]
  },
  {
   "cell_type": "code",
   "execution_count": 36,
   "metadata": {},
   "outputs": [
    {
     "name": "stdout",
     "output_type": "stream",
     "text": [
      "{'cc', 'dd', 'aa', 'c', 'ccc', 'aaa', 'cccc', 'd', 'ddd', 'b', 'bbb', 'bb', 'dddd', 'a', 'aaaa', 'bbbb'}\n",
      "{'bb', 'cc', 'dd', 'aa'}\n"
     ]
    }
   ],
   "source": [
    "# 多循环的集合内涵\n",
    "s1 = {1,2,3,4}\n",
    "s2 = {\"a\",\"b\",\"c\",\"d\"}\n",
    "\n",
    "s = {m*n for m in s1 for n in s2} #无序\n",
    "print(s)\n",
    "\n",
    "s = {m*n for m in s1 for n in s2 if m==2} #无序\n",
    "print(s)"
   ]
  },
  {
   "cell_type": "markdown",
   "metadata": {},
   "source": [
    "# 集合函数/关于集合的函数"
   ]
  },
  {
   "cell_type": "code",
   "execution_count": 37,
   "metadata": {},
   "outputs": [
    {
     "name": "stdout",
     "output_type": "stream",
     "text": [
      "9\n",
      "10\n",
      "1\n"
     ]
    }
   ],
   "source": [
    "# len, max, min: 跟其他基本函数一致\n",
    "s1 = {1,2,3,4,1,2,3,5,6,8,9,9,10,10}\n",
    "print (len(s1))\n",
    "print (max(s1))\n",
    "print (min(s1))"
   ]
  },
  {
   "cell_type": "code",
   "execution_count": 38,
   "metadata": {},
   "outputs": [
    {
     "name": "stdout",
     "output_type": "stream",
     "text": [
      "{1, 2, 3, 4, 5, 6, 8, 9, 10}\n"
     ]
    }
   ],
   "source": [
    "# set:生成一个set集合\n",
    "s1 = [1,2,3,4,1,2,3,5,6,8,9,9,10]\n",
    "s = set(s1)\n",
    "print (s)\n"
   ]
  },
  {
   "cell_type": "code",
   "execution_count": 43,
   "metadata": {},
   "outputs": [
    {
     "name": "stdout",
     "output_type": "stream",
     "text": [
      "{1, 2, 3, 4, 5, 6, 8, 9, 10, 334}\n",
      "None\n"
     ]
    }
   ],
   "source": [
    "# add: 向集合内添加元素\n",
    "s1 = {1,2,3,4,1,2,3,5,6,8,9,9,10}\n",
    "s1.add(334)\n",
    "print(s1)"
   ]
  },
  {
   "cell_type": "code",
   "execution_count": 46,
   "metadata": {},
   "outputs": [
    {
     "name": "stdout",
     "output_type": "stream",
     "text": [
      "2508772093736\n",
      "2508772093736\n"
     ]
    }
   ],
   "source": [
    "# clear\n",
    "s1 = {1,2,3,4,1,2,3,5,6,8,9,9,10}\n",
    "print (id(s1))\n",
    "s1.clear()\n",
    "print (id(s1)) #clear函数只是原地清空"
   ]
  },
  {
   "cell_type": "code",
   "execution_count": 48,
   "metadata": {},
   "outputs": [
    {
     "name": "stdout",
     "output_type": "stream",
     "text": [
      "{1, 2, 3, 5, 6, 8, 9, 10}\n",
      "{2, 3, 5, 6, 8, 9, 10}\n"
     ]
    }
   ],
   "source": [
    "# copy：拷贝\n",
    "# remove：移除指定的值, 直接改变原有值，要删除的值不存在，就报错\n",
    "# discard： 移除集合中指定的值，要删除的值不存在，不报错\n",
    "s1 = {1,2,3,4,1,2,3,5,6,8,9,9,10}\n",
    "s1.remove(4)\n",
    "print(s1)\n",
    "s1.discard(1)\n",
    "print(s1)"
   ]
  },
  {
   "cell_type": "code",
   "execution_count": 49,
   "metadata": {},
   "outputs": [
    {
     "ename": "KeyError",
     "evalue": "4",
     "output_type": "error",
     "traceback": [
      "\u001b[1;31m---------------------------------------------------------------------------\u001b[0m",
      "\u001b[1;31mKeyError\u001b[0m                                  Traceback (most recent call last)",
      "\u001b[1;32m<ipython-input-49-43404cf9c0a6>\u001b[0m in \u001b[0;36m<module>\u001b[1;34m()\u001b[0m\n\u001b[1;32m----> 1\u001b[1;33m \u001b[0ms1\u001b[0m\u001b[1;33m.\u001b[0m\u001b[0mremove\u001b[0m\u001b[1;33m(\u001b[0m\u001b[1;36m4\u001b[0m\u001b[1;33m)\u001b[0m\u001b[1;33m\u001b[0m\u001b[0m\n\u001b[0m\u001b[0;32m      2\u001b[0m \u001b[0mprint\u001b[0m\u001b[1;33m(\u001b[0m\u001b[0ms1\u001b[0m\u001b[1;33m)\u001b[0m\u001b[1;33m\u001b[0m\u001b[0m\n",
      "\u001b[1;31mKeyError\u001b[0m: 4"
     ]
    }
   ],
   "source": [
    "s1.remove(4)\n",
    "print(s1) #4已经不存在，报错"
   ]
  },
  {
   "cell_type": "code",
   "execution_count": 50,
   "metadata": {},
   "outputs": [
    {
     "name": "stdout",
     "output_type": "stream",
     "text": [
      "{2, 3, 5, 6, 8, 9, 10}\n"
     ]
    }
   ],
   "source": [
    "s1.discard(1)\n",
    "print(s1) # 虽然之前就不存在1，不报错"
   ]
  },
  {
   "cell_type": "code",
   "execution_count": 54,
   "metadata": {},
   "outputs": [
    {
     "name": "stdout",
     "output_type": "stream",
     "text": [
      "{2, 3, 4, 5, 6, 8, 9, 10}\n",
      "1\n"
     ]
    }
   ],
   "source": [
    "# pop 随机移除一个元素\n",
    "s1 = {1,2,3,4,1,2,3,5,6,8,9,9,10}\n",
    "d = s1.pop()\n",
    "print(s1)\n",
    "print(d)"
   ]
  },
  {
   "cell_type": "code",
   "execution_count": 65,
   "metadata": {},
   "outputs": [
    {
     "name": "stdout",
     "output_type": "stream",
     "text": [
      "{5, 6}\n",
      "{1, 2, 3, 4}\n",
      "{1, 2, 3, 4, 5, 6, 7, 8, 9, 10}\n",
      "False\n",
      "True\n",
      "True\n"
     ]
    }
   ],
   "source": [
    "# 集合函数\n",
    "# intersection: 交集\n",
    "# difference: 差集\n",
    "# union: 并集\n",
    "# issubset: 检测一个集合是否为另一个子集\n",
    "# issuperset: 检测一个集合是否为另一个超集\n",
    "\n",
    "s1 = {1,2,3,4,5,6}\n",
    "s2 = {5,6,7,8,9,10}\n",
    "\n",
    "s_1 = s1.intersection(s2)\n",
    "print (s_1)\n",
    "\n",
    "s_2 = s1.difference(s2)\n",
    "print (s_2)\n",
    "\n",
    "s_3 = s1.union(s2)\n",
    "print (s_3)\n",
    "\n",
    "print(s1.issubset(s2))\n",
    "print(s2.issubset(s2))\n",
    "print(s2.issuperset(s2))"
   ]
  },
  {
   "cell_type": "code",
   "execution_count": 66,
   "metadata": {},
   "outputs": [
    {
     "name": "stdout",
     "output_type": "stream",
     "text": [
      "{1, 2, 3, 4}\n"
     ]
    }
   ],
   "source": [
    "# 集合的数学操作 #difference类似\n",
    "s1 = {1,2,3,4,5,6}\n",
    "s2 = {5,6,7,8,9,10}\n",
    "\n",
    "s_1 = s1 - s2\n",
    "print (s_1)"
   ]
  },
  {
   "cell_type": "markdown",
   "metadata": {},
   "source": [
    "# frozen set: 冰冻集合\n",
    "- 不可以进行任何修改的集合\n",
    "- 定义成冰冻集合\n",
    "- 就是一种特殊的集合"
   ]
  },
  {
   "cell_type": "code",
   "execution_count": 67,
   "metadata": {},
   "outputs": [
    {
     "name": "stdout",
     "output_type": "stream",
     "text": [
      "<class 'frozenset'>\n"
     ]
    }
   ],
   "source": [
    "# 创建\n",
    "s = frozenset()\n",
    "print(type(s))"
   ]
  },
  {
   "cell_type": "markdown",
   "metadata": {},
   "source": [
    "# dict字典\n",
    "- 字典是一种组合数据，没有顺序的组合数据，数据以健值对形式出现"
   ]
  },
  {
   "cell_type": "code",
   "execution_count": 75,
   "metadata": {},
   "outputs": [
    {
     "name": "stdout",
     "output_type": "stream",
     "text": [
      "{}\n",
      "{}\n",
      "{'one': 1, 'two': 2, 'three': 3}\n",
      "{'one': 1, 'two': 2, 'three': 3}\n",
      "{'one': 1, 'two': 2, 'three': 3}\n"
     ]
    }
   ],
   "source": [
    "# 字典的创建, 大括号完事，里面不填内容，填了内容就是set\n",
    "d = {}\n",
    "print (d)\n",
    "\n",
    "d = dict()\n",
    "print (d)\n",
    "\n",
    "#放进去的值必须是健值对, 每一组数据用冒号隔开，每一对健值对用冒号隔开\n",
    "d = {\"one\": 1,\"two\": 2,\"three\": 3}\n",
    "print (d)\n",
    "\n",
    "# 用dict创建有内容的字典\n",
    "d = dict({\"one\": 1,\"two\": 2,\"three\": 3})\n",
    "print (d)\n",
    "\n",
    "# 用dict创建有内容的字典\n",
    "# 利用关键字参数\n",
    "d = dict(one= 1,two= 2,three= 3)\n",
    "print (d)\n",
    "\n"
   ]
  },
  {
   "cell_type": "markdown",
   "metadata": {},
   "source": [
    "# 字典的特典\n",
    "- 字典是序列类型，但是是无序序列，所以没有分片和索引\n",
    "- 字典中的数据每个都有键值对组成，即kv对\n",
    "    - key：必须是可哈希的值，比如int，string，float，tuple 但是 list，set，dict不行\n",
    "    - value： 任何值"
   ]
  },
  {
   "cell_type": "markdown",
   "metadata": {},
   "source": [
    "# 字典常见\n",
    "\n"
   ]
  },
  {
   "cell_type": "code",
   "execution_count": 79,
   "metadata": {},
   "outputs": [
    {
     "name": "stdout",
     "output_type": "stream",
     "text": [
      "1\n",
      "{'one': 'eins', 'two': 2, 'three': 3}\n",
      "{'two': 2, 'three': 3}\n"
     ]
    }
   ],
   "source": [
    "#访问数据，给健值\n",
    "\n",
    "d = {'one': 1, 'two': 2, 'three': 3}\n",
    "# 中括号内放健值，要有引号\n",
    "print (d[\"one\"])\n",
    "\n",
    "d[\"one\"] = \"eins\"\n",
    "print (d)\n",
    "\n",
    "# 删除某个操作\n",
    "# 使用del操作\n",
    "del d[\"one\"]\n",
    "print (d)\n"
   ]
  },
  {
   "cell_type": "code",
   "execution_count": 85,
   "metadata": {},
   "outputs": [
    {
     "name": "stdout",
     "output_type": "stream",
     "text": [
      "value2\n"
     ]
    }
   ],
   "source": [
    "# 成员检测， in not in \n",
    "# 检测的是键key\n",
    "d = {'one': 1, 'two': 2, 'three': 3}\n",
    "\n",
    "if 2 in d:\n",
    "    print(\"value1\")\n",
    "    \n",
    "if \"two\" in d:\n",
    "    print(\"key\")\n",
    "    \n",
    "if (\"two\",2) in d:\n",
    "    print(\"key, value2\")"
   ]
  },
  {
   "cell_type": "code",
   "execution_count": 91,
   "metadata": {},
   "outputs": [
    {
     "name": "stdout",
     "output_type": "stream",
     "text": [
      "one 1\n",
      "two 2\n",
      "three 3\n",
      "one 1\n",
      "two 2\n",
      "three 3\n",
      "1\n",
      "2\n",
      "3\n",
      "one ... 1\n",
      "two ... 2\n",
      "three ... 3\n"
     ]
    },
    {
     "ename": "ValueError",
     "evalue": "too many values to unpack (expected 2)",
     "output_type": "error",
     "traceback": [
      "\u001b[1;31m---------------------------------------------------------------------------\u001b[0m",
      "\u001b[1;31mValueError\u001b[0m                                Traceback (most recent call last)",
      "\u001b[1;32m<ipython-input-91-a56e5b9e35a4>\u001b[0m in \u001b[0;36m<module>\u001b[1;34m()\u001b[0m\n\u001b[0;32m     18\u001b[0m \u001b[1;33m\u001b[0m\u001b[0m\n\u001b[0;32m     19\u001b[0m \u001b[1;31m# 这样写不行\u001b[0m\u001b[1;33m\u001b[0m\u001b[1;33m\u001b[0m\u001b[0m\n\u001b[1;32m---> 20\u001b[1;33m \u001b[1;32mfor\u001b[0m \u001b[0mk\u001b[0m\u001b[1;33m,\u001b[0m\u001b[0mv\u001b[0m \u001b[1;32min\u001b[0m \u001b[0md\u001b[0m\u001b[1;33m:\u001b[0m\u001b[1;33m\u001b[0m\u001b[0m\n\u001b[0m\u001b[0;32m     21\u001b[0m     \u001b[0mprint\u001b[0m \u001b[1;33m(\u001b[0m\u001b[0mk\u001b[0m\u001b[1;33m,\u001b[0m\u001b[1;34m\"...\"\u001b[0m\u001b[1;33m,\u001b[0m\u001b[0mv\u001b[0m\u001b[1;33m)\u001b[0m\u001b[1;33m\u001b[0m\u001b[0m\n",
      "\u001b[1;31mValueError\u001b[0m: too many values to unpack (expected 2)"
     ]
    }
   ],
   "source": [
    "# 按k值来使用for循环\n",
    "d = {'one': 1, 'two': 2, 'three': 3}\n",
    "# 使用for循环，直接按key值访问 访问的健值\n",
    "for k in d:\n",
    "    print(k,d[k])\n",
    "    \n",
    "# \n",
    "for k in d.keys():\n",
    "    print(k,d[k])\n",
    "\n",
    "# 只访问字典的值\n",
    "for v in d.values():\n",
    "    print(v)\n",
    "\n",
    "#\n",
    "for k,v in d.items():\n",
    "    print (k,\"...\",v)\n",
    "\n",
    "# 这样写不行    \n",
    "for k,v in d:\n",
    "    print (k,\"...\",v)"
   ]
  },
  {
   "cell_type": "code",
   "execution_count": 92,
   "metadata": {},
   "outputs": [
    {
     "name": "stdout",
     "output_type": "stream",
     "text": [
      "{'one': 1, 'two': 2, 'three': 3}\n"
     ]
    }
   ],
   "source": [
    "# 字典生成式\n",
    "d = {'one': 1, 'two': 2, 'three': 3}\n",
    "\n",
    "#常规字典生成式\n",
    "dd = {k:v for k,v in d.items()}\n",
    "print(dd)"
   ]
  },
  {
   "cell_type": "code",
   "execution_count": 93,
   "metadata": {},
   "outputs": [
    {
     "name": "stdout",
     "output_type": "stream",
     "text": [
      "{'two': 2}\n"
     ]
    }
   ],
   "source": [
    "#加限制条件，过滤后的字典生成式\n",
    "d = {'one': 1, 'two': 2, 'three': 3}\n",
    "dd = {k:v for k,v in d.items() if v%2==0}\n",
    "print(dd)\n"
   ]
  },
  {
   "cell_type": "markdown",
   "metadata": {},
   "source": [
    "# 字典相关函数"
   ]
  },
  {
   "cell_type": "code",
   "execution_count": 96,
   "metadata": {},
   "outputs": [
    {
     "name": "stdout",
     "output_type": "stream",
     "text": [
      "{'one': 1, 'two': 2, 'three': 3}\n"
     ]
    }
   ],
   "source": [
    "# 通用函数: len, max, min, dict\n",
    "# str(字典): 返回字典的字符串格式\n",
    "d = {'one': 1, 'two': 2, 'three': 3}\n",
    "print(str(d))"
   ]
  },
  {
   "cell_type": "code",
   "execution_count": 98,
   "metadata": {},
   "outputs": [
    {
     "name": "stdout",
     "output_type": "stream",
     "text": [
      "<class 'dict_items'>\n",
      "dict_items([('one', 1), ('two', 2), ('three', 3)])\n"
     ]
    }
   ],
   "source": [
    "# clear: 清空\n",
    "# items: 返回字典的键值对组成的元祖格式\n",
    "\n",
    "d = {'one': 1, 'two': 2, 'three': 3}\n",
    "i = d.items() #特殊的类型 可以迭代\n",
    "print(type(i))\n",
    "print(i)"
   ]
  },
  {
   "cell_type": "code",
   "execution_count": 99,
   "metadata": {},
   "outputs": [
    {
     "name": "stdout",
     "output_type": "stream",
     "text": [
      "<class 'dict_keys'>\n",
      "dict_keys(['one', 'two', 'three'])\n"
     ]
    }
   ],
   "source": [
    "# keys: 返回字典的键组成的一个结构, 可迭代的一个结构\n",
    "k = d.keys()\n",
    "print(type(k))\n",
    "print(k)"
   ]
  },
  {
   "cell_type": "code",
   "execution_count": 100,
   "metadata": {},
   "outputs": [
    {
     "name": "stdout",
     "output_type": "stream",
     "text": [
      "<class 'dict_values'>\n",
      "dict_values([1, 2, 3])\n"
     ]
    }
   ],
   "source": [
    "# values: 同理，一个可迭代的结构\n",
    "k = d.values()\n",
    "print(type(k))\n",
    "print(k)"
   ]
  },
  {
   "cell_type": "code",
   "execution_count": 104,
   "metadata": {},
   "outputs": [
    {
     "name": "stdout",
     "output_type": "stream",
     "text": [
      "1\n",
      "None\n",
      "100\n"
     ]
    }
   ],
   "source": [
    "# get: 根据指定的键返回相应的值，好处是，可以设置默认值\n",
    "d = {'one': 1, 'two': 2, 'three': 3}\n",
    "print(d.get('one'))\n",
    "print(d.get('233'))\n",
    "\n",
    "# get默认值是none，可以设置\n",
    "print(d.get('233',100)) #默认值返回100"
   ]
  },
  {
   "cell_type": "code",
   "execution_count": 105,
   "metadata": {},
   "outputs": [
    {
     "name": "stdout",
     "output_type": "stream",
     "text": [
      "{'a': 'hahaha', 'b': 'hahaha', 'c': 'hahaha', 'd': 'hahaha', 'e': 'hahaha'}\n"
     ]
    }
   ],
   "source": [
    "# fromkeys: 使用指定的序列作为键，使用一个值作为字典的所有键的值\n",
    "L = ['a','b','c','d','e']\n",
    "#注意fromkeys两个参数的类型\n",
    "#注意fromkeys的调用主体\n",
    "d = dict.fromkeys(L,'hahaha')\n",
    "print(d)"
   ]
  }
 ],
 "metadata": {
  "kernelspec": {
   "display_name": "Python 3",
   "language": "python",
   "name": "python3"
  },
  "language_info": {
   "codemirror_mode": {
    "name": "ipython",
    "version": 3
   },
   "file_extension": ".py",
   "mimetype": "text/x-python",
   "name": "python",
   "nbconvert_exporter": "python",
   "pygments_lexer": "ipython3",
   "version": "3.6.3"
  }
 },
 "nbformat": 4,
 "nbformat_minor": 2
}
