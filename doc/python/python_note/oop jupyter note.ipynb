{
 "cells": [
  {
   "cell_type": "code",
   "execution_count": 6,
   "metadata": {
    "scrolled": false
   },
   "outputs": [
    {
     "data": {
      "text/plain": [
       "{}"
      ]
     },
     "execution_count": 6,
     "metadata": {},
     "output_type": "execute_result"
    }
   ],
   "source": [
    "class Student():\n",
    "    name = 'abb'\n",
    "    age = 18\n",
    "    \n",
    "##双下划线    \n",
    "Student.__dict__ \n",
    "\n",
    "##创建一个实例，实例化，是一类人中的某一个\n",
    "student_a = Student()\n",
    "student_a.__dict__\n"
   ]
  },
  {
   "cell_type": "code",
   "execution_count": 7,
   "metadata": {},
   "outputs": [
    {
     "name": "stdout",
     "output_type": "stream",
     "text": [
      "abb\n",
      "18\n",
      "1907612747568\n",
      "1827889856\n",
      "********************\n",
      "abb\n",
      "18\n",
      "1907612747568\n",
      "1827889856\n"
     ]
    }
   ],
   "source": [
    "class A():\n",
    "    name = 'abb'\n",
    "    age = 18\n",
    "    \n",
    "    def say(self):\n",
    "        self.name = \"bbb\"\n",
    "        self.age = 200\n",
    "##此案例说明\n",
    "#类实例的属性和其对象的实例属性在不对对象实例赋值的前提下，指向同一个变量\n",
    "        \n",
    "## 此时，A称为类的实例       \n",
    "print(A.name)\n",
    "print(A.age)\n",
    "##id可以鉴别一个变量是否和另外一个变量是同一变量\n",
    "print(id(A.name))\n",
    "print(id(A.age))\n",
    "print('*'*20)\n",
    "a = A()\n",
    "print(a.name)\n",
    "print(a.age)  \n",
    "print(id(a.name))\n",
    "print(id(a.age))"
   ]
  },
  {
   "cell_type": "code",
   "execution_count": 9,
   "metadata": {},
   "outputs": [
    {
     "name": "stdout",
     "output_type": "stream",
     "text": [
      "abb\n",
      "18\n",
      "1907612747568\n",
      "1827889856\n",
      "********************\n",
      "{'__module__': '__main__', 'name': 'abb', 'age': 18, 'say': <function A.say at 0x000001BC269E1400>, '__dict__': <attribute '__dict__' of 'A' objects>, '__weakref__': <attribute '__weakref__' of 'A' objects>, '__doc__': None}\n",
      "{}\n",
      "{'name': 'cbb', 'age': 19}\n",
      "cbb\n",
      "19\n",
      "1907613369880\n",
      "1827889888\n"
     ]
    }
   ],
   "source": [
    "## 此时，A称为类的实例       \n",
    "print(A.name)\n",
    "print(A.age)\n",
    "##id可以鉴别一个变量是否和另外一个变量是同一变量\n",
    "print(id(A.name))\n",
    "print(id(A.age))\n",
    "print('*'*20)\n",
    "a = A()\n",
    "print(A.__dict__)\n",
    "print(a.__dict__)\n",
    "a.name = 'cbb'\n",
    "a.age = 19\n",
    "print(a.__dict__)\n",
    "print(a.name)\n",
    "print(a.age)  \n",
    "print(id(a.name))\n",
    "print(id(a.age))"
   ]
  },
  {
   "cell_type": "code",
   "execution_count": 21,
   "metadata": {},
   "outputs": [
    {
     "name": "stdout",
     "output_type": "stream",
     "text": [
      "my name is bcc\n",
      "myage is 200\n",
      "my name is bcc\n",
      "my age is 200\n"
     ]
    }
   ],
   "source": [
    "class student():\n",
    "    name = 'abb'\n",
    "    age = 18\n",
    "    \n",
    "    # 注意say的写法，参数由一个self\n",
    "    def say(self):\n",
    "        self.name = 'bcc'\n",
    "        self.age  = 200\n",
    "        print('my name is {0}'.format(self.name))\n",
    "        print('myage is {0}'.format(self.age))\n",
    "        \n",
    "    def sayAgain(s):\n",
    "        print('my name is {0}'.format(s.name))\n",
    "        print('my age is {0}'.format(s.age))\n",
    "## fbb直接代替self\n",
    "fbb = student()\n",
    "fbb.say()\n",
    "\n",
    "fbb.sayAgain()"
   ]
  },
  {
   "cell_type": "code",
   "execution_count": 22,
   "metadata": {},
   "outputs": [
    {
     "name": "stdout",
     "output_type": "stream",
     "text": [
      "my name is bcc\n",
      "my age is 200\n"
     ]
    }
   ],
   "source": [
    "class student():\n",
    "    name = 'abb'\n",
    "    age = 18\n",
    "    \n",
    "    # 注意say的写法，参数由一个self\n",
    "    def say(self):\n",
    "        self.name = 'bcc'\n",
    "        self.age  = 200\n",
    "        print('my name is {0}'.format(self.name))\n",
    "        print('my age is {0}'.format(self.age))\n",
    "\n",
    "fbb = student()\n",
    "fbb.say()"
   ]
  },
  {
   "cell_type": "code",
   "execution_count": 23,
   "metadata": {},
   "outputs": [
    {
     "name": "stdout",
     "output_type": "stream",
     "text": [
      "my name is bcc\n",
      "my age is 200\n",
      "hello\n"
     ]
    }
   ],
   "source": [
    "class Teacher():\n",
    "    name = 'mnn'\n",
    "    age = 19\n",
    "    \n",
    "    def say(self):\n",
    "        self.name = 'bcc'\n",
    "        self.age  = 200\n",
    "        print('my name is {0}'.format(self.name))\n",
    "        print('my age is {0}'.format(self.age))\n",
    "        \n",
    "    def sayAgain():\n",
    "        print('hello')\n",
    "        \n",
    "t = Teacher()\n",
    "t.say()\n",
    "\n",
    "#调用绑定类函数使用类名\n",
    "Teacher.sayAgain()"
   ]
  },
  {
   "cell_type": "code",
   "execution_count": 24,
   "metadata": {},
   "outputs": [
    {
     "name": "stdout",
     "output_type": "stream",
     "text": [
      "my name is bcc\n",
      "my age is 19\n",
      "mnn\n",
      "19\n"
     ]
    }
   ],
   "source": [
    "class Teacher():\n",
    "    name = 'mnn'\n",
    "    age = 19\n",
    "    \n",
    "    def say(self):\n",
    "        self.name = 'bcc'\n",
    "        self.age  = 200\n",
    "        print('my name is {0}'.format(self.name))\n",
    "        #调用类的成员变量需要用__class__\n",
    "        print('my age is {0}'.format(__class__.age))\n",
    "        \n",
    "    def sayAgain():\n",
    "        print(__class__.name)\n",
    "        print(__class__.age)\n",
    "        \n",
    "t = Teacher()\n",
    "t.say()\n",
    "Teacher.sayAgain()"
   ]
  },
  {
   "cell_type": "code",
   "execution_count": 29,
   "metadata": {},
   "outputs": [
    {
     "name": "stdout",
     "output_type": "stream",
     "text": [
      "bnnn\n",
      "200\n",
      "bnnn\n",
      "200\n",
      "abbc\n",
      "19\n",
      "mnnn\n",
      "20\n"
     ]
    }
   ],
   "source": [
    "# 关于self的案例\n",
    "\n",
    "class A():\n",
    "    name = 'abbc'\n",
    "    age = 19\n",
    "    ## 构造一个函数\n",
    "    def __init__(self):\n",
    "        self.name = 'bnnn'\n",
    "        self.age = 200\n",
    "    def say(self):\n",
    "        print(self.name)\n",
    "        print(self.age)\n",
    "        \n",
    "class B():\n",
    "    name = 'mnnn'\n",
    "    age = '20'\n",
    "\n",
    "a = A()\n",
    "#此时，系统会默认把a作为第一个参数传入函数\n",
    "a.say()\n",
    "\n",
    "# 此时, self被a替换\n",
    "A.say(a)\n",
    "# 调用A，要有参数 A.say()不对\n",
    "A.say(A)\n",
    "\n",
    "# 把B扔进去，传入的是类实例B，但是因为B具有name和age属性，所以不会报错\n",
    "A.say(B)\n",
    "\n",
    "# 以上代码，利用了鸭子模型"
   ]
  },
  {
   "cell_type": "code",
   "execution_count": 31,
   "metadata": {},
   "outputs": [
    {
     "name": "stdout",
     "output_type": "stream",
     "text": [
      "abc\n"
     ]
    },
    {
     "ename": "AttributeError",
     "evalue": "'Person' object has no attribute '__age'",
     "output_type": "error",
     "traceback": [
      "\u001b[1;31m---------------------------------------------------------------------------\u001b[0m",
      "\u001b[1;31mAttributeError\u001b[0m                            Traceback (most recent call last)",
      "\u001b[1;32m<ipython-input-31-0b4a5843fc84>\u001b[0m in \u001b[0;36m<module>\u001b[1;34m()\u001b[0m\n\u001b[0;32m      7\u001b[0m \u001b[0mprint\u001b[0m\u001b[1;33m(\u001b[0m\u001b[0mp\u001b[0m\u001b[1;33m.\u001b[0m\u001b[0mname\u001b[0m\u001b[1;33m)\u001b[0m\u001b[1;33m\u001b[0m\u001b[0m\n\u001b[0;32m      8\u001b[0m \u001b[1;33m\u001b[0m\u001b[0m\n\u001b[1;32m----> 9\u001b[1;33m \u001b[0mprint\u001b[0m\u001b[1;33m(\u001b[0m\u001b[0mp\u001b[0m\u001b[1;33m.\u001b[0m\u001b[0m__age\u001b[0m\u001b[1;33m)\u001b[0m\u001b[1;33m\u001b[0m\u001b[0m\n\u001b[0m",
      "\u001b[1;31mAttributeError\u001b[0m: 'Person' object has no attribute '__age'"
     ]
    }
   ],
   "source": [
    "class Person():\n",
    "      #name是共有的成员\n",
    "            name = \"abc\"\n",
    "      # __age是私有变量\n",
    "            __age =18 \n",
    "p = Person()\n",
    "print(p.name)\n",
    "\n",
    "print(p.__age)"
   ]
  },
  {
   "cell_type": "code",
   "execution_count": 32,
   "metadata": {},
   "outputs": [
    {
     "name": "stdout",
     "output_type": "stream",
     "text": [
      "{'__module__': '__main__', 'name': 'abc', '_Person__age': 18, '__dict__': <attribute '__dict__' of 'Person' objects>, '__weakref__': <attribute '__weakref__' of 'Person' objects>, '__doc__': None}\n"
     ]
    }
   ],
   "source": [
    "#name mangling技术\n",
    "print(Person.__dict__)"
   ]
  },
  {
   "cell_type": "code",
   "execution_count": 36,
   "metadata": {},
   "outputs": [
    {
     "name": "stdout",
     "output_type": "stream",
     "text": [
      "18\n",
      "10\n"
     ]
    }
   ],
   "source": [
    "###给age改名了\n",
    "print(p._Person__age)\n",
    "p._Person_age = 10\n",
    "print(p._Person_age)"
   ]
  },
  {
   "cell_type": "code",
   "execution_count": null,
   "metadata": {
    "collapsed": true
   },
   "outputs": [],
   "source": []
  },
  {
   "cell_type": "code",
   "execution_count": null,
   "metadata": {
    "collapsed": true
   },
   "outputs": [],
   "source": []
  },
  {
   "cell_type": "code",
   "execution_count": 49,
   "metadata": {},
   "outputs": [
    {
     "name": "stdout",
     "output_type": "stream",
     "text": [
      "No Name\n",
      "No Name\n",
      "********************\n",
      "No Name\n",
      "sec\n",
      "sleeping..\n",
      "********************\n",
      "8248\n",
      "attention\n",
      "attention\n",
      "None\n"
     ]
    }
   ],
   "source": [
    "#继承的语法\n",
    "# 在python中，任何类都有一个共同的父类叫object\n",
    "class Person():\n",
    "    name = 'No Name'\n",
    "    age = 18\n",
    "    __score = 0 # 成绩是秘密，私有的\n",
    "    _petname = 'sec' #保护的，子类可以用，但是不能公用\n",
    "    \n",
    "    def sleep(self):\n",
    "        print('sleeping..')\n",
    "\n",
    "# 父类写在括号内\n",
    "class Teacher(Person):\n",
    "    teacher_id = '8248'\n",
    "    def make_test(self):\n",
    "        print('attention')\n",
    "\n",
    "t = Teacher()\n",
    "print(t.name)\n",
    "print(Teacher.name)\n",
    "print('*' *20)\n",
    "print(t.name)\n",
    "# 访问受保护的变量, 但是不能公开访问\n",
    "print(t._petname)\n",
    "# 私有访问问题\n",
    "# 公开访问私有变量，报错\n",
    "#print(t.__score)\n",
    "\n",
    "t.sleep()\n",
    "\n",
    "print('*' *20)\n",
    "print(t.teacher_id)\n",
    "t.make_test()\n",
    "print(t.make_test())"
   ]
  },
  {
   "cell_type": "code",
   "execution_count": 51,
   "metadata": {},
   "outputs": [
    {
     "name": "stdout",
     "output_type": "stream",
     "text": [
      "abb\n"
     ]
    }
   ],
   "source": [
    "# 子类和父类定义同一个变量名称，则优先使用子类本身\n",
    "class Person():\n",
    "    name = 'No Name'\n",
    "    age = 18\n",
    "    __score = 0 # 成绩是秘密，私有的\n",
    "    _petname = 'sec' #保护的，子类可以用，但是不能公用\n",
    "    \n",
    "    def sleep(self):\n",
    "        print('sleeping..')\n",
    "\n",
    "# 父类写在括号内\n",
    "class Teacher(Person):\n",
    "    teacher_id = '8248'\n",
    "    name = 'abb'\n",
    "    def make_test(self):\n",
    "        print('attention')\n",
    "\n",
    "t = Teacher()\n",
    "print(t.name)"
   ]
  },
  {
   "cell_type": "code",
   "execution_count": 53,
   "metadata": {},
   "outputs": [
    {
     "name": "stdout",
     "output_type": "stream",
     "text": [
      "make money\n",
      "attention\n"
     ]
    }
   ],
   "source": [
    "# 子类扩充父类功能的案例， 用父类名，父类成员的格式调用父类成员\n",
    "# 人有工作的函数， 老师也有工作的函数，但是老师的工作需要在基础上扩充\n",
    "class Person():\n",
    "    name = 'No Name'\n",
    "    age = 18\n",
    "    __score = 0 # 成绩是秘密，私有的\n",
    "    _petname = 'sec' #保护的，子类可以用，但是不能公用\n",
    "    \n",
    "    def sleep(self):\n",
    "        print('sleeping..')\n",
    "    def work(self):\n",
    "        print('make money')\n",
    "\n",
    "# 父类写在括号内\n",
    "class Teacher(Person):\n",
    "    teacher_id = '8248'\n",
    "    name = 'abb'\n",
    "    def make_test(self):\n",
    "        print('attention')\n",
    "    def work(self):\n",
    "        #扩充父类的功能只需要调用父类相同的函数 ，self代表teacher自己\n",
    "        Person.work(self)\n",
    "        self.make_test()\n",
    "\n",
    "t = Teacher()\n",
    "t.work()\n"
   ]
  },
  {
   "cell_type": "code",
   "execution_count": 56,
   "metadata": {},
   "outputs": [
    {
     "name": "stdout",
     "output_type": "stream",
     "text": [
      "make money\n",
      "attention\n"
     ]
    }
   ],
   "source": [
    "# 子类扩充父类功能的案例，还可以用super()\n",
    "class Person():\n",
    "    name = 'No Name'\n",
    "    age = 18\n",
    "    __score = 0 # 成绩是秘密，私有的\n",
    "    _petname = 'sec' #保护的，子类可以用，但是不能公用\n",
    "    \n",
    "    def sleep(self):\n",
    "        print('sleeping..')\n",
    "    def work(self):\n",
    "        print('make money')\n",
    "\n",
    "# 父类写在括号内\n",
    "class Teacher(Person):\n",
    "    teacher_id = '8248'\n",
    "    name = 'abb'\n",
    "    def make_test(self):\n",
    "        print('attention')\n",
    "    def work(self):\n",
    "        #superd代表得到父爱\n",
    "        super().work()\n",
    "        self.make_test()\n",
    "        \n",
    "        \n",
    "t = Teacher()\n",
    "t.work()"
   ]
  },
  {
   "cell_type": "code",
   "execution_count": 57,
   "metadata": {},
   "outputs": [
    {
     "name": "stdout",
     "output_type": "stream",
     "text": [
      "I am init in dog\n"
     ]
    }
   ],
   "source": [
    "# 构造函数的概念\n",
    "class Dog():\n",
    "    #__init__就是构造函数\n",
    "    #每次实例化的时候，第一个被调用\n",
    "    #因为主要工具要进行初始化，所以得名\n",
    "    def __init__(self):\n",
    "        print('I am init in dog')\n",
    "        \n",
    "# 实例化的时候，括号内的参数需要和构造函数参数匹配\n",
    "kaka = Dog()\n",
    "        "
   ]
  },
  {
   "cell_type": "code",
   "execution_count": 58,
   "metadata": {},
   "outputs": [
    {
     "name": "stdout",
     "output_type": "stream",
     "text": [
      "I am init in dog\n"
     ]
    }
   ],
   "source": [
    "# 继承里面的构造函数\n",
    "class Animal():\n",
    "    pass\n",
    "class BuruAni(Animal):\n",
    "    pass\n",
    "class Dog(BuruAni):\n",
    "    #__init__就是构造函数\n",
    "    #每次实例化的时候，第一个被调用\n",
    "    #因为主要工具要进行初始化，所以得名\n",
    "    def __init__(self):\n",
    "        print('I am init in dog')\n",
    "# 实例化的时候，自动调用dog的构造函数\n",
    "kaka = Dog()"
   ]
  },
  {
   "cell_type": "code",
   "execution_count": 65,
   "metadata": {},
   "outputs": [
    {
     "name": "stdout",
     "output_type": "stream",
     "text": [
      "I am init in dog\n"
     ]
    }
   ],
   "source": [
    "class Animal():\n",
    "    def __init__(self):\n",
    "        print('Animal')\n",
    "class BuruAni(Animal):\n",
    "    def __init__(self):\n",
    "        print('BuruAni')\n",
    "class Dog(BuruAni):\n",
    "    #__init__就是构造函数\n",
    "    #每次实例化的时候，第一个被调用\n",
    "    #因为主要工具要进行初始化，所以得名\n",
    "    def __init__(self):\n",
    "        print('I am init in dog')\n",
    "# 实例化的时候，自动调用dog的构造函数\n",
    "# 因为找到了构造函数，则不再查找父类的构造函数\n",
    "kaka = Dog()"
   ]
  },
  {
   "cell_type": "code",
   "execution_count": 66,
   "metadata": {},
   "outputs": [
    {
     "name": "stdout",
     "output_type": "stream",
     "text": [
      "BuruAni\n"
     ]
    }
   ],
   "source": [
    "#猫没有写构造函数\n",
    "class Cat(BuruAni):\n",
    "    pass\n",
    "# 此时应该自动调用构造函数，因为cat没有构造函数，所以查找父类的构造函数\n",
    "# 在哺乳动物中找到构造函数，就不要再往上\n",
    "lol = Cat()          "
   ]
  },
  {
   "cell_type": "code",
   "execution_count": 70,
   "metadata": {},
   "outputs": [
    {
     "name": "stdout",
     "output_type": "stream",
     "text": [
      "I am init in dog\n"
     ]
    }
   ],
   "source": [
    "class Animal():\n",
    "    def __init__(self):\n",
    "        print('Animal')\n",
    "class BuruAni(Animal):\n",
    "    def __init__(self, name):\n",
    "        print('BuruAni {0}'.format(name))\n",
    "class Dog(BuruAni):\n",
    "    #__init__就是构造函数\n",
    "    #每次实例化的时候，第一个被调用\n",
    "    #因为主要工具要进行初始化，所以得名\n",
    "    def __init__(self):\n",
    "        print('I am init in dog')\n",
    "# 实例化的时候，自动调用dog的构造函数\n",
    "# 因为找到了构造函数，则不再查找父类的构造函数\n",
    "kaka = Dog()"
   ]
  },
  {
   "cell_type": "code",
   "execution_count": 73,
   "metadata": {},
   "outputs": [
    {
     "ename": "TypeError",
     "evalue": "__init__() missing 1 required positional argument: 'name'",
     "output_type": "error",
     "traceback": [
      "\u001b[1;31m---------------------------------------------------------------------------\u001b[0m",
      "\u001b[1;31mTypeError\u001b[0m                                 Traceback (most recent call last)",
      "\u001b[1;32m<ipython-input-73-859005bb1e72>\u001b[0m in \u001b[0;36m<module>\u001b[1;34m()\u001b[0m\n\u001b[0;32m      2\u001b[0m     \u001b[1;32mpass\u001b[0m\u001b[1;33m\u001b[0m\u001b[0m\n\u001b[0;32m      3\u001b[0m \u001b[1;31m#因为哺乳动物内两个参数，实际只有一个参数，就报错\u001b[0m\u001b[1;33m\u001b[0m\u001b[1;33m\u001b[0m\u001b[0m\n\u001b[1;32m----> 4\u001b[1;33m \u001b[0mlol\u001b[0m \u001b[1;33m=\u001b[0m \u001b[0mCat\u001b[0m\u001b[1;33m(\u001b[0m\u001b[1;33m)\u001b[0m\u001b[1;33m\u001b[0m\u001b[0m\n\u001b[0m",
      "\u001b[1;31mTypeError\u001b[0m: __init__() missing 1 required positional argument: 'name'"
     ]
    }
   ],
   "source": [
    "class Cat(BuruAni):\n",
    "    pass\n",
    "#因为哺乳动物内两个参数，实际只有一个参数，就报错\n",
    "lol = Cat() "
   ]
  },
  {
   "cell_type": "code",
   "execution_count": 74,
   "metadata": {
    "scrolled": true
   },
   "outputs": [
    {
     "name": "stdout",
     "output_type": "stream",
     "text": [
      "Animal\n"
     ]
    }
   ],
   "source": [
    "class Animal():\n",
    "    def __init__(self):\n",
    "        print('Animal')\n",
    "class BuruAni(Animal):\n",
    "    pass\n",
    "class Dog(BuruAni):\n",
    "    pass\n",
    "        \n",
    "class Cat(BuruAni):\n",
    "    pass\n",
    "lol = Cat() "
   ]
  },
  {
   "cell_type": "code",
   "execution_count": 76,
   "metadata": {},
   "outputs": [
    {
     "name": "stdout",
     "output_type": "stream",
     "text": [
      "<class 'type'>\n",
      "Help on class super in module builtins:\n",
      "\n",
      "class super(object)\n",
      " |  super() -> same as super(__class__, <first argument>)\n",
      " |  super(type) -> unbound super object\n",
      " |  super(type, obj) -> bound super object; requires isinstance(obj, type)\n",
      " |  super(type, type2) -> bound super object; requires issubclass(type2, type)\n",
      " |  Typical use to call a cooperative superclass method:\n",
      " |  class C(B):\n",
      " |      def meth(self, arg):\n",
      " |          super().meth(arg)\n",
      " |  This works for class methods too:\n",
      " |  class C(B):\n",
      " |      @classmethod\n",
      " |      def cmeth(cls, arg):\n",
      " |          super().cmeth(arg)\n",
      " |  \n",
      " |  Methods defined here:\n",
      " |  \n",
      " |  __get__(self, instance, owner, /)\n",
      " |      Return an attribute of instance, which is of type owner.\n",
      " |  \n",
      " |  __getattribute__(self, name, /)\n",
      " |      Return getattr(self, name).\n",
      " |  \n",
      " |  __init__(self, /, *args, **kwargs)\n",
      " |      Initialize self.  See help(type(self)) for accurate signature.\n",
      " |  \n",
      " |  __new__(*args, **kwargs) from builtins.type\n",
      " |      Create and return a new object.  See help(type) for accurate signature.\n",
      " |  \n",
      " |  __repr__(self, /)\n",
      " |      Return repr(self).\n",
      " |  \n",
      " |  ----------------------------------------------------------------------\n",
      " |  Data descriptors defined here:\n",
      " |  \n",
      " |  __self__\n",
      " |      the instance invoking super(); may be None\n",
      " |  \n",
      " |  __self_class__\n",
      " |      the type of the instance invoking super(); may be None\n",
      " |  \n",
      " |  __thisclass__\n",
      " |      the class invoking super()\n",
      "\n"
     ]
    }
   ],
   "source": [
    "print(type(super))\n",
    "help(super)"
   ]
  }
 ],
 "metadata": {
  "kernelspec": {
   "display_name": "Python 3",
   "language": "python",
   "name": "python3"
  },
  "language_info": {
   "codemirror_mode": {
    "name": "ipython",
    "version": 3
   },
   "file_extension": ".py",
   "mimetype": "text/x-python",
   "name": "python",
   "nbconvert_exporter": "python",
   "pygments_lexer": "ipython3",
   "version": "3.6.3"
  }
 },
 "nbformat": 4,
 "nbformat_minor": 2
}
