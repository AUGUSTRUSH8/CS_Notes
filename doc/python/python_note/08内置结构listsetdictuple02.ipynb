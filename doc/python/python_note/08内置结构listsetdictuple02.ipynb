{
 "cells": [
  {
   "cell_type": "code",
   "execution_count": 1,
   "metadata": {},
   "outputs": [
    {
     "name": "stdout",
     "output_type": "stream",
     "text": [
      "[1, 2, 3, 4, 5, 6]\n",
      "[1, 2, 300, 4, 5, 6]\n",
      "[1, 2, 300, 4, 5, 6]\n",
      "9\n",
      "109\n",
      "9\n"
     ]
    }
   ],
   "source": [
    "#传址和传值的区别\n",
    "#对于简单的数值，采用传值的操作，在函数内的操作不影响外面的值\n",
    "#对于复杂都变量，采用传址，函数内部的参数和外部变量是同一内容\n",
    "\n",
    "def a(n):\n",
    "    n[2] = 300\n",
    "    print(n)\n",
    "    return None\n",
    "\n",
    "def b(n):\n",
    "    n+=100\n",
    "    print(n)\n",
    "    return None\n",
    "\n",
    "an = [1,2,3,4,5,6]\n",
    "bn = 9\n",
    "\n",
    "#一个内部改变了an 一个内部不能改变bn\n",
    "print(an)\n",
    "a(an) \n",
    "print(an)\n",
    "\n",
    "print(bn)\n",
    "b(bn)\n",
    "print(bn)"
   ]
  },
  {
   "cell_type": "markdown",
   "metadata": {},
   "source": [
    "# 关于列表的函数\n"
   ]
  },
  {
   "cell_type": "code",
   "execution_count": 3,
   "metadata": {},
   "outputs": [
    {
     "data": {
      "text/plain": [
       "('a', 'b', 'c', 'd', 'e')"
      ]
     },
     "execution_count": 3,
     "metadata": {},
     "output_type": "execute_result"
    }
   ],
   "source": [
    "L = ('a','b','c','d','e')\n",
    "L"
   ]
  },
  {
   "cell_type": "code",
   "execution_count": 10,
   "metadata": {},
   "outputs": [
    {
     "name": "stdout",
     "output_type": "stream",
     "text": [
      "[1, 2, 3, 4]\n",
      "[1, 2, 3, 4, 100]\n"
     ]
    }
   ],
   "source": [
    "# append 插入一个内容,在某位追加\n",
    "a = [i for i in range(1,5)]\n",
    "print(a)\n",
    "a.append(100)\n",
    "print(a)"
   ]
  },
  {
   "cell_type": "code",
   "execution_count": 21,
   "metadata": {},
   "outputs": [
    {
     "name": "stdout",
     "output_type": "stream",
     "text": [
      "[1, 2, 3, 666, 666, 666]\n",
      "[1, 2, 3, 666, 666, 666, 666]\n"
     ]
    }
   ],
   "source": [
    "# insert 在指定位置插入,两个参数，index索引，和具体数字\n",
    "print(a)\n",
    "a.insert(3,666)\n",
    "print(a)"
   ]
  },
  {
   "cell_type": "code",
   "execution_count": 63,
   "metadata": {},
   "outputs": [
    {
     "name": "stdout",
     "output_type": "stream",
     "text": [
      "[1, 2, 55, 4, [5, 6, 66]]\n",
      "<built-in method pop of list object at 0x000001C3EF357F08>\n",
      "[1, 2, 55, 4, [5, 6, 66]]\n"
     ]
    }
   ],
   "source": [
    "#删除 del\n",
    "#pop，把最后一个元素取出来\n",
    "print(a)\n",
    "last_ele=a.pop()\n",
    "print(last_ele)\n",
    "print(a)"
   ]
  },
  {
   "cell_type": "code",
   "execution_count": 23,
   "metadata": {},
   "outputs": [
    {
     "name": "stdout",
     "output_type": "stream",
     "text": [
      "[1, 2, 3, 666, 666, 666]\n",
      "1941042839496\n",
      "[1, 2, 3, 666, 666]\n",
      "1941042839496\n"
     ]
    }
   ],
   "source": [
    "# remove:在列表中删除指定值的元素\n",
    "# 如果删除的值不存在，则会报错\n",
    "# if x in list:\n",
    "#     list.remove(x)\n",
    "print(a)\n",
    "print(id(a))\n",
    "a.remove(666)\n",
    "print(a)\n",
    "print(id(a))\n",
    "#id不变，remove操作是在原list直接操作，一直是同一个list"
   ]
  },
  {
   "cell_type": "code",
   "execution_count": null,
   "metadata": {
    "collapsed": true
   },
   "outputs": [],
   "source": [
    "#AttributeError 实例object，实例调用，调用函数，或者使用某一属性，但是没有，就会报错"
   ]
  },
  {
   "cell_type": "code",
   "execution_count": 62,
   "metadata": {},
   "outputs": [
    {
     "name": "stdout",
     "output_type": "stream",
     "text": [
      "[1, 2, 55, 4, [5, 6, 66]]\n",
      "1941043511048\n",
      "[1, 2, 55, 4, [5, 6, 66]]\n",
      "1941043511048\n"
     ]
    }
   ],
   "source": [
    "#clear：清空\n",
    "print(a)\n",
    "print(id(a))\n",
    "a.clear()\n",
    "print(a)\n",
    "print(id(a)) #清空了列表，但是列表的地址没有变\n",
    "#如果不需要列表地址保持不变，则清空列表可以使用以下办法\n",
    "# a = list()\n",
    "# a = []"
   ]
  },
  {
   "cell_type": "code",
   "execution_count": null,
   "metadata": {
    "collapsed": true
   },
   "outputs": [],
   "source": []
  },
  {
   "cell_type": "code",
   "execution_count": 28,
   "metadata": {},
   "outputs": [
    {
     "name": "stdout",
     "output_type": "stream",
     "text": [
      "1941024359304\n",
      "[6, 5, 4, 3, 2, 1]\n",
      "1941024359304\n"
     ]
    }
   ],
   "source": [
    "# reverse() 反转, 原地反转\n",
    "a = [1,2,3,4,5,6]\n",
    "print(id(a))\n",
    "a.reverse()\n",
    "print(a)\n",
    "print(id(a))"
   ]
  },
  {
   "cell_type": "code",
   "execution_count": 29,
   "metadata": {},
   "outputs": [
    {
     "name": "stdout",
     "output_type": "stream",
     "text": [
      "1941042828744\n",
      "[1, 2, 3, 4, 5, 6, 7, 8, 9, 10]\n",
      "1941042828744\n"
     ]
    }
   ],
   "source": [
    "# extend：扩展列表，两个列表，把一个直接接在后一个,id不变\n",
    "a =[1,2,3,4,5]\n",
    "b =[6,7,8,9,10]\n",
    "print(id(a))\n",
    "\n",
    "a.extend(b)\n",
    "print(a)\n",
    "print(id(a))"
   ]
  },
  {
   "cell_type": "code",
   "execution_count": 35,
   "metadata": {},
   "outputs": [
    {
     "name": "stdout",
     "output_type": "stream",
     "text": [
      "[1, 2, 3, 4, 5, 6, 7, 8, 9, 10]\n",
      "10\n"
     ]
    },
    {
     "ename": "TypeError",
     "evalue": "count() takes exactly one argument (0 given)",
     "output_type": "error",
     "traceback": [
      "\u001b[1;31m---------------------------------------------------------------------------\u001b[0m",
      "\u001b[1;31mTypeError\u001b[0m                                 Traceback (most recent call last)",
      "\u001b[1;32m<ipython-input-35-dccb7969a483>\u001b[0m in \u001b[0;36m<module>\u001b[1;34m()\u001b[0m\n\u001b[0;32m      4\u001b[0m \u001b[0mprint\u001b[0m\u001b[1;33m(\u001b[0m\u001b[0ma_len\u001b[0m\u001b[1;33m)\u001b[0m\u001b[1;33m\u001b[0m\u001b[0m\n\u001b[0;32m      5\u001b[0m \u001b[1;33m\u001b[0m\u001b[0m\n\u001b[1;32m----> 6\u001b[1;33m \u001b[0ma1_len\u001b[0m \u001b[1;33m=\u001b[0m \u001b[0ma\u001b[0m\u001b[1;33m.\u001b[0m\u001b[0mcount\u001b[0m\u001b[1;33m(\u001b[0m\u001b[1;33m)\u001b[0m\u001b[1;33m\u001b[0m\u001b[0m\n\u001b[0m\u001b[0;32m      7\u001b[0m \u001b[0mprint\u001b[0m\u001b[1;33m(\u001b[0m\u001b[0ma1_len\u001b[0m\u001b[1;33m)\u001b[0m\u001b[1;33m\u001b[0m\u001b[0m\n",
      "\u001b[1;31mTypeError\u001b[0m: count() takes exactly one argument (0 given)"
     ]
    }
   ],
   "source": [
    "# count:查找列表中指定值或元素的个数\n",
    "print(a)\n",
    "a_len = len(a)\n",
    "print(a_len)\n",
    "\n",
    "a1_len = a.count()\n",
    "print(a1_len)"
   ]
  },
  {
   "cell_type": "code",
   "execution_count": 40,
   "metadata": {},
   "outputs": [
    {
     "name": "stdout",
     "output_type": "stream",
     "text": [
      "[1, 2, 3, 4, 5, 6, 7, 8, 9, 10, 8, 8, 8]\n",
      "[1, 2, 3, 8, 4, 5, 6, 7, 8, 9, 10, 8, 8, 8, 8]\n",
      "6\n"
     ]
    }
   ],
   "source": [
    "print(a)\n",
    "a.append(8)\n",
    "a.insert(3,8)\n",
    "a1_len = a.count(8) #8的个数只有1个\n",
    "print(a)\n",
    "print(a1_len)"
   ]
  },
  {
   "cell_type": "code",
   "execution_count": 46,
   "metadata": {},
   "outputs": [
    {
     "name": "stdout",
     "output_type": "stream",
     "text": [
      "[1, 2, 3, 4, 5, 6, 666]\n",
      "1941043569928\n",
      "[1, 2, 3, 4, 5, 6, 666]\n",
      "1941043569928\n",
      "[1, 2, 3, 777, 5, 6, 666]\n",
      "[1, 2, 3, 777, 5, 6, 666]\n",
      "**********\n"
     ]
    }
   ],
   "source": [
    "# copy: 浅copy\n",
    "#列表类型变量赋值示例\n",
    "\n",
    "a = [1,2,3,4,5,6,666]\n",
    "print(a)\n",
    "print(id(a))\n",
    "# list变量，简单的赋值操作，是传地址 \n",
    "b = a #a和b其实是指向的同一个地址\n",
    "print(b)\n",
    "print(id(b))\n",
    "b[3] = 777\n",
    "print(b)\n",
    "print(a) #a也变了\n",
    "#怎么才能解决这个问题，用copy\n",
    "print(\"*\"*10)"
   ]
  },
  {
   "cell_type": "code",
   "execution_count": 47,
   "metadata": {},
   "outputs": [
    {
     "name": "stdout",
     "output_type": "stream",
     "text": [
      "[1, 2, 3, 4, 5, 6, 666]\n",
      "1941025135688\n",
      "1941042827976\n",
      "[1, 2, 3, 4, 5, 6, 666]\n",
      "[1, 2, 3, 777, 5, 6, 666]\n",
      "[1, 2, 3, 4, 5, 6, 666]\n",
      "**********\n"
     ]
    }
   ],
   "source": [
    "a = [1,2,3,4,5,6,666]\n",
    "print(a)\n",
    "print(id(a))\n",
    "# list变量，简单的赋值操作，是传地址 \n",
    "b = a.copy() #用copy来传\n",
    "print(id(b)) #b的地址和a的地址不同了，a和b除了值一样，其他没有关系\n",
    "print(b)\n",
    "b[3] = 777\n",
    "print(b)\n",
    "print(a) \n",
    "print(\"*\"*10)"
   ]
  },
  {
   "cell_type": "code",
   "execution_count": 59,
   "metadata": {},
   "outputs": [
    {
     "name": "stdout",
     "output_type": "stream",
     "text": [
      "[1, 2, 3, 4, [5, 6, 7]]\n",
      "[1, 2, 3, 4, [5, 6, 7]]\n",
      "1941043511048\n",
      "1941042839176\n",
      "1857904896\n",
      "1857904896\n",
      "[1, 2, 55, 4, [5, 6, 66]]\n",
      "[1, 2, 3, 4, [5, 6, 66]]\n"
     ]
    }
   ],
   "source": [
    "#deep cope 深copy\n",
    "#深copy需要使用特定工具\n",
    "a = [1,2,3,4,[5,6,7]] #列表里面又包含一个列表，浅copy只能copy一层，浅copy在处理后面的[5,6,7] copy的只是地址\n",
    "b = a.copy()\n",
    "print (a)\n",
    "print (b)\n",
    "\n",
    "print(id(a))\n",
    "print(id(b))\n",
    "\n",
    "print(id(a[3])) #两个id竟然一致\n",
    "print(id(b[3]))\n",
    "\n",
    "a[2] = 55\n",
    "a[4][2]=66\n",
    "\n",
    "print(a)\n",
    "print(b)\n",
    "    "
   ]
  },
  {
   "cell_type": "markdown",
   "metadata": {},
   "source": [
    "# 元祖 -tuple #是tuple类型\n",
    "- 元祖可以看出一个不可更改都list\n",
    "# 元祖创建\n"
   ]
  },
  {
   "cell_type": "code",
   "execution_count": 61,
   "metadata": {},
   "outputs": [
    {
     "name": "stdout",
     "output_type": "stream",
     "text": [
      "<class 'tuple'>\n"
     ]
    }
   ],
   "source": [
    "# 创建空元祖\n",
    "t = ()\n",
    "print (type(t)) #是tuple类型"
   ]
  },
  {
   "cell_type": "code",
   "execution_count": 67,
   "metadata": {},
   "outputs": [
    {
     "name": "stdout",
     "output_type": "stream",
     "text": [
      "<class 'tuple'>\n",
      "<class 'int'>\n",
      "<class 'tuple'>\n"
     ]
    }
   ],
   "source": [
    "#创建只有一个值的元祖\n",
    "t =(1,)\n",
    "print(type(t))\n",
    "t =(1)\n",
    "print(type(t)) #是int类型\n",
    "t =1,\n",
    "print(type(t))\n"
   ]
  },
  {
   "cell_type": "code",
   "execution_count": 70,
   "metadata": {},
   "outputs": [
    {
     "name": "stdout",
     "output_type": "stream",
     "text": [
      "<class 'tuple'>\n",
      "(1, 2, 3, 4, 5)\n",
      "<class 'tuple'>\n",
      "(1, 2, 3, 4, 5)\n"
     ]
    }
   ],
   "source": [
    "#创建多个值的元祖\n",
    "t = (1,2,3,4,5)\n",
    "print(type(t))\n",
    "print (t)\n",
    "\n",
    "t = 1,2,3,4,5\n",
    "print(type(t))\n",
    "print (t)"
   ]
  },
  {
   "cell_type": "code",
   "execution_count": 71,
   "metadata": {},
   "outputs": [
    {
     "name": "stdout",
     "output_type": "stream",
     "text": [
      "<class 'tuple'>\n",
      "(1, 2, 3, 4, 5)\n"
     ]
    }
   ],
   "source": [
    "#使用其他结构创建\n",
    "L = [1,2,3,4,5]\n",
    "t = tuple(L)\n",
    "print(type(t))\n",
    "print (t)"
   ]
  },
  {
   "cell_type": "markdown",
   "metadata": {},
   "source": [
    "# 元祖的特性\n",
    "- 是序列组，有序\n",
    "- 元祖数据值可以访问，不能修改，不能修改，不能修改\n",
    "- 元祖数据可以是任意类型\n",
    "- 总之，list所有特性，除了可修改外，元祖都具有\n",
    "- 意味着，list具有一些操作，比如索引，分片，序列相加，相乘，成员资格操作等一样"
   ]
  },
  {
   "cell_type": "code",
   "execution_count": 73,
   "metadata": {},
   "outputs": [
    {
     "name": "stdout",
     "output_type": "stream",
     "text": [
      "6\n"
     ]
    }
   ],
   "source": [
    "# 索引操作\n",
    "t = (1,2,3,4,6,7)\n",
    "print(t[4])"
   ]
  },
  {
   "cell_type": "code",
   "execution_count": 74,
   "metadata": {},
   "outputs": [
    {
     "ename": "IndexError",
     "evalue": "tuple index out of range",
     "output_type": "error",
     "traceback": [
      "\u001b[1;31m---------------------------------------------------------------------------\u001b[0m",
      "\u001b[1;31mIndexError\u001b[0m                                Traceback (most recent call last)",
      "\u001b[1;32m<ipython-input-74-ab367618f010>\u001b[0m in \u001b[0;36m<module>\u001b[1;34m()\u001b[0m\n\u001b[0;32m      1\u001b[0m \u001b[1;31m#超标错误\u001b[0m\u001b[1;33m\u001b[0m\u001b[1;33m\u001b[0m\u001b[0m\n\u001b[1;32m----> 2\u001b[1;33m \u001b[0mprint\u001b[0m\u001b[1;33m(\u001b[0m\u001b[0mt\u001b[0m\u001b[1;33m[\u001b[0m\u001b[1;36m7\u001b[0m\u001b[1;33m]\u001b[0m\u001b[1;33m)\u001b[0m\u001b[1;33m\u001b[0m\u001b[0m\n\u001b[0m",
      "\u001b[1;31mIndexError\u001b[0m: tuple index out of range"
     ]
    }
   ],
   "source": [
    "#超标错误\n",
    "print(t[7])"
   ]
  },
  {
   "cell_type": "code",
   "execution_count": 81,
   "metadata": {},
   "outputs": [
    {
     "name": "stdout",
     "output_type": "stream",
     "text": [
      "1941042359752\n",
      "1941043257280\n",
      "(2, 3, 4)\n",
      "(2, 4, 7)\n",
      "(3, 4, 6, 7)\n"
     ]
    }
   ],
   "source": [
    "#切片\n",
    "F\n",
    "t1 = t[1:4:1] #还是包含左，不包含右\n",
    "t2 = t[1::2]\n",
    "print(id(t))\n",
    "print(id(t1))\n",
    "print(t1)\n",
    "print(t2)\n",
    "#切片可以超标\n",
    "t3 = t[2:100]\n",
    "print(t3)"
   ]
  },
  {
   "cell_type": "code",
   "execution_count": 105,
   "metadata": {},
   "outputs": [
    {
     "name": "stdout",
     "output_type": "stream",
     "text": [
      "[1, 2, 3, 4, 6, 7]\n",
      "<generator object <genexpr> at 0x000001C3EF35CB48>\n"
     ]
    }
   ],
   "source": [
    "# 元祖的遍历，一般用for\n",
    "t = [1,2,3,4,6,7]\n",
    "t2 =[i for i in t]\n",
    "print (t2)\n",
    "\n",
    "t =(1,2,4)\n",
    "t2 = (i for i in t)\n",
    "print (t2)"
   ]
  },
  {
   "cell_type": "code",
   "execution_count": 109,
   "metadata": {},
   "outputs": [
    {
     "name": "stdout",
     "output_type": "stream",
     "text": [
      "1 2 4 "
     ]
    }
   ],
   "source": [
    "t =(1,2,4)\n",
    "for i in t:\n",
    "    print(i, end=\" \")"
   ]
  },
  {
   "cell_type": "code",
   "execution_count": 111,
   "metadata": {},
   "outputs": [
    {
     "name": "stdout",
     "output_type": "stream",
     "text": [
      "(1, 2, 3)\n",
      "(4, 5, 6)\n",
      "(7, 8, 9)\n",
      "1 .. 2 .. 3\n",
      "4 .. 5 .. 6\n",
      "7 .. 8 .. 9\n"
     ]
    }
   ],
   "source": [
    "# 双层元祖的遍历\n",
    "t = ((1,2,3),(4,5,6),(7,8,9))\n",
    "for i in t:\n",
    "    print(i)\n",
    "\n",
    "for k,m,n in t:\n",
    "    print(k,\"..\",m,\"..\",n)"
   ]
  },
  {
   "cell_type": "code",
   "execution_count": 93,
   "metadata": {},
   "outputs": [
    {
     "name": "stdout",
     "output_type": "stream",
     "text": [
      "1941042949576\n",
      "(1, 2, 3, 5, 6, 7)\n",
      "1941043451944\n"
     ]
    }
   ],
   "source": [
    "#序列相加\n",
    "t1 = (1,2,3)\n",
    "t2 = (5,6,7)\n",
    "#传址操作\n",
    "print(id(t1))\n",
    "t1 += t2\n",
    "print(t1)\n",
    "print(id(t1)) #修改id是新的\n",
    "#tuple的不可修改，是指内容的不可修改"
   ]
  },
  {
   "cell_type": "code",
   "execution_count": 103,
   "metadata": {},
   "outputs": [
    {
     "name": "stdout",
     "output_type": "stream",
     "text": [
      "[1, 2, 3, 4, 6, 7, 1, 2, 3, 4, 6, 7, 1, 2, 3, 4, 6, 7]\n",
      "(1, 2, 4, 1, 2, 4, 1, 2, 4)\n"
     ]
    }
   ],
   "source": [
    "#元祖相乘\n",
    "t = [1,2,3,4,6,7]\n",
    "t1 = t *3\n",
    "print (t1)\n",
    "\n",
    "t =(1,2,4)\n",
    "t1 = t *3\n",
    "print (t1)"
   ]
  },
  {
   "cell_type": "code",
   "execution_count": 104,
   "metadata": {},
   "outputs": [
    {
     "name": "stdout",
     "output_type": "stream",
     "text": [
      "yes\n"
     ]
    }
   ],
   "source": [
    "#成员检测\n",
    "t =(1,2,4)\n",
    "if 2 in t:\n",
    "    print(\"yes\")\n",
    "else:\n",
    "    print(\"No\")"
   ]
  },
  {
   "cell_type": "code",
   "execution_count": 100,
   "metadata": {},
   "outputs": [
    {
     "name": "stdout",
     "output_type": "stream",
     "text": [
      "111\n",
      "111alex\n",
      "111alex(11, ['aa', 'xhg', (78, 43)], 'aaa')\n",
      "111alex(11, ['aa', 'xhg', (78, 43)], 'aaa')789\n"
     ]
    }
   ],
   "source": [
    "#如果元祖里元素类型既有数字，又有字符串（需要自己写for循环来一个一个处理）\n",
    "tu = (111,'alex',(11,['aa','xhg',(78,43)],'aaa'),789,)\n",
    "s = ''\n",
    "for item in tu:\n",
    "    s = s + str(item)\n",
    "    print(s)"
   ]
  },
  {
   "cell_type": "code",
   "execution_count": 101,
   "metadata": {},
   "outputs": [
    {
     "name": "stdout",
     "output_type": "stream",
     "text": [
      "adfqwexhg\n"
     ]
    }
   ],
   "source": [
    "#如果元祖里元素类型只有字符串，使用join即可\n",
    "tu = ('adf','qwe','xhg')\n",
    "s = ''.join(tu)\n",
    "print(s)"
   ]
  },
  {
   "cell_type": "code",
   "execution_count": 102,
   "metadata": {},
   "outputs": [
    {
     "name": "stdout",
     "output_type": "stream",
     "text": [
      "(111, 'alex', (11, [666, 'xhg', (78, 43)], 'aaa'), 789)\n"
     ]
    }
   ],
   "source": [
    "#元祖一级元素不可以删除、修改、增加\n",
    "所以，这里的修改针对的是元祖二级以上的元素\n",
    "tu = (111,'alex',(11,['aa','xhg',(78,43)],'aaa'),789,)\n",
    "tu[2][1][0] = 666\n",
    "print(tu)"
   ]
  }
 ],
 "metadata": {
  "kernelspec": {
   "display_name": "Python 3",
   "language": "python",
   "name": "python3"
  },
  "language_info": {
   "codemirror_mode": {
    "name": "ipython",
    "version": 3
   },
   "file_extension": ".py",
   "mimetype": "text/x-python",
   "name": "python",
   "nbconvert_exporter": "python",
   "pygments_lexer": "ipython3",
   "version": "3.6.3"
  }
 },
 "nbformat": 4,
 "nbformat_minor": 2
}
