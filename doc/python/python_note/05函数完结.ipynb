{
 "cells": [
  {
   "cell_type": "markdown",
   "metadata": {},
   "source": [
    "# 四类参数\n",
    "- 普通参数\n",
    "- 默认参数\n",
    "- 关键字参数\n",
    "- 收集参数\n",
    "\n",
    "## 关键字参数开始\n",
    "- 语法\n",
    "  \n",
    "      def func(p1=v1,p2=v2...)\n",
    "          func_body\n",
    "      调用参数：\n",
    "      func(p1=value1,p2=value2...)\n",
    "- 比较麻烦\n",
    "    -不容易混淆\n",
    "    -使用关键字参数，可以不考虑参数位置"
   ]
  },
  {
   "cell_type": "code",
   "execution_count": 3,
   "metadata": {},
   "outputs": [
    {
     "name": "stdout",
     "output_type": "stream",
     "text": [
      "I am a studnet\n",
      "I am jingjing, I am 18 years old, I live in nanjiang\n"
     ]
    }
   ],
   "source": [
    "# 关键字参数案例\n",
    "def stu(name, age, addr):\n",
    "    print(\"I am a studnet\")\n",
    "    print(\"I am {0}, I am {1} years old, I live in {2}\".format(name,age,addr))\n",
    "\n",
    "n = \"jingjing\"\n",
    "a = 18\n",
    "addr = \"nanjiang\"\n",
    "#普通参数，只是按照位置传递，容易出错\n",
    "stu(n,a,addr)"
   ]
  },
  {
   "cell_type": "code",
   "execution_count": 14,
   "metadata": {},
   "outputs": [
    {
     "name": "stdout",
     "output_type": "stream",
     "text": [
      "I am a studnet\n",
      "I am jingjing, I am 18 years old, I live in nanjiang\n",
      "I am jingjing\n",
      "I am a studnet\n",
      "I am jingjing, I am 18 years old, I live in nanjiang\n",
      "I am jingjing\n"
     ]
    }
   ],
   "source": [
    "# 关键字参数案例\n",
    "def stu_key(name=\"NO Name\", age=0, addr=\"No Addr\"):\n",
    "    print(\"I am a studnet\")\n",
    "    print(\"I am {0}, I am {1} years old, I live in {2}\".format(name,age,addr))\n",
    "    print(\"I am \" + name)\n",
    "n = \"jingjing\"\n",
    "a = 18\n",
    "addr = \"nanjiang\"\n",
    "#普通参数，只是按照位置传递，容易出错\n",
    "stu_key(name=n,age=a,addr=addr)\n",
    "stu_key(age=a,name=n,addr=addr)"
   ]
  },
  {
   "cell_type": "markdown",
   "metadata": {},
   "source": [
    "## 收集参数\n",
    "- 把没有位置，不能和定义时都参数位置对应的参数，放入一个特定的数据结构中\n",
    "- 语法\n",
    "      def func(*args):\n",
    "          func_body\n",
    "          按照list的使用方式访问args得到传入的参数\n",
    "      调用：\n",
    "      func(p1,p2,p3...)\n",
    "- 参数名args不是必须这么写，但是推荐直接用args，预定俗称\n",
    "- 参数名args前需要*\n",
    "- 收集参数可以和其他参数共存"
   ]
  },
  {
   "cell_type": "code",
   "execution_count": 58,
   "metadata": {},
   "outputs": [
    {
     "name": "stdout",
     "output_type": "stream",
     "text": [
      "hello,自我介绍\n",
      "<class 'tuple'>\n",
      "jingjing\n",
      "18\n",
      "nanjiang\n",
      "abc\n",
      "single\n",
      "hello,自我介绍\n",
      "<class 'tuple'>\n",
      "woxiangjingjing\n"
     ]
    }
   ],
   "source": [
    "# 收集参数代码\n",
    "#函数模拟一个学生进行自我介绍，但是具体内容不清楚\n",
    "# args把他看成一个list 是一个类\n",
    "def stu(*args):\n",
    "    print(\"hello,自我介绍\")\n",
    "    #type函数都作用是检测变量的类型\n",
    "    print(type(args)) #打印出args的类型\n",
    "  \n",
    "    for item in args: #注意和下一个例子做比较\n",
    "        print(item)\n",
    "\n",
    "stu(\"jingjing\", 18, \"nanjiang\", \"abc\", \"single\")\n",
    "stu(\"woxiangjingjing\")\n",
    "    "
   ]
  },
  {
   "cell_type": "code",
   "execution_count": 9,
   "metadata": {},
   "outputs": [
    {
     "name": "stdout",
     "output_type": "stream",
     "text": [
      "hello,自我介绍\n",
      "<class 'tuple'>\n"
     ]
    }
   ],
   "source": [
    "# 收集参数案例\n",
    "# 说明收集参数可以不带任何实参调用，此时收集参数为空 tuple\n",
    "stu()"
   ]
  },
  {
   "cell_type": "code",
   "execution_count": 10,
   "metadata": {},
   "outputs": [
    {
     "ename": "TypeError",
     "evalue": "stu() got an unexpected keyword argument 'name'",
     "output_type": "error",
     "traceback": [
      "\u001b[1;31m---------------------------------------------------------------------------\u001b[0m",
      "\u001b[1;31mTypeError\u001b[0m                                 Traceback (most recent call last)",
      "\u001b[1;32m<ipython-input-10-b51d139fc386>\u001b[0m in \u001b[0;36m<module>\u001b[1;34m()\u001b[0m\n\u001b[0;32m      1\u001b[0m \u001b[1;31m##如果使用关键字参数格式调用，会出现问题\u001b[0m\u001b[1;33m\u001b[0m\u001b[1;33m\u001b[0m\u001b[0m\n\u001b[1;32m----> 2\u001b[1;33m \u001b[0mstu\u001b[0m\u001b[1;33m(\u001b[0m\u001b[0mname\u001b[0m\u001b[1;33m=\u001b[0m\u001b[1;34m\"jingjing\"\u001b[0m\u001b[1;33m)\u001b[0m\u001b[1;33m\u001b[0m\u001b[0m\n\u001b[0m",
      "\u001b[1;31mTypeError\u001b[0m: stu() got an unexpected keyword argument 'name'"
     ]
    }
   ],
   "source": [
    "##收集参数中如果想使用关键字参数格式调用，会出现问题\n",
    "stu(name=\"jingjing\")"
   ]
  },
  {
   "cell_type": "markdown",
   "metadata": {},
   "source": [
    "### 收集参数之关键字收集参数\n",
    "- 把关键字按字典格式存入收集参数\n",
    "- 语法\n",
    "        def func(**kwargs):\n",
    "            func_body\n",
    "        #调用\n",
    "        func(p1=v1,p2=v2,p3=v3...)\n",
    "        #kwargs一般约定俗成\n",
    "        #调用的时候，把多余的关键字参数放入kwargs\n",
    "        #访问kwargs需要按字典格式访问"
   ]
  },
  {
   "cell_type": "code",
   "execution_count": 20,
   "metadata": {},
   "outputs": [
    {
     "name": "stdout",
     "output_type": "stream",
     "text": [
      "自我介绍\n",
      "<class 'dict'>\n",
      "name --- jingjing\n",
      "age --- 19\n",
      "addr --- nanjing\n",
      "lover --- duoduo\n",
      "******\n",
      "自我介绍\n",
      "<class 'dict'>\n",
      "name --- xixi\n"
     ]
    }
   ],
   "source": [
    "def stu(**kwargs):\n",
    "    print(\"自我介绍\")\n",
    "    print(type(kwargs))\n",
    "    for k,v in (kwargs.items()): #字典有attribute items\n",
    "        print(k, \"---\", v)\n",
    "    \n",
    "    \n",
    "    \n",
    "stu(name=\"jingjing\", age=19, addr=\"nanjing\", lover=\"duoduo\")\n",
    "\n",
    "print(\"******\")\n",
    "stu(name=\"xixi\")"
   ]
  },
  {
   "cell_type": "code",
   "execution_count": 23,
   "metadata": {},
   "outputs": [
    {
     "name": "stdout",
     "output_type": "stream",
     "text": [
      "hello,自我介绍\n",
      "<class 'tuple'>\n"
     ]
    }
   ],
   "source": [
    "# 收集参数可以为空案例\n",
    "stu()"
   ]
  },
  {
   "cell_type": "code",
   "execution_count": null,
   "metadata": {
    "collapsed": true
   },
   "outputs": [],
   "source": [
    "### 收集参数混合调用都顺序问题\n",
    "- 收集参数，关键字参数，普通参数可以混合使用\n",
    "- 普通规则就是，普通参数和关键字参数优先\n",
    "- 定义的时候一般找普通参数，关键字参数，收集参数tuple， dict"
   ]
  },
  {
   "cell_type": "code",
   "execution_count": 40,
   "metadata": {},
   "outputs": [
    {
     "name": "stdout",
     "output_type": "stream",
     "text": [
      "大家好\n",
      "我叫jingjing，我今年19岁\n",
      "no hobby\n",
      "**\n",
      "**\n",
      "大家好\n",
      "我叫jingjing，我今年19岁\n",
      "hobby is swimming\n",
      "**\n",
      "**\n",
      "大家好\n",
      "我叫jingjing，我今年19岁\n",
      "hobby is swimming\n",
      "**\n",
      "abc\n",
      "def\n",
      "**\n",
      "hobby2 ... cooking\n"
     ]
    }
   ],
   "source": [
    "# 收集参数混合调用案例\n",
    "#stu一个学生自我介绍\n",
    "def stu(name, age, *args,hobby = \"None\",  **kwargs):\n",
    "    print(\"大家好\")\n",
    "    print(\"我叫{0}，我今年{1}岁\".format(name,age))\n",
    "    if hobby ==\"None\":\n",
    "        print (\"no hobby\")\n",
    "    else:\n",
    "        print(\"hobby is {0}\".format(hobby))\n",
    "    \n",
    "    print(\"**\")\n",
    "    for i in args:\n",
    "        print(i)\n",
    "    print(\"**\")\n",
    "    for k,v in kwargs.items():\n",
    "        print(k, \"...\", v)\n",
    "\n",
    "        \n",
    "name =\"jingjing\"\n",
    "age = 19\n",
    "# 调用\n",
    "stu(name, age)\n",
    "stu(name, age, hobby=\"swimming\")\n",
    "\n",
    "stu(name, age, \"abc\", \"def\",  hobby=\"swimming\",hobby2=\"cooking\")\n"
   ]
  },
  {
   "cell_type": "code",
   "execution_count": null,
   "metadata": {
    "collapsed": true
   },
   "outputs": [],
   "source": [
    "## 收集参数的解包问题\n",
    "- 把参数放入list或者字典中，直接把list/dict中的值放入参数中"
   ]
  },
  {
   "cell_type": "code",
   "execution_count": 48,
   "metadata": {},
   "outputs": [
    {
     "name": "stdout",
     "output_type": "stream",
     "text": [
      "....\n",
      "<class 'tuple'>\n",
      "<class 'list'>\n",
      "['abc', 'def', 'uio', 'poi', '18', 18]\n",
      "....\n",
      "<class 'tuple'>\n",
      "<class 'str'>\n",
      "abc\n",
      "<class 'str'>\n",
      "def\n",
      "<class 'str'>\n",
      "uio\n",
      "<class 'str'>\n",
      "poi\n",
      "<class 'str'>\n",
      "18\n",
      "<class 'int'>\n",
      "18\n"
     ]
    }
   ],
   "source": [
    "def stu(*args):\n",
    "    print(\"....\")\n",
    "    print(type(args))\n",
    "    for i in args:\n",
    "        print(type(i))\n",
    "        print (i)\n",
    "#stu(\"abc\",\"def\",\"uio\",\"poi\")\n",
    "L = [\"abc\",\"def\",\"uio\",\"poi\",\"18\",18]\n",
    "\n",
    "stu(L)\n",
    "# args的表示形式是字典里面一个list类型的元素，arg=（[\"abc\",\"def\",\"uio\",\"poi\"]，）\n",
    "# 此时的调用，需要一个解包 一个*\n",
    "stu(*L)\n",
    "\n",
    "字典dict类型收集参数一样可以解包，需要用两个**s进行解包"
   ]
  },
  {
   "cell_type": "markdown",
   "metadata": {},
   "source": [
    "# 返回值\n",
    "有无返回值\n",
    "需要用return显示返回内容\n",
    "如果没有返回，则默认返回None\n",
    "推荐写法，最后都以return结束"
   ]
  },
  {
   "cell_type": "code",
   "execution_count": 50,
   "metadata": {},
   "outputs": [
    {
     "name": "stdout",
     "output_type": "stream",
     "text": [
      "有返回值\n",
      "1\n",
      "没有返回值\n",
      "None\n"
     ]
    }
   ],
   "source": [
    "def func_1():\n",
    "    print(\"有返回值\")\n",
    "    return 1\n",
    "def func_2():\n",
    "    print(\"没有返回值\")\n",
    "\n",
    "f1 = func_1()\n",
    "print(f1)\n",
    "\n",
    "f2 = func_2()\n",
    "print(f2)"
   ]
  },
  {
   "cell_type": "markdown",
   "metadata": {},
   "source": [
    "# 函数文档\n",
    "- 对当前函数提供使用相关都参考信息\n",
    "- 文档的写法\n",
    "    -第一行使用三字符串定义符\n",
    "    - 一般具有特定格式\n",
    "    - 看案例\n",
    "- 文档查看\n",
    "    - 使用help函数，help(func)\n",
    "    - doc\n"
   ]
  },
  {
   "cell_type": "code",
   "execution_count": 54,
   "metadata": {},
   "outputs": [
    {
     "name": "stdout",
     "output_type": "stream",
     "text": [
      "Help on function stu in module __main__:\n",
      "\n",
      "stu(name, age, *args)\n",
      "    这是文档一\n",
      "    这是文档二\n",
      "    这是文档三\n",
      "\n"
     ]
    },
    {
     "data": {
      "text/plain": [
       "'\\n    这是文档一\\n    这是文档二\\n    这是文档三\\n    \\n    '"
      ]
     },
     "execution_count": 54,
     "metadata": {},
     "output_type": "execute_result"
    }
   ],
   "source": [
    "#文档案例\n",
    "\n",
    "def stu(name, age, *args):\n",
    "    '''\n",
    "    这是文档一\n",
    "    这是文档二\n",
    "    这是文档三\n",
    "    \n",
    "    '''\n",
    "    print(\"this is hanshu stu\")\n",
    "\n",
    "help(stu)\n",
    "stu.__doc__"
   ]
  },
  {
   "cell_type": "code",
   "execution_count": 55,
   "metadata": {},
   "outputs": [
    {
     "name": "stdout",
     "output_type": "stream",
     "text": [
      "Help on function stu in module __main__:\n",
      "\n",
      "stu(name, age, *args)\n",
      "    这是文档一\n",
      "    这是文档二\n",
      "    这是文档三\n",
      "\n",
      "None\n"
     ]
    }
   ],
   "source": [
    "print(help(stu))"
   ]
  },
  {
   "cell_type": "code",
   "execution_count": 56,
   "metadata": {},
   "outputs": [
    {
     "name": "stdout",
     "output_type": "stream",
     "text": [
      "\n",
      "    这是文档一\n",
      "    这是文档二\n",
      "    这是文档三\n",
      "    \n",
      "    \n"
     ]
    }
   ],
   "source": [
    "print(stu.__doc__)"
   ]
  },
  {
   "cell_type": "code",
   "execution_count": null,
   "metadata": {
    "collapsed": true
   },
   "outputs": [],
   "source": []
  }
 ],
 "metadata": {
  "kernelspec": {
   "display_name": "Python 3",
   "language": "python",
   "name": "python3"
  },
  "language_info": {
   "codemirror_mode": {
    "name": "ipython",
    "version": 3
   },
   "file_extension": ".py",
   "mimetype": "text/x-python",
   "name": "python",
   "nbconvert_exporter": "python",
   "pygments_lexer": "ipython3",
   "version": "3.6.3"
  }
 },
 "nbformat": 4,
 "nbformat_minor": 2
}
