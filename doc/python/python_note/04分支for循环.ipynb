{
 "cells": [
  {
   "cell_type": "markdown",
   "metadata": {},
   "source": [
    "# 分支\n",
    "if 条件表达式：\n",
    "    语句1\n",
    "    语句2\n",
    "    语句3\n",
    "    ...\n",
    "冒号不能少\n",
    "统一缩进"
   ]
  },
  {
   "cell_type": "code",
   "execution_count": 14,
   "metadata": {},
   "outputs": [
    {
     "name": "stdout",
     "output_type": "stream",
     "text": [
      "大于18\n",
      "hahha\n"
     ]
    }
   ],
   "source": [
    "age = 30\n",
    "if age<18:\n",
    "    print (\"小于18\")\n",
    "    print (\"abc\")\n",
    "else:\n",
    "    print(\"大于18\")\n",
    "print(\"hahha\")"
   ]
  },
  {
   "cell_type": "code",
   "execution_count": 15,
   "metadata": {},
   "outputs": [
    {
     "name": "stdout",
     "output_type": "stream",
     "text": [
      "大于18\n"
     ]
    }
   ],
   "source": [
    "age = 20\n",
    "if age<18:\n",
    "    print (\"小于18\")\n",
    "    print (\"abc\")\n",
    "if age>18:\n",
    "    print(\"大于18\")"
   ]
  },
  {
   "cell_type": "code",
   "execution_count": 19,
   "metadata": {},
   "outputs": [
    {
     "name": "stdout",
     "output_type": "stream",
     "text": [
      "def\n"
     ]
    }
   ],
   "source": [
    "gender = \"男\"\n",
    "if gender == '女':\n",
    "    print ('abc')\n",
    "else:\n",
    "    print ('def')"
   ]
  },
  {
   "cell_type": "code",
   "execution_count": 20,
   "metadata": {},
   "outputs": [
    {
     "name": "stdout",
     "output_type": "stream",
     "text": [
      "请输入性别nan\n",
      "你输入都性别是：nan\n",
      "\n",
      "\n"
     ]
    }
   ],
   "source": [
    "gender = input(\"请输入性别\")\n",
    "print(\"你输入都性别是: {0}\".format(gender))\n",
    "if gender == \"\":\n",
    "    print(\"\")\n",
    "else:\n",
    "    print(\"\")\n",
    "print(\"\")\n"
   ]
  },
  {
   "cell_type": "code",
   "execution_count": 27,
   "metadata": {},
   "outputs": [
    {
     "name": "stdout",
     "output_type": "stream",
     "text": [
      "input your score: 100\n",
      "A\n"
     ]
    }
   ],
   "source": [
    "##考试成绩\n",
    "#90以上 优\n",
    "#80-90 良\n",
    "#70-80 中\n",
    "#60-70 平\n",
    "#60以下 不及格\n",
    "score = input(\"input your score: \")\n",
    "score = int(score)\n",
    "if score>=90:\n",
    "    print(\"A\")\n",
    "if score>=80 and score<90:\n",
    "    print(\"B\")\n",
    "if score >=70 and score<80:\n",
    "    print(\"C\")\n",
    "if score >=60 and score<70:\n",
    "    print(\"D\")\n",
    "if score <60:\n",
    "    print(\"F\")"
   ]
  },
  {
   "cell_type": "markdown",
   "metadata": {},
   "source": [
    "## 多路分支 \n",
    "if :\n",
    "    ...\n",
    "elif:\n",
    "    ...\n",
    "elif:\n",
    "    ...\n",
    "else:\n",
    "- elif k也有很多\n",
    "- else 可选\n",
    "- 只选择一个执行\n"
   ]
  },
  {
   "cell_type": "code",
   "execution_count": 28,
   "metadata": {},
   "outputs": [
    {
     "name": "stdout",
     "output_type": "stream",
     "text": [
      "input your score: 90\n",
      "A\n"
     ]
    }
   ],
   "source": [
    "score = input(\"input your score: \")\n",
    "score = int(score)\n",
    "if score>=90:\n",
    "    print(\"A\")\n",
    "elif score>=80:\n",
    "    print(\"B\")\n",
    "elif score >=70:\n",
    "    print(\"C\")\n",
    "elif score >=60:\n",
    "    print(\"D\")\n",
    "else: \n",
    "    print(\"F\")"
   ]
  },
  {
   "cell_type": "markdown",
   "metadata": {},
   "source": [
    "## if 语句其他：\n",
    "- if语句可以嵌套使用，但不推荐\n",
    "- python没有 switch-case语句\n"
   ]
  },
  {
   "cell_type": "markdown",
   "metadata": {},
   "source": [
    "# 循环语句\n",
    "- 重复执行某些固定动作或者处理基本固定事物\n",
    "- 分类\n",
    "    - for 循环\n",
    "    - while 循环\n",
    "## for循环\n",
    " for 变量 in 序列:\n",
    "     语句1\n",
    "     语句2\n",
    "     ..."
   ]
  },
  {
   "cell_type": "code",
   "execution_count": 35,
   "metadata": {},
   "outputs": [
    {
     "name": "stdout",
     "output_type": "stream",
     "text": [
      "a\n",
      "1234\n",
      "b\n",
      "5678\n",
      "c\n",
      "5678\n",
      "d\n",
      "5678\n"
     ]
    }
   ],
   "source": [
    "## 列表 用中括号表示\n",
    "#['a','b','c','d']\n",
    "# 打印列表\n",
    "for name in ['a','b','c','d']:\n",
    "    print (name)\n",
    "    if name == \"a\":\n",
    "        print (\"1234\")\n",
    "    else:\n",
    "        print(\"5678\")"
   ]
  },
  {
   "cell_type": "code",
   "execution_count": 36,
   "metadata": {},
   "outputs": [
    {
     "name": "stdout",
     "output_type": "stream",
     "text": [
      "1\n",
      "2\n",
      "3\n",
      "4\n",
      "5\n",
      "6\n",
      "7\n",
      "8\n",
      "9\n",
      "10\n"
     ]
    }
   ],
   "source": [
    " ## range\n",
    "#打印1-10\n",
    "## randint是特例，左右都包含\n",
    "for i in range(1,11):\n",
    "    print(i)"
   ]
  },
  {
   "cell_type": "code",
   "execution_count": 38,
   "metadata": {},
   "outputs": [
    {
     "name": "stdout",
     "output_type": "stream",
     "text": [
      "a\n",
      "1234\n",
      "b\n",
      "5678\n",
      "c\n",
      "5678\n",
      "d\n",
      "5678\n",
      "0000\n"
     ]
    }
   ],
   "source": [
    "## for-else语句\n",
    "# for循环结束都时候，再执行else语句\n",
    "# else语句是可选语句 \n",
    "\n",
    "for name in ['a','b','c','d']:\n",
    "    print (name)\n",
    "    if name == \"a\":\n",
    "        print (\"1234\")\n",
    "    else:\n",
    "        print(\"5678\")\n",
    "else:\n",
    "    print(\"0000\")"
   ]
  },
  {
   "cell_type": "markdown",
   "metadata": {},
   "source": [
    "## for循环 break，continue，pass\n",
    "- break：无条件结束整个循环\n",
    "- continue： 无条件结束本次循环，重新进入下一循环\n",
    "- pass：表示略过"
   ]
  },
  {
   "cell_type": "code",
   "execution_count": 43,
   "metadata": {},
   "outputs": [
    {
     "name": "stdout",
     "output_type": "stream",
     "text": [
      "1\n",
      "2\n",
      "3\n",
      "4\n",
      "5\n",
      "6\n",
      "7 get it\n"
     ]
    }
   ],
   "source": [
    "# 在1-10的数字中，寻找数字7，一旦找到，打印出来，其他什么都不做\n",
    "# i,k,m,n或者indx，idx，item之类\n",
    "#在python中，如果循环变量名称不重要，可以用下划线（——）代替\n",
    "for i in range(1,11):\n",
    "    if i ==7:\n",
    "        print(str(i)+ \" get it\")\n",
    "        break\n",
    "        \n",
    "    else:\n",
    "        print(i)\n",
    "    "
   ]
  },
  {
   "cell_type": "code",
   "execution_count": 48,
   "metadata": {},
   "outputs": [
    {
     "name": "stdout",
     "output_type": "stream",
     "text": [
      "2 是偶数\n",
      "4 是偶数\n",
      "6 是偶数\n",
      "8 是偶数\n",
      "10 是偶数\n"
     ]
    }
   ],
   "source": [
    "# 在1-10的数字中，寻找所有偶数，找到偶数后打印偶数\n",
    "# continue\n",
    "for i in range(1,11):\n",
    "    if i %2 == 1:\n",
    "        \n",
    "        continue\n",
    "        \n",
    "        \n",
    "    else:\n",
    "        print(\"{0} 是偶数\".format(i))"
   ]
  },
  {
   "cell_type": "code",
   "execution_count": 49,
   "metadata": {},
   "outputs": [
    {
     "name": "stdout",
     "output_type": "stream",
     "text": [
      "2 是偶数\n",
      "4 是偶数\n",
      "6 是偶数\n",
      "8 是偶数\n",
      "10 是偶数\n"
     ]
    }
   ],
   "source": [
    "for i in range(1,11):\n",
    "    if i %2 == 0:\n",
    "        print(\"{0} 是偶数\".format(i))"
   ]
  },
  {
   "cell_type": "code",
   "execution_count": 54,
   "metadata": {},
   "outputs": [
    {
     "name": "stdout",
     "output_type": "stream",
     "text": [
      "2 是偶数\n",
      "4 是偶数\n",
      "6 是偶数\n",
      "8 是偶数\n",
      "10 是偶数\n"
     ]
    }
   ],
   "source": [
    "for i in range(1,11):\n",
    "    if i %2 == 1:        \n",
    "        continue #结束本次循环，进入下一个循环\n",
    "    print(\"{0} 是偶数\".format(i))"
   ]
  },
  {
   "cell_type": "code",
   "execution_count": 56,
   "metadata": {
    "collapsed": true
   },
   "outputs": [],
   "source": [
    "## pass 一般用于站位\n",
    "\n",
    "for i in range(1,11):\n",
    "    pass"
   ]
  }
 ],
 "metadata": {
  "kernelspec": {
   "display_name": "Python 3",
   "language": "python",
   "name": "python3"
  },
  "language_info": {
   "codemirror_mode": {
    "name": "ipython",
    "version": 3
   },
   "file_extension": ".py",
   "mimetype": "text/x-python",
   "name": "python",
   "nbconvert_exporter": "python",
   "pygments_lexer": "ipython3",
   "version": "3.6.3"
  }
 },
 "nbformat": 4,
 "nbformat_minor": 2
}
