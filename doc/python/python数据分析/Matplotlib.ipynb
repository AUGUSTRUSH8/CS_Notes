{
 "cells": [
  {
   "cell_type": "markdown",
   "metadata": {},
   "source": [
    "# Matplotlib\n",
    "\n",
    "## 什么是matplotlib\n",
    "\n",
    "- 专门用于开发2D图表（包括3D图表，画二维图表的python库\n",
    "    - mat matrix 矩阵\n",
    "        - 二维数据 - 二维图表\n",
    "    - plot 画图\n",
    "    - lib library\n",
    "- 使用起来很简单\n",
    "- 以渐进，交互方式实现数据可视化\n",
    "\n",
    "\n",
    "## 为什么要学习matplotlib\n",
    "- 可视化是在整个数据挖掘的关键辅助工具，可以清晰的理解数据，从而调整分析方法\n",
    "    - 能将数据进行可视化，更直观的呈现\n",
    "    - 使数据更加客观，更具有说服力\n",
    "    - 帮助理解数据，方便选择更合适的分析方法\n",
    "- js库 -D3 echarts 可实现更酷炫的3D效果\n",
    "- 奥卡姆剃刀原理 如无必要不要增加实体\n",
    "\n",
    "## 实现一个简单的matplotlib画图"
   ]
  },
  {
   "cell_type": "code",
   "execution_count": 3,
   "metadata": {
    "scrolled": true
   },
   "outputs": [
    {
     "data": {
      "image/png": "[encoded data removed]",
      "text/plain": [
       "<matplotlib.figure.Figure at 0x27581b7ffd0>"
      ]
     },
     "metadata": {},
     "output_type": "display_data"
    }
   ],
   "source": [
    "#导包，把pyplot重新命名plt\n",
    "import matplotlib.pyplot as plt \n",
    "%matplotlib inline\n",
    "\n",
    "# figure 创建一个画布 准备添加数据\n",
    "plt.figure()\n",
    "# 两个参数 plot 传的第一个参数是横坐标，第二个参数是纵坐标\n",
    "plt.plot([1,0,9],[4,5,6])\n",
    "# 呈现结果\n",
    "plt.show()"
   ]
  },
  {
   "cell_type": "markdown",
   "metadata": {},
   "source": [
    "## matplotlib三层结构\n",
    "### 容器层\n",
    "容器层主要是Canvas，Figure，Axes组成。\n",
    "画板层，画布层，绘图区(坐标系)\n",
    "- Canvas是位于最底层的系统层，用户一般接触不到，在绘图的过程中充当画板的角色，即放置画布figure的工具。\n",
    "- figure是Canvas上方的第一层，也是需要用户来操作的应用层的第一层，在绘图的过程中充当画布的角色。\n",
    "- Axes是应用层的第二层，在绘图的过程中相当于画布上绘图区的角色。\n",
    "    - figure：指整个图形，可以通过plt.figure()设置画布的大小和分辨率\n",
    "    - axes(坐标系)： 数据的绘图区域\n",
    "    - axis(坐标轴)：坐标系中的一条轴，包含大小限制，刻度和刻度标签\n",
    "    - plt.subplots() 创建多个绘图区，每个绘图区都有坐标轴\n",
    "- 特点：\n",
    "    - 一个figure画布可以包含多个axes(坐标系/绘图区)，但是一个axes只能属于一个figure\n",
    "    - 一个axes(坐标系/绘图区) 可以包含多个axis(坐标轴)，包含两个为2点坐标系，包含3个为3d坐标系\n",
    "    \n",
    "### 辅助显示层\n",
    "辅助显示层为axes(绘图区)内的除了根据数据绘制出来的图像外的内容，主要包括axes外观facecolor，边框线spines，坐标轴axis，坐标轴名称axis label，坐标轴刻度tick，坐标轴刻度标签tick label，网络线grid，图例legend，标题title等\n",
    "这层的设置可使图像显示更加直观更加容易被用户理解，但又不会对图像产生实质的影响。\n",
    "\n",
    "### 图像层\n",
    "图像是指axes内通过plot，scatter，bar，histogram，pei等函数根据数据描绘出的图像"
   ]
  },
  {
   "cell_type": "code",
   "execution_count": null,
   "metadata": {
    "collapsed": true
   },
   "outputs": [],
   "source": []
  },
  {
   "cell_type": "code",
   "execution_count": null,
   "metadata": {
    "collapsed": true
   },
   "outputs": [],
   "source": []
  },
  {
   "cell_type": "code",
   "execution_count": null,
   "metadata": {
    "collapsed": true
   },
   "outputs": [],
   "source": []
  },
  {
   "cell_type": "code",
   "execution_count": null,
   "metadata": {
    "collapsed": true
   },
   "outputs": [],
   "source": []
  },
  {
   "cell_type": "code",
   "execution_count": null,
   "metadata": {
    "collapsed": true
   },
   "outputs": [],
   "source": []
  },
  {
   "cell_type": "code",
   "execution_count": null,
   "metadata": {
    "collapsed": true
   },
   "outputs": [],
   "source": []
  }
 ],
 "metadata": {
  "kernelspec": {
   "display_name": "Python 3",
   "language": "python",
   "name": "python3"
  },
  "language_info": {
   "codemirror_mode": {
    "name": "ipython",
    "version": 3
   },
   "file_extension": ".py",
   "mimetype": "text/x-python",
   "name": "python",
   "nbconvert_exporter": "python",
   "pygments_lexer": "ipython3",
   "version": "3.6.3"
  }
 },
 "nbformat": 4,
 "nbformat_minor": 2
}
