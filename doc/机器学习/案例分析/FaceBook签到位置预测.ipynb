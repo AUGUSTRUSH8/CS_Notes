{
 "cells": [
  {
   "cell_type": "markdown",
   "metadata": {},
   "source": [
    "# 数据集介绍  \n",
    "\n",
    "本次大赛的目的是预测一个人想签入到哪个地方。FaceBook创建了一个人造的世界，10公里*10公里的一个区域。对于一个给定的坐标，你的任务是返回最有可能的地方的排名列表  \n",
    "\n",
    "## 数据集数据  \n",
    "\n",
    "```\n",
    "train_csv, test_csv\n",
    "row_id: id of the check_in event 登记事情的id\n",
    "x y: coordiantes 坐标系\n",
    "accuracy: location accuracy 定位准确度\n",
    "time: timestamp 时间戳\n",
    "place_id: id of the business. this is the target you are predicting   预测签到的位置 \n",
    "```\n",
    "## 流程分析\n",
    "- 获取数据\n",
    "- 数据处理\n",
    "    - 为了减少时间，缩小数据范围\n",
    "        - 2<x<2.5   1.0<y<1.5\n",
    "    - time处理成有意义的数据年月日时分秒 \n",
    "    - 过滤签到次数少的地点\n",
    "    - 整理特征值 x 目标值y\n",
    "- 数据集划分\n",
    "- 特征工程：标准化\n",
    "- KNN算法预估流程\n",
    "- 模型选择与调优\n",
    "- 模型评估"
   ]
  },
  {
   "cell_type": "code",
   "execution_count": 8,
   "metadata": {
    "collapsed": true
   },
   "outputs": [],
   "source": [
    "import pandas as pd"
   ]
  },
  {
   "cell_type": "code",
   "execution_count": 9,
   "metadata": {
    "collapsed": true
   },
   "outputs": [],
   "source": [
    "data = pd.read_csv(\"./FBlocation/train.csv\")"
   ]
  },
  {
   "cell_type": "code",
   "execution_count": 33,
   "metadata": {},
   "outputs": [
    {
     "data": {
      "text/html": [
       "<div>\n",
       "<style>\n",
       "    .dataframe thead tr:only-child th {\n",
       "        text-align: right;\n",
       "    }\n",
       "\n",
       "    .dataframe thead th {\n",
       "        text-align: left;\n",
       "    }\n",
       "\n",
       "    .dataframe tbody tr th {\n",
       "        vertical-align: top;\n",
       "    }\n",
       "</style>\n",
       "<table border=\"1\" class=\"dataframe\">\n",
       "  <thead>\n",
       "    <tr style=\"text-align: right;\">\n",
       "      <th></th>\n",
       "      <th>row_id</th>\n",
       "      <th>x</th>\n",
       "      <th>y</th>\n",
       "      <th>accuracy</th>\n",
       "      <th>time</th>\n",
       "      <th>place_id</th>\n",
       "      <th>day</th>\n",
       "      <th>weekday</th>\n",
       "      <th>hour</th>\n",
       "    </tr>\n",
       "  </thead>\n",
       "  <tbody>\n",
       "    <tr>\n",
       "      <th>112</th>\n",
       "      <td>112</td>\n",
       "      <td>2.2360</td>\n",
       "      <td>1.3655</td>\n",
       "      <td>66</td>\n",
       "      <td>623174</td>\n",
       "      <td>7663031065</td>\n",
       "      <td>8</td>\n",
       "      <td>3</td>\n",
       "      <td>5</td>\n",
       "    </tr>\n",
       "    <tr>\n",
       "      <th>180</th>\n",
       "      <td>180</td>\n",
       "      <td>2.2003</td>\n",
       "      <td>1.2541</td>\n",
       "      <td>65</td>\n",
       "      <td>610195</td>\n",
       "      <td>2358558474</td>\n",
       "      <td>8</td>\n",
       "      <td>3</td>\n",
       "      <td>1</td>\n",
       "    </tr>\n",
       "    <tr>\n",
       "      <th>367</th>\n",
       "      <td>367</td>\n",
       "      <td>2.4108</td>\n",
       "      <td>1.3213</td>\n",
       "      <td>74</td>\n",
       "      <td>579667</td>\n",
       "      <td>6644108708</td>\n",
       "      <td>7</td>\n",
       "      <td>2</td>\n",
       "      <td>17</td>\n",
       "    </tr>\n",
       "    <tr>\n",
       "      <th>874</th>\n",
       "      <td>874</td>\n",
       "      <td>2.0822</td>\n",
       "      <td>1.1973</td>\n",
       "      <td>320</td>\n",
       "      <td>143566</td>\n",
       "      <td>3229876087</td>\n",
       "      <td>2</td>\n",
       "      <td>4</td>\n",
       "      <td>15</td>\n",
       "    </tr>\n",
       "    <tr>\n",
       "      <th>1022</th>\n",
       "      <td>1022</td>\n",
       "      <td>2.0160</td>\n",
       "      <td>1.1659</td>\n",
       "      <td>65</td>\n",
       "      <td>207993</td>\n",
       "      <td>3244363975</td>\n",
       "      <td>3</td>\n",
       "      <td>5</td>\n",
       "      <td>9</td>\n",
       "    </tr>\n",
       "  </tbody>\n",
       "</table>\n",
       "</div>"
      ],
      "text/plain": [
       "      row_id       x       y  accuracy    time    place_id  day  weekday  hour\n",
       "112      112  2.2360  1.3655        66  623174  7663031065    8        3     5\n",
       "180      180  2.2003  1.2541        65  610195  2358558474    8        3     1\n",
       "367      367  2.4108  1.3213        74  579667  6644108708    7        2    17\n",
       "874      874  2.0822  1.1973       320  143566  3229876087    2        4    15\n",
       "1022    1022  2.0160  1.1659        65  207993  3244363975    3        5     9"
      ]
     },
     "execution_count": 33,
     "metadata": {},
     "output_type": "execute_result"
    }
   ],
   "source": [
    "data.head()"
   ]
  },
  {
   "cell_type": "markdown",
   "metadata": {},
   "source": [
    "### 为了减少时间，缩小数据范围\n",
    "- 数据处理\n",
    "- 缩小数据范围\n",
    "- 2<x<2.5   1.0<y<1.5"
   ]
  },
  {
   "cell_type": "code",
   "execution_count": 34,
   "metadata": {},
   "outputs": [
    {
     "data": {
      "text/html": [
       "<div>\n",
       "<style>\n",
       "    .dataframe thead tr:only-child th {\n",
       "        text-align: right;\n",
       "    }\n",
       "\n",
       "    .dataframe thead th {\n",
       "        text-align: left;\n",
       "    }\n",
       "\n",
       "    .dataframe tbody tr th {\n",
       "        vertical-align: top;\n",
       "    }\n",
       "</style>\n",
       "<table border=\"1\" class=\"dataframe\">\n",
       "  <thead>\n",
       "    <tr style=\"text-align: right;\">\n",
       "      <th></th>\n",
       "      <th>row_id</th>\n",
       "      <th>x</th>\n",
       "      <th>y</th>\n",
       "      <th>accuracy</th>\n",
       "      <th>time</th>\n",
       "      <th>place_id</th>\n",
       "      <th>day</th>\n",
       "      <th>weekday</th>\n",
       "      <th>hour</th>\n",
       "    </tr>\n",
       "  </thead>\n",
       "  <tbody>\n",
       "    <tr>\n",
       "      <th>112</th>\n",
       "      <td>112</td>\n",
       "      <td>2.2360</td>\n",
       "      <td>1.3655</td>\n",
       "      <td>66</td>\n",
       "      <td>623174</td>\n",
       "      <td>7663031065</td>\n",
       "      <td>8</td>\n",
       "      <td>3</td>\n",
       "      <td>5</td>\n",
       "    </tr>\n",
       "    <tr>\n",
       "      <th>180</th>\n",
       "      <td>180</td>\n",
       "      <td>2.2003</td>\n",
       "      <td>1.2541</td>\n",
       "      <td>65</td>\n",
       "      <td>610195</td>\n",
       "      <td>2358558474</td>\n",
       "      <td>8</td>\n",
       "      <td>3</td>\n",
       "      <td>1</td>\n",
       "    </tr>\n",
       "    <tr>\n",
       "      <th>367</th>\n",
       "      <td>367</td>\n",
       "      <td>2.4108</td>\n",
       "      <td>1.3213</td>\n",
       "      <td>74</td>\n",
       "      <td>579667</td>\n",
       "      <td>6644108708</td>\n",
       "      <td>7</td>\n",
       "      <td>2</td>\n",
       "      <td>17</td>\n",
       "    </tr>\n",
       "    <tr>\n",
       "      <th>874</th>\n",
       "      <td>874</td>\n",
       "      <td>2.0822</td>\n",
       "      <td>1.1973</td>\n",
       "      <td>320</td>\n",
       "      <td>143566</td>\n",
       "      <td>3229876087</td>\n",
       "      <td>2</td>\n",
       "      <td>4</td>\n",
       "      <td>15</td>\n",
       "    </tr>\n",
       "    <tr>\n",
       "      <th>1022</th>\n",
       "      <td>1022</td>\n",
       "      <td>2.0160</td>\n",
       "      <td>1.1659</td>\n",
       "      <td>65</td>\n",
       "      <td>207993</td>\n",
       "      <td>3244363975</td>\n",
       "      <td>3</td>\n",
       "      <td>5</td>\n",
       "      <td>9</td>\n",
       "    </tr>\n",
       "  </tbody>\n",
       "</table>\n",
       "</div>"
      ],
      "text/plain": [
       "      row_id       x       y  accuracy    time    place_id  day  weekday  hour\n",
       "112      112  2.2360  1.3655        66  623174  7663031065    8        3     5\n",
       "180      180  2.2003  1.2541        65  610195  2358558474    8        3     1\n",
       "367      367  2.4108  1.3213        74  579667  6644108708    7        2    17\n",
       "874      874  2.0822  1.1973       320  143566  3229876087    2        4    15\n",
       "1022    1022  2.0160  1.1659        65  207993  3244363975    3        5     9"
      ]
     },
     "execution_count": 34,
     "metadata": {},
     "output_type": "execute_result"
    }
   ],
   "source": [
    "data = data.query(\"x < 2.5 & x > 2 & y < 1.5 & y > 1.0\")\n",
    "data.head()"
   ]
  },
  {
   "cell_type": "markdown",
   "metadata": {},
   "source": [
    "### time处理成有意义的数据年月日时分秒\n",
    "- 修改时间戳\n",
    "- 添加合理的时间数据"
   ]
  },
  {
   "cell_type": "code",
   "execution_count": 15,
   "metadata": {},
   "outputs": [],
   "source": [
    "# 处理时间戳成比较有意义的数据\n",
    "time_value = pd.to_datetime(data['time'],unit='s')"
   ]
  },
  {
   "cell_type": "code",
   "execution_count": 16,
   "metadata": {},
   "outputs": [
    {
     "data": {
      "text/plain": [
       "array(['1970-01-08T05:06:14.000000000', '1970-01-08T01:29:55.000000000',\n",
       "       '1970-01-07T17:01:07.000000000', ...,\n",
       "       '1970-01-09T20:46:26.000000000', '1970-01-02T18:11:58.000000000',\n",
       "       '1970-01-01T22:06:09.000000000'], dtype='datetime64[ns]')"
      ]
     },
     "execution_count": 16,
     "metadata": {},
     "output_type": "execute_result"
    }
   ],
   "source": [
    "time_value.values"
   ]
  },
  {
   "cell_type": "code",
   "execution_count": 19,
   "metadata": {},
   "outputs": [
    {
     "data": {
      "text/plain": [
       "DatetimeIndex(['1970-01-08 05:06:14', '1970-01-08 01:29:55',\n",
       "               '1970-01-07 17:01:07', '1970-01-02 15:52:46',\n",
       "               '1970-01-03 09:46:33', '1970-01-06 19:49:38',\n",
       "               '1970-01-06 13:33:24', '1970-01-02 22:49:55',\n",
       "               '1970-01-04 14:30:10', '1970-01-07 16:57:44',\n",
       "               ...\n",
       "               '1970-01-02 09:24:50', '1970-01-01 10:29:34',\n",
       "               '1970-01-09 11:38:46', '1970-01-02 03:42:14',\n",
       "               '1970-01-04 22:02:44', '1970-01-09 08:31:25',\n",
       "               '1970-01-07 12:29:49', '1970-01-09 20:46:26',\n",
       "               '1970-01-02 18:11:58', '1970-01-01 22:06:09'],\n",
       "              dtype='datetime64[ns]', name='time', length=83197, freq=None)"
      ]
     },
     "execution_count": 19,
     "metadata": {},
     "output_type": "execute_result"
    }
   ],
   "source": [
    "## 转换成DatetimeIndex的格式，方便转换成星期几\n",
    "date = pd.DatetimeIndex(time_value)\n",
    "date"
   ]
  },
  {
   "cell_type": "code",
   "execution_count": 21,
   "metadata": {},
   "outputs": [
    {
     "data": {
      "text/plain": [
       "Int64Index([1970, 1970, 1970, 1970, 1970, 1970, 1970, 1970, 1970, 1970,\n",
       "            ...\n",
       "            1970, 1970, 1970, 1970, 1970, 1970, 1970, 1970, 1970, 1970],\n",
       "           dtype='int64', name='time', length=83197)"
      ]
     },
     "execution_count": 21,
     "metadata": {},
     "output_type": "execute_result"
    }
   ],
   "source": [
    "date.year"
   ]
  },
  {
   "cell_type": "code",
   "execution_count": 22,
   "metadata": {},
   "outputs": [
    {
     "data": {
      "text/plain": [
       "Int64Index([1, 1, 1, 1, 1, 1, 1, 1, 1, 1,\n",
       "            ...\n",
       "            1, 1, 1, 1, 1, 1, 1, 1, 1, 1],\n",
       "           dtype='int64', name='time', length=83197)"
      ]
     },
     "execution_count": 22,
     "metadata": {},
     "output_type": "execute_result"
    }
   ],
   "source": [
    "date.month"
   ]
  },
  {
   "cell_type": "code",
   "execution_count": 24,
   "metadata": {},
   "outputs": [
    {
     "data": {
      "text/plain": [
       "Int64Index([3, 3, 2, 4, 5, 1, 1, 4, 6, 2,\n",
       "            ...\n",
       "            4, 3, 4, 4, 6, 4, 2, 4, 4, 3],\n",
       "           dtype='int64', name='time', length=83197)"
      ]
     },
     "execution_count": 24,
     "metadata": {},
     "output_type": "execute_result"
    }
   ],
   "source": [
    "# 获取的时间年都是1970年，以及都是一月份，并不是有意义的数据\n",
    "# 获取时间数据转换成星期数据，小时数据, 以及天数据\n",
    "date.weekday"
   ]
  },
  {
   "cell_type": "code",
   "execution_count": 25,
   "metadata": {},
   "outputs": [
    {
     "data": {
      "text/plain": [
       "Int64Index([8, 8, 7, 2, 3, 6, 6, 2, 4, 7,\n",
       "            ...\n",
       "            2, 1, 9, 2, 4, 9, 7, 9, 2, 1],\n",
       "           dtype='int64', name='time', length=83197)"
      ]
     },
     "execution_count": 25,
     "metadata": {},
     "output_type": "execute_result"
    }
   ],
   "source": [
    "date.day"
   ]
  },
  {
   "cell_type": "code",
   "execution_count": 26,
   "metadata": {},
   "outputs": [
    {
     "data": {
      "text/plain": [
       "Int64Index([ 5,  1, 17, 15,  9, 19, 13, 22, 14, 16,\n",
       "            ...\n",
       "             9, 10, 11,  3, 22,  8, 12, 20, 18, 22],\n",
       "           dtype='int64', name='time', length=83197)"
      ]
     },
     "execution_count": 26,
     "metadata": {},
     "output_type": "execute_result"
    }
   ],
   "source": [
    "date.hour"
   ]
  },
  {
   "cell_type": "code",
   "execution_count": 27,
   "metadata": {
    "collapsed": true
   },
   "outputs": [],
   "source": [
    "# 对原数据进行添加\n",
    "data[\"day\"] = date.day"
   ]
  },
  {
   "cell_type": "code",
   "execution_count": 28,
   "metadata": {
    "collapsed": true
   },
   "outputs": [],
   "source": [
    "data[\"weekday\"] = date.weekday"
   ]
  },
  {
   "cell_type": "code",
   "execution_count": 30,
   "metadata": {
    "collapsed": true
   },
   "outputs": [],
   "source": [
    "data[\"hour\"] = date.hour"
   ]
  },
  {
   "cell_type": "code",
   "execution_count": 35,
   "metadata": {},
   "outputs": [
    {
     "data": {
      "text/html": [
       "<div>\n",
       "<style>\n",
       "    .dataframe thead tr:only-child th {\n",
       "        text-align: right;\n",
       "    }\n",
       "\n",
       "    .dataframe thead th {\n",
       "        text-align: left;\n",
       "    }\n",
       "\n",
       "    .dataframe tbody tr th {\n",
       "        vertical-align: top;\n",
       "    }\n",
       "</style>\n",
       "<table border=\"1\" class=\"dataframe\">\n",
       "  <thead>\n",
       "    <tr style=\"text-align: right;\">\n",
       "      <th></th>\n",
       "      <th>row_id</th>\n",
       "      <th>x</th>\n",
       "      <th>y</th>\n",
       "      <th>accuracy</th>\n",
       "      <th>time</th>\n",
       "      <th>place_id</th>\n",
       "      <th>day</th>\n",
       "      <th>weekday</th>\n",
       "      <th>hour</th>\n",
       "    </tr>\n",
       "  </thead>\n",
       "  <tbody>\n",
       "    <tr>\n",
       "      <th>112</th>\n",
       "      <td>112</td>\n",
       "      <td>2.2360</td>\n",
       "      <td>1.3655</td>\n",
       "      <td>66</td>\n",
       "      <td>623174</td>\n",
       "      <td>7663031065</td>\n",
       "      <td>8</td>\n",
       "      <td>3</td>\n",
       "      <td>5</td>\n",
       "    </tr>\n",
       "    <tr>\n",
       "      <th>180</th>\n",
       "      <td>180</td>\n",
       "      <td>2.2003</td>\n",
       "      <td>1.2541</td>\n",
       "      <td>65</td>\n",
       "      <td>610195</td>\n",
       "      <td>2358558474</td>\n",
       "      <td>8</td>\n",
       "      <td>3</td>\n",
       "      <td>1</td>\n",
       "    </tr>\n",
       "    <tr>\n",
       "      <th>367</th>\n",
       "      <td>367</td>\n",
       "      <td>2.4108</td>\n",
       "      <td>1.3213</td>\n",
       "      <td>74</td>\n",
       "      <td>579667</td>\n",
       "      <td>6644108708</td>\n",
       "      <td>7</td>\n",
       "      <td>2</td>\n",
       "      <td>17</td>\n",
       "    </tr>\n",
       "    <tr>\n",
       "      <th>874</th>\n",
       "      <td>874</td>\n",
       "      <td>2.0822</td>\n",
       "      <td>1.1973</td>\n",
       "      <td>320</td>\n",
       "      <td>143566</td>\n",
       "      <td>3229876087</td>\n",
       "      <td>2</td>\n",
       "      <td>4</td>\n",
       "      <td>15</td>\n",
       "    </tr>\n",
       "    <tr>\n",
       "      <th>1022</th>\n",
       "      <td>1022</td>\n",
       "      <td>2.0160</td>\n",
       "      <td>1.1659</td>\n",
       "      <td>65</td>\n",
       "      <td>207993</td>\n",
       "      <td>3244363975</td>\n",
       "      <td>3</td>\n",
       "      <td>5</td>\n",
       "      <td>9</td>\n",
       "    </tr>\n",
       "  </tbody>\n",
       "</table>\n",
       "</div>"
      ],
      "text/plain": [
       "      row_id       x       y  accuracy    time    place_id  day  weekday  hour\n",
       "112      112  2.2360  1.3655        66  623174  7663031065    8        3     5\n",
       "180      180  2.2003  1.2541        65  610195  2358558474    8        3     1\n",
       "367      367  2.4108  1.3213        74  579667  6644108708    7        2    17\n",
       "874      874  2.0822  1.1973       320  143566  3229876087    2        4    15\n",
       "1022    1022  2.0160  1.1659        65  207993  3244363975    3        5     9"
      ]
     },
     "execution_count": 35,
     "metadata": {},
     "output_type": "execute_result"
    }
   ],
   "source": [
    "data.head()"
   ]
  },
  {
   "cell_type": "markdown",
   "metadata": {},
   "source": [
    "### 过滤签到次数少的地点\n",
    "- 先统计下地点的签到数据\n",
    "    - 不同的place_id被签到了几次\n",
    "        - 用分组聚合\n",
    "            - 返回groupby\n",
    "    - 过滤掉签到次数小于三的"
   ]
  },
  {
   "cell_type": "code",
   "execution_count": 41,
   "metadata": {},
   "outputs": [
    {
     "data": {
      "text/html": [
       "<div>\n",
       "<style>\n",
       "    .dataframe thead tr:only-child th {\n",
       "        text-align: right;\n",
       "    }\n",
       "\n",
       "    .dataframe thead th {\n",
       "        text-align: left;\n",
       "    }\n",
       "\n",
       "    .dataframe tbody tr th {\n",
       "        vertical-align: top;\n",
       "    }\n",
       "</style>\n",
       "<table border=\"1\" class=\"dataframe\">\n",
       "  <thead>\n",
       "    <tr style=\"text-align: right;\">\n",
       "      <th></th>\n",
       "      <th>row_id</th>\n",
       "      <th>x</th>\n",
       "      <th>y</th>\n",
       "      <th>accuracy</th>\n",
       "      <th>time</th>\n",
       "      <th>day</th>\n",
       "      <th>weekday</th>\n",
       "      <th>hour</th>\n",
       "    </tr>\n",
       "    <tr>\n",
       "      <th>place_id</th>\n",
       "      <th></th>\n",
       "      <th></th>\n",
       "      <th></th>\n",
       "      <th></th>\n",
       "      <th></th>\n",
       "      <th></th>\n",
       "      <th></th>\n",
       "      <th></th>\n",
       "    </tr>\n",
       "  </thead>\n",
       "  <tbody>\n",
       "    <tr>\n",
       "      <th>1012165853</th>\n",
       "      <td>1</td>\n",
       "      <td>1</td>\n",
       "      <td>1</td>\n",
       "      <td>1</td>\n",
       "      <td>1</td>\n",
       "      <td>1</td>\n",
       "      <td>1</td>\n",
       "      <td>1</td>\n",
       "    </tr>\n",
       "    <tr>\n",
       "      <th>1013991737</th>\n",
       "      <td>3</td>\n",
       "      <td>3</td>\n",
       "      <td>3</td>\n",
       "      <td>3</td>\n",
       "      <td>3</td>\n",
       "      <td>3</td>\n",
       "      <td>3</td>\n",
       "      <td>3</td>\n",
       "    </tr>\n",
       "    <tr>\n",
       "      <th>1014605271</th>\n",
       "      <td>28</td>\n",
       "      <td>28</td>\n",
       "      <td>28</td>\n",
       "      <td>28</td>\n",
       "      <td>28</td>\n",
       "      <td>28</td>\n",
       "      <td>28</td>\n",
       "      <td>28</td>\n",
       "    </tr>\n",
       "    <tr>\n",
       "      <th>1015645743</th>\n",
       "      <td>4</td>\n",
       "      <td>4</td>\n",
       "      <td>4</td>\n",
       "      <td>4</td>\n",
       "      <td>4</td>\n",
       "      <td>4</td>\n",
       "      <td>4</td>\n",
       "      <td>4</td>\n",
       "    </tr>\n",
       "    <tr>\n",
       "      <th>1017236154</th>\n",
       "      <td>31</td>\n",
       "      <td>31</td>\n",
       "      <td>31</td>\n",
       "      <td>31</td>\n",
       "      <td>31</td>\n",
       "      <td>31</td>\n",
       "      <td>31</td>\n",
       "      <td>31</td>\n",
       "    </tr>\n",
       "  </tbody>\n",
       "</table>\n",
       "</div>"
      ],
      "text/plain": [
       "            row_id   x   y  accuracy  time  day  weekday  hour\n",
       "place_id                                                      \n",
       "1012165853       1   1   1         1     1    1        1     1\n",
       "1013991737       3   3   3         3     3    3        3     3\n",
       "1014605271      28  28  28        28    28   28       28    28\n",
       "1015645743       4   4   4         4     4    4        4     4\n",
       "1017236154      31  31  31        31    31   31       31    31"
      ]
     },
     "execution_count": 41,
     "metadata": {},
     "output_type": "execute_result"
    }
   ],
   "source": [
    "# 签到次数\n",
    "data.groupby(\"place_id\").count().head()"
   ]
  },
  {
   "cell_type": "code",
   "execution_count": 96,
   "metadata": {},
   "outputs": [
    {
     "data": {
      "text/html": [
       "<div>\n",
       "<style>\n",
       "    .dataframe thead tr:only-child th {\n",
       "        text-align: right;\n",
       "    }\n",
       "\n",
       "    .dataframe thead th {\n",
       "        text-align: left;\n",
       "    }\n",
       "\n",
       "    .dataframe tbody tr th {\n",
       "        vertical-align: top;\n",
       "    }\n",
       "</style>\n",
       "<table border=\"1\" class=\"dataframe\">\n",
       "  <thead>\n",
       "    <tr style=\"text-align: right;\">\n",
       "      <th></th>\n",
       "      <th>row_id</th>\n",
       "      <th>x</th>\n",
       "      <th>y</th>\n",
       "      <th>accuracy</th>\n",
       "      <th>time</th>\n",
       "      <th>day</th>\n",
       "      <th>weekday</th>\n",
       "      <th>hour</th>\n",
       "    </tr>\n",
       "    <tr>\n",
       "      <th>place_id</th>\n",
       "      <th></th>\n",
       "      <th></th>\n",
       "      <th></th>\n",
       "      <th></th>\n",
       "      <th></th>\n",
       "      <th></th>\n",
       "      <th></th>\n",
       "      <th></th>\n",
       "    </tr>\n",
       "  </thead>\n",
       "  <tbody>\n",
       "    <tr>\n",
       "      <th>1012165853</th>\n",
       "      <td>1</td>\n",
       "      <td>1</td>\n",
       "      <td>1</td>\n",
       "      <td>1</td>\n",
       "      <td>1</td>\n",
       "      <td>1</td>\n",
       "      <td>1</td>\n",
       "      <td>1</td>\n",
       "    </tr>\n",
       "    <tr>\n",
       "      <th>1013991737</th>\n",
       "      <td>3</td>\n",
       "      <td>3</td>\n",
       "      <td>3</td>\n",
       "      <td>3</td>\n",
       "      <td>3</td>\n",
       "      <td>3</td>\n",
       "      <td>3</td>\n",
       "      <td>3</td>\n",
       "    </tr>\n",
       "    <tr>\n",
       "      <th>1014605271</th>\n",
       "      <td>28</td>\n",
       "      <td>28</td>\n",
       "      <td>28</td>\n",
       "      <td>28</td>\n",
       "      <td>28</td>\n",
       "      <td>28</td>\n",
       "      <td>28</td>\n",
       "      <td>28</td>\n",
       "    </tr>\n",
       "    <tr>\n",
       "      <th>1015645743</th>\n",
       "      <td>4</td>\n",
       "      <td>4</td>\n",
       "      <td>4</td>\n",
       "      <td>4</td>\n",
       "      <td>4</td>\n",
       "      <td>4</td>\n",
       "      <td>4</td>\n",
       "      <td>4</td>\n",
       "    </tr>\n",
       "    <tr>\n",
       "      <th>1017236154</th>\n",
       "      <td>31</td>\n",
       "      <td>31</td>\n",
       "      <td>31</td>\n",
       "      <td>31</td>\n",
       "      <td>31</td>\n",
       "      <td>31</td>\n",
       "      <td>31</td>\n",
       "      <td>31</td>\n",
       "    </tr>\n",
       "  </tbody>\n",
       "</table>\n",
       "</div>"
      ],
      "text/plain": [
       "            row_id   x   y  accuracy  time  day  weekday  hour\n",
       "place_id                                                      \n",
       "1012165853       1   1   1         1     1    1        1     1\n",
       "1013991737       3   3   3         3     3    3        3     3\n",
       "1014605271      28  28  28        28    28   28       28    28\n",
       "1015645743       4   4   4         4     4    4        4     4\n",
       "1017236154      31  31  31        31    31   31       31    31"
      ]
     },
     "execution_count": 96,
     "metadata": {},
     "output_type": "execute_result"
    }
   ],
   "source": [
    "place_count = data.groupby(\"place_id\").count()\n",
    "place_count.head()"
   ]
  },
  {
   "cell_type": "code",
   "execution_count": 93,
   "metadata": {
    "collapsed": true
   },
   "outputs": [],
   "source": [
    "place_count_id = place_count[\"row_id\"]"
   ]
  },
  {
   "cell_type": "code",
   "execution_count": 56,
   "metadata": {},
   "outputs": [
    {
     "data": {
      "text/plain": [
       "place_id\n",
       "1014605271    28\n",
       "1015645743     4\n",
       "1017236154    31\n",
       "1024951487     5\n",
       "1028119817     4\n",
       "Name: row_id, dtype: int64"
      ]
     },
     "execution_count": 56,
     "metadata": {},
     "output_type": "execute_result"
    }
   ],
   "source": [
    "# 过滤掉签到次数小于三的\n",
    "# 使用布尔索引\n",
    "place_count_id[place_count_id>3].head()"
   ]
  },
  {
   "cell_type": "code",
   "execution_count": 60,
   "metadata": {},
   "outputs": [
    {
     "data": {
      "text/plain": [
       "112      True\n",
       "180     False\n",
       "367      True\n",
       "874      True\n",
       "1022     True\n",
       "Name: place_id, dtype: bool"
      ]
     },
     "execution_count": 60,
     "metadata": {},
     "output_type": "execute_result"
    }
   ],
   "source": [
    "# 过滤data\n",
    "data[\"place_id\"].isin(place_count_id[place_count_id>3].index.values).head()"
   ]
  },
  {
   "cell_type": "code",
   "execution_count": 63,
   "metadata": {},
   "outputs": [
    {
     "data": {
      "text/html": [
       "<div>\n",
       "<style>\n",
       "    .dataframe thead tr:only-child th {\n",
       "        text-align: right;\n",
       "    }\n",
       "\n",
       "    .dataframe thead th {\n",
       "        text-align: left;\n",
       "    }\n",
       "\n",
       "    .dataframe tbody tr th {\n",
       "        vertical-align: top;\n",
       "    }\n",
       "</style>\n",
       "<table border=\"1\" class=\"dataframe\">\n",
       "  <thead>\n",
       "    <tr style=\"text-align: right;\">\n",
       "      <th></th>\n",
       "      <th>row_id</th>\n",
       "      <th>x</th>\n",
       "      <th>y</th>\n",
       "      <th>accuracy</th>\n",
       "      <th>time</th>\n",
       "      <th>place_id</th>\n",
       "      <th>day</th>\n",
       "      <th>weekday</th>\n",
       "      <th>hour</th>\n",
       "    </tr>\n",
       "  </thead>\n",
       "  <tbody>\n",
       "    <tr>\n",
       "      <th>112</th>\n",
       "      <td>112</td>\n",
       "      <td>2.2360</td>\n",
       "      <td>1.3655</td>\n",
       "      <td>66</td>\n",
       "      <td>623174</td>\n",
       "      <td>7663031065</td>\n",
       "      <td>8</td>\n",
       "      <td>3</td>\n",
       "      <td>5</td>\n",
       "    </tr>\n",
       "    <tr>\n",
       "      <th>367</th>\n",
       "      <td>367</td>\n",
       "      <td>2.4108</td>\n",
       "      <td>1.3213</td>\n",
       "      <td>74</td>\n",
       "      <td>579667</td>\n",
       "      <td>6644108708</td>\n",
       "      <td>7</td>\n",
       "      <td>2</td>\n",
       "      <td>17</td>\n",
       "    </tr>\n",
       "    <tr>\n",
       "      <th>874</th>\n",
       "      <td>874</td>\n",
       "      <td>2.0822</td>\n",
       "      <td>1.1973</td>\n",
       "      <td>320</td>\n",
       "      <td>143566</td>\n",
       "      <td>3229876087</td>\n",
       "      <td>2</td>\n",
       "      <td>4</td>\n",
       "      <td>15</td>\n",
       "    </tr>\n",
       "    <tr>\n",
       "      <th>1022</th>\n",
       "      <td>1022</td>\n",
       "      <td>2.0160</td>\n",
       "      <td>1.1659</td>\n",
       "      <td>65</td>\n",
       "      <td>207993</td>\n",
       "      <td>3244363975</td>\n",
       "      <td>3</td>\n",
       "      <td>5</td>\n",
       "      <td>9</td>\n",
       "    </tr>\n",
       "    <tr>\n",
       "      <th>1045</th>\n",
       "      <td>1045</td>\n",
       "      <td>2.3859</td>\n",
       "      <td>1.1660</td>\n",
       "      <td>498</td>\n",
       "      <td>503378</td>\n",
       "      <td>6438240873</td>\n",
       "      <td>6</td>\n",
       "      <td>1</td>\n",
       "      <td>19</td>\n",
       "    </tr>\n",
       "  </tbody>\n",
       "</table>\n",
       "</div>"
      ],
      "text/plain": [
       "      row_id       x       y  accuracy    time    place_id  day  weekday  hour\n",
       "112      112  2.2360  1.3655        66  623174  7663031065    8        3     5\n",
       "367      367  2.4108  1.3213        74  579667  6644108708    7        2    17\n",
       "874      874  2.0822  1.1973       320  143566  3229876087    2        4    15\n",
       "1022    1022  2.0160  1.1659        65  207993  3244363975    3        5     9\n",
       "1045    1045  2.3859  1.1660       498  503378  6438240873    6        1    19"
      ]
     },
     "execution_count": 63,
     "metadata": {},
     "output_type": "execute_result"
    }
   ],
   "source": [
    "# 在做一个对data的索引\n",
    "data_final = data[data[\"place_id\"].isin(place_count_id[place_count_id>3].index.values)]\n",
    "data_final.head()"
   ]
  },
  {
   "cell_type": "code",
   "execution_count": 68,
   "metadata": {},
   "outputs": [],
   "source": [
    "# 删选特征值和目标值\n",
    "x = data_final[[\"x\",\"y\",\"accuracy\",\"day\",\"weekday\",\"hour\"]]\n",
    "y = data_final[\"place_id\"]"
   ]
  },
  {
   "cell_type": "code",
   "execution_count": 71,
   "metadata": {},
   "outputs": [
    {
     "data": {
      "text/html": [
       "<div>\n",
       "<style>\n",
       "    .dataframe thead tr:only-child th {\n",
       "        text-align: right;\n",
       "    }\n",
       "\n",
       "    .dataframe thead th {\n",
       "        text-align: left;\n",
       "    }\n",
       "\n",
       "    .dataframe tbody tr th {\n",
       "        vertical-align: top;\n",
       "    }\n",
       "</style>\n",
       "<table border=\"1\" class=\"dataframe\">\n",
       "  <thead>\n",
       "    <tr style=\"text-align: right;\">\n",
       "      <th></th>\n",
       "      <th>x</th>\n",
       "      <th>y</th>\n",
       "      <th>accuracy</th>\n",
       "      <th>day</th>\n",
       "      <th>weekday</th>\n",
       "      <th>hour</th>\n",
       "    </tr>\n",
       "  </thead>\n",
       "  <tbody>\n",
       "    <tr>\n",
       "      <th>112</th>\n",
       "      <td>2.2360</td>\n",
       "      <td>1.3655</td>\n",
       "      <td>66</td>\n",
       "      <td>8</td>\n",
       "      <td>3</td>\n",
       "      <td>5</td>\n",
       "    </tr>\n",
       "    <tr>\n",
       "      <th>367</th>\n",
       "      <td>2.4108</td>\n",
       "      <td>1.3213</td>\n",
       "      <td>74</td>\n",
       "      <td>7</td>\n",
       "      <td>2</td>\n",
       "      <td>17</td>\n",
       "    </tr>\n",
       "    <tr>\n",
       "      <th>874</th>\n",
       "      <td>2.0822</td>\n",
       "      <td>1.1973</td>\n",
       "      <td>320</td>\n",
       "      <td>2</td>\n",
       "      <td>4</td>\n",
       "      <td>15</td>\n",
       "    </tr>\n",
       "    <tr>\n",
       "      <th>1022</th>\n",
       "      <td>2.0160</td>\n",
       "      <td>1.1659</td>\n",
       "      <td>65</td>\n",
       "      <td>3</td>\n",
       "      <td>5</td>\n",
       "      <td>9</td>\n",
       "    </tr>\n",
       "    <tr>\n",
       "      <th>1045</th>\n",
       "      <td>2.3859</td>\n",
       "      <td>1.1660</td>\n",
       "      <td>498</td>\n",
       "      <td>6</td>\n",
       "      <td>1</td>\n",
       "      <td>19</td>\n",
       "    </tr>\n",
       "  </tbody>\n",
       "</table>\n",
       "</div>"
      ],
      "text/plain": [
       "           x       y  accuracy  day  weekday  hour\n",
       "112   2.2360  1.3655        66    8        3     5\n",
       "367   2.4108  1.3213        74    7        2    17\n",
       "874   2.0822  1.1973       320    2        4    15\n",
       "1022  2.0160  1.1659        65    3        5     9\n",
       "1045  2.3859  1.1660       498    6        1    19"
      ]
     },
     "execution_count": 71,
     "metadata": {},
     "output_type": "execute_result"
    }
   ],
   "source": [
    "x.head()"
   ]
  },
  {
   "cell_type": "code",
   "execution_count": 98,
   "metadata": {},
   "outputs": [
    {
     "data": {
      "text/plain": [
       "112     7663031065\n",
       "367     6644108708\n",
       "874     3229876087\n",
       "1022    3244363975\n",
       "1045    6438240873\n",
       "Name: place_id, dtype: int64"
      ]
     },
     "execution_count": 98,
     "metadata": {},
     "output_type": "execute_result"
    }
   ],
   "source": [
    "y.head()"
   ]
  },
  {
   "cell_type": "markdown",
   "metadata": {},
   "source": [
    "### 数据集划分"
   ]
  },
  {
   "cell_type": "code",
   "execution_count": 73,
   "metadata": {
    "collapsed": true
   },
   "outputs": [],
   "source": [
    "# 数据集划分\n",
    "from sklearn.model_selection import train_test_split "
   ]
  },
  {
   "cell_type": "code",
   "execution_count": 74,
   "metadata": {
    "collapsed": true
   },
   "outputs": [],
   "source": [
    "x_train,x_test,y_train,y_test = train_test_split(x,y)"
   ]
  },
  {
   "cell_type": "code",
   "execution_count": 76,
   "metadata": {},
   "outputs": [
    {
     "data": {
      "text/html": [
       "<div>\n",
       "<style>\n",
       "    .dataframe thead tr:only-child th {\n",
       "        text-align: right;\n",
       "    }\n",
       "\n",
       "    .dataframe thead th {\n",
       "        text-align: left;\n",
       "    }\n",
       "\n",
       "    .dataframe tbody tr th {\n",
       "        vertical-align: top;\n",
       "    }\n",
       "</style>\n",
       "<table border=\"1\" class=\"dataframe\">\n",
       "  <thead>\n",
       "    <tr style=\"text-align: right;\">\n",
       "      <th></th>\n",
       "      <th>x</th>\n",
       "      <th>y</th>\n",
       "      <th>accuracy</th>\n",
       "      <th>day</th>\n",
       "      <th>weekday</th>\n",
       "      <th>hour</th>\n",
       "    </tr>\n",
       "  </thead>\n",
       "  <tbody>\n",
       "    <tr>\n",
       "      <th>28431067</th>\n",
       "      <td>2.0582</td>\n",
       "      <td>1.1462</td>\n",
       "      <td>5</td>\n",
       "      <td>4</td>\n",
       "      <td>6</td>\n",
       "      <td>12</td>\n",
       "    </tr>\n",
       "    <tr>\n",
       "      <th>27228652</th>\n",
       "      <td>2.1614</td>\n",
       "      <td>1.4778</td>\n",
       "      <td>70</td>\n",
       "      <td>8</td>\n",
       "      <td>3</td>\n",
       "      <td>4</td>\n",
       "    </tr>\n",
       "    <tr>\n",
       "      <th>2374344</th>\n",
       "      <td>2.3979</td>\n",
       "      <td>1.4139</td>\n",
       "      <td>93</td>\n",
       "      <td>4</td>\n",
       "      <td>6</td>\n",
       "      <td>20</td>\n",
       "    </tr>\n",
       "    <tr>\n",
       "      <th>9680394</th>\n",
       "      <td>2.0429</td>\n",
       "      <td>1.2291</td>\n",
       "      <td>72</td>\n",
       "      <td>7</td>\n",
       "      <td>2</td>\n",
       "      <td>20</td>\n",
       "    </tr>\n",
       "    <tr>\n",
       "      <th>2148587</th>\n",
       "      <td>2.1484</td>\n",
       "      <td>1.2679</td>\n",
       "      <td>29</td>\n",
       "      <td>6</td>\n",
       "      <td>1</td>\n",
       "      <td>5</td>\n",
       "    </tr>\n",
       "  </tbody>\n",
       "</table>\n",
       "</div>"
      ],
      "text/plain": [
       "               x       y  accuracy  day  weekday  hour\n",
       "28431067  2.0582  1.1462         5    4        6    12\n",
       "27228652  2.1614  1.4778        70    8        3     4\n",
       "2374344   2.3979  1.4139        93    4        6    20\n",
       "9680394   2.0429  1.2291        72    7        2    20\n",
       "2148587   2.1484  1.2679        29    6        1     5"
      ]
     },
     "execution_count": 76,
     "metadata": {},
     "output_type": "execute_result"
    }
   ],
   "source": [
    "x_train.head()"
   ]
  },
  {
   "cell_type": "code",
   "execution_count": 77,
   "metadata": {},
   "outputs": [
    {
     "data": {
      "text/html": [
       "<div>\n",
       "<style>\n",
       "    .dataframe thead tr:only-child th {\n",
       "        text-align: right;\n",
       "    }\n",
       "\n",
       "    .dataframe thead th {\n",
       "        text-align: left;\n",
       "    }\n",
       "\n",
       "    .dataframe tbody tr th {\n",
       "        vertical-align: top;\n",
       "    }\n",
       "</style>\n",
       "<table border=\"1\" class=\"dataframe\">\n",
       "  <thead>\n",
       "    <tr style=\"text-align: right;\">\n",
       "      <th></th>\n",
       "      <th>x</th>\n",
       "      <th>y</th>\n",
       "      <th>accuracy</th>\n",
       "      <th>day</th>\n",
       "      <th>weekday</th>\n",
       "      <th>hour</th>\n",
       "    </tr>\n",
       "  </thead>\n",
       "  <tbody>\n",
       "    <tr>\n",
       "      <th>19606411</th>\n",
       "      <td>2.3239</td>\n",
       "      <td>1.2449</td>\n",
       "      <td>76</td>\n",
       "      <td>9</td>\n",
       "      <td>4</td>\n",
       "      <td>20</td>\n",
       "    </tr>\n",
       "    <tr>\n",
       "      <th>3733238</th>\n",
       "      <td>2.3899</td>\n",
       "      <td>1.2112</td>\n",
       "      <td>42</td>\n",
       "      <td>5</td>\n",
       "      <td>0</td>\n",
       "      <td>12</td>\n",
       "    </tr>\n",
       "    <tr>\n",
       "      <th>23849836</th>\n",
       "      <td>2.3457</td>\n",
       "      <td>1.3791</td>\n",
       "      <td>76</td>\n",
       "      <td>4</td>\n",
       "      <td>6</td>\n",
       "      <td>18</td>\n",
       "    </tr>\n",
       "    <tr>\n",
       "      <th>27639088</th>\n",
       "      <td>2.1084</td>\n",
       "      <td>1.0483</td>\n",
       "      <td>155</td>\n",
       "      <td>9</td>\n",
       "      <td>4</td>\n",
       "      <td>0</td>\n",
       "    </tr>\n",
       "    <tr>\n",
       "      <th>5866275</th>\n",
       "      <td>2.3348</td>\n",
       "      <td>1.2559</td>\n",
       "      <td>167</td>\n",
       "      <td>8</td>\n",
       "      <td>3</td>\n",
       "      <td>23</td>\n",
       "    </tr>\n",
       "  </tbody>\n",
       "</table>\n",
       "</div>"
      ],
      "text/plain": [
       "               x       y  accuracy  day  weekday  hour\n",
       "19606411  2.3239  1.2449        76    9        4    20\n",
       "3733238   2.3899  1.2112        42    5        0    12\n",
       "23849836  2.3457  1.3791        76    4        6    18\n",
       "27639088  2.1084  1.0483       155    9        4     0\n",
       "5866275   2.3348  1.2559       167    8        3    23"
      ]
     },
     "execution_count": 77,
     "metadata": {},
     "output_type": "execute_result"
    }
   ],
   "source": [
    "x_test.head()"
   ]
  },
  {
   "cell_type": "code",
   "execution_count": 78,
   "metadata": {},
   "outputs": [
    {
     "data": {
      "text/plain": [
       "28431067    4231692509\n",
       "27228652    9936666116\n",
       "2374344     2128251934\n",
       "9680394     9081742495\n",
       "2148587     5111412226\n",
       "Name: place_id, dtype: int64"
      ]
     },
     "execution_count": 78,
     "metadata": {},
     "output_type": "execute_result"
    }
   ],
   "source": [
    "y_train.head()"
   ]
  },
  {
   "cell_type": "code",
   "execution_count": 80,
   "metadata": {},
   "outputs": [
    {
     "data": {
      "text/plain": [
       "19606411    2585551753\n",
       "3733238     3177384238\n",
       "23849836    4951395211\n",
       "27639088    4255947450\n",
       "5866275     9773056775\n",
       "Name: place_id, dtype: int64"
      ]
     },
     "execution_count": 80,
     "metadata": {},
     "output_type": "execute_result"
    }
   ],
   "source": [
    "y_test.head()"
   ]
  },
  {
   "cell_type": "code",
   "execution_count": 97,
   "metadata": {
    "collapsed": true
   },
   "outputs": [],
   "source": [
    "#特征工程 数据标准化\n",
    "from sklearn.preprocessing import StandardScaler\n",
    "#knn\n",
    "from sklearn.neighbors import KNeighborsClassifier\n",
    "#网格搜索与交叉验证\n",
    "from sklearn.model_selection import GridSearchCV"
   ]
  },
  {
   "cell_type": "markdown",
   "metadata": {},
   "source": [
    "### 特征工程：数据标准化"
   ]
  },
  {
   "cell_type": "code",
   "execution_count": 99,
   "metadata": {},
   "outputs": [],
   "source": [
    "# 特征工程：数据标准化\n",
    "transfer = StandardScaler()\n",
    "x_train = transfer.fit_transform(x_train)\n",
    "x_test = transfer.transform(x_test)"
   ]
  },
  {
   "cell_type": "markdown",
   "metadata": {},
   "source": [
    "### KNN算法预估流程"
   ]
  },
  {
   "cell_type": "code",
   "execution_count": 100,
   "metadata": {
    "collapsed": true
   },
   "outputs": [],
   "source": [
    "# KNN算法预估器，因为要加入网格搜寻和交叉验证法，所以不需要添加k值\n",
    "estimator = KNeighborsClassifier()"
   ]
  },
  {
   "cell_type": "markdown",
   "metadata": {},
   "source": [
    "### 模型选择与调优"
   ]
  },
  {
   "cell_type": "code",
   "execution_count": 101,
   "metadata": {},
   "outputs": [
    {
     "name": "stderr",
     "output_type": "stream",
     "text": [
      "D:\\anaconda\\lib\\site-packages\\sklearn\\model_selection\\_split.py:605: Warning: The least populated class in y has only 1 members, which is too few. The minimum number of members in any class cannot be less than n_splits=3.\n",
      "  % (min_groups, self.n_splits)), Warning)\n"
     ]
    },
    {
     "data": {
      "text/plain": [
       "GridSearchCV(cv=3, error_score='raise',\n",
       "       estimator=KNeighborsClassifier(algorithm='auto', leaf_size=30, metric='minkowski',\n",
       "           metric_params=None, n_jobs=1, n_neighbors=5, p=2,\n",
       "           weights='uniform'),\n",
       "       fit_params=None, iid=True, n_jobs=1,\n",
       "       param_grid={'n_neighbors': [3, 5, 7, 9]}, pre_dispatch='2*n_jobs',\n",
       "       refit=True, return_train_score='warn', scoring=None, verbose=0)"
      ]
     },
     "execution_count": 101,
     "metadata": {},
     "output_type": "execute_result"
    }
   ],
   "source": [
    "# 加入网格搜索与交叉验证\n",
    "# 参数准备 k值为字典格式\n",
    "param_dict = {\"n_neighbors\": [3, 5, 7, 9]}\n",
    "estimator = GridSearchCV(estimator, param_grid=param_dict, cv=3)\n",
    "estimator.fit(x_train, y_train)"
   ]
  },
  {
   "cell_type": "markdown",
   "metadata": {},
   "source": [
    "### 模型评估"
   ]
  },
  {
   "cell_type": "code",
   "execution_count": 91,
   "metadata": {},
   "outputs": [
    {
     "name": "stdout",
     "output_type": "stream",
     "text": [
      "y_predict:\n",
      " [2585551753 5304570159 6706708436 ..., 5600661085 5801995519 9764078387]\n",
      "直接比对真实值和预测值:\n",
      " 19606411     True\n",
      "3733238     False\n",
      "23849836    False\n",
      "27639088     True\n",
      "5866275      True\n",
      "26883481     True\n",
      "12628841    False\n",
      "26354845    False\n",
      "8797661      True\n",
      "2104761      True\n",
      "20529480    False\n",
      "11780123    False\n",
      "27441634    False\n",
      "19372956     True\n",
      "17458468     True\n",
      "8657405     False\n",
      "4694924     False\n",
      "17493647    False\n",
      "14189075     True\n",
      "8580097      True\n",
      "7894380      True\n",
      "15114892    False\n",
      "16739797     True\n",
      "10910858     True\n",
      "26235923    False\n",
      "5382207     False\n",
      "23573702    False\n",
      "4174870     False\n",
      "18541202     True\n",
      "116800      False\n",
      "            ...  \n",
      "7766770     False\n",
      "26097873    False\n",
      "22027458     True\n",
      "12463524     True\n",
      "3001035     False\n",
      "18147152     True\n",
      "14645989    False\n",
      "18207724     True\n",
      "11460414     True\n",
      "6168768     False\n",
      "15829678     True\n",
      "11710752     True\n",
      "28407512    False\n",
      "17534533     True\n",
      "25109375    False\n",
      "21971723     True\n",
      "8278330      True\n",
      "23381708    False\n",
      "17953927    False\n",
      "17955457    False\n",
      "12959591     True\n",
      "27458549    False\n",
      "10055960     True\n",
      "3167005     False\n",
      "14128185    False\n",
      "24174176     True\n",
      "25230768     True\n",
      "21932810    False\n",
      "26465115     True\n",
      "26383660     True\n",
      "Name: place_id, Length: 20228, dtype: bool\n",
      "准确率为：\n",
      " 0.361874629227\n",
      "最佳参数：\n",
      " {'n_neighbors': 7}\n",
      "最佳结果：\n",
      " 0.337167529086\n",
      "最佳估计器:\n",
      " KNeighborsClassifier(algorithm='auto', leaf_size=30, metric='minkowski',\n",
      "           metric_params=None, n_jobs=1, n_neighbors=7, p=2,\n",
      "           weights='uniform')\n",
      "交叉验证结果:\n",
      " {'mean_fit_time': array([ 0.08042447,  0.08281231,  0.08544676,  0.07679605]), 'std_fit_time': array([ 0.00261876,  0.00246685,  0.00168433,  0.00216404]), 'mean_score_time': array([ 1.28719163,  1.61812123,  1.80276601,  1.97567185]), 'std_score_time': array([ 0.07765963,  0.02331619,  0.06988084,  0.04722305]), 'param_n_neighbors': masked_array(data = [3 5 7 9],\n",
      "             mask = [False False False False],\n",
      "       fill_value = ?)\n",
      ", 'params': [{'n_neighbors': 3}, {'n_neighbors': 5}, {'n_neighbors': 7}, {'n_neighbors': 9}], 'split0_test_score': array([ 0.31719305,  0.32819115,  0.33072169,  0.32600127]), 'split1_test_score': array([ 0.3236574 ,  0.33572347,  0.33646524,  0.33354762]), 'split2_test_score': array([ 0.33192708,  0.34398071,  0.34453317,  0.33745166]), 'mean_test_score': array([ 0.3241818 ,  0.33588214,  0.33716753,  0.33227316]), 'std_test_score': array([ 0.0060262 ,  0.00644666,  0.00566   ,  0.00476038]), 'rank_test_score': array([4, 2, 1, 3]), 'split0_train_score': array([ 0.59390028,  0.5302868 ,  0.48713029,  0.45937259]), 'split1_train_score': array([ 0.59045971,  0.5252348 ,  0.48643104,  0.45845279]), 'split2_train_score': array([ 0.59022344,  0.5231905 ,  0.48389787,  0.45341051]), 'mean_train_score': array([ 0.59152781,  0.52623737,  0.48581973,  0.45707863]), 'std_train_score': array([ 0.00168036,  0.00298253,  0.00138862,  0.00262079])}\n"
     ]
    }
   ],
   "source": [
    "# 模型评估\n",
    "# 方法1：直接比对真实值和预测值\n",
    "y_predict = estimator.predict(x_test)\n",
    "print(\"y_predict:\\n\", y_predict)\n",
    "print(\"直接比对真实值和预测值:\\n\", y_test == y_predict)\n",
    "\n",
    "# 方法2：计算准确率\n",
    "score = estimator.score(x_test, y_test)\n",
    "print(\"准确率为：\\n\", score)\n",
    "\n",
    "# 最佳参数：best_params_\n",
    "print(\"最佳参数：\\n\", estimator.best_params_)\n",
    "# 最佳结果：best_score_\n",
    "print(\"最佳结果：\\n\", estimator.best_score_)\n",
    "# 最佳估计器：best_estimator_\n",
    "print(\"最佳估计器:\\n\", estimator.best_estimator_)\n",
    "# 交叉验证结果：cv_results_\n",
    "print(\"交叉验证结果:\\n\", estimator.cv_results_)"
   ]
  }
 ],
 "metadata": {
  "kernelspec": {
   "display_name": "Python 3",
   "language": "python",
   "name": "python3"
  },
  "language_info": {
   "codemirror_mode": {
    "name": "ipython",
    "version": 3
   },
   "file_extension": ".py",
   "mimetype": "text/x-python",
   "name": "python",
   "nbconvert_exporter": "python",
   "pygments_lexer": "ipython3",
   "version": "3.6.3"
  }
 },
 "nbformat": 4,
 "nbformat_minor": 2
}
