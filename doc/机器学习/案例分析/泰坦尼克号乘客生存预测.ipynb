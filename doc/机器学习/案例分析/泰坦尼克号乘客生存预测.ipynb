{
 "cells": [
  {
   "cell_type": "markdown",
   "metadata": {},
   "source": [
    "# 决策树，随机森林\n",
    "# 数据集介绍\n",
    "- 在泰坦尼克号和titanic2数据集描述泰坦尼克号上的个别乘客的生存状况\n",
    "## 数据集数据\n",
    "- 数据集中特征是票的类别，存活，乘坐班，年龄，登录，目的地，房间，票，船，性别\n",
    "- pclass乘坐班是指乘客班(1,2,3)，是社会经济阶层的代表\n",
    "- 其中age数据存在缺失\n",
    "## 流程分析\n",
    "- 获取数据\n",
    "- 数据处理\n",
    "    - 缺失值处理\n",
    "    - 特征类别转换成字典类型，方便之后一起转换成one-hot编码\n",
    "    - 准备好特征值，目标值\n",
    "- 划分数据集\n",
    "- 特征工程:字典特征抽取 不需要做标准化\n",
    "- 决策树预估器流程\n",
    "- 模型评估\n",
    "\n",
    "### 获取数据"
   ]
  },
  {
   "cell_type": "code",
   "execution_count": 50,
   "metadata": {},
   "outputs": [
    {
     "data": {
      "text/html": [
       "<div>\n",
       "<style>\n",
       "    .dataframe thead tr:only-child th {\n",
       "        text-align: right;\n",
       "    }\n",
       "\n",
       "    .dataframe thead th {\n",
       "        text-align: left;\n",
       "    }\n",
       "\n",
       "    .dataframe tbody tr th {\n",
       "        vertical-align: top;\n",
       "    }\n",
       "</style>\n",
       "<table border=\"1\" class=\"dataframe\">\n",
       "  <thead>\n",
       "    <tr style=\"text-align: right;\">\n",
       "      <th></th>\n",
       "      <th>row.names</th>\n",
       "      <th>pclass</th>\n",
       "      <th>survived</th>\n",
       "      <th>name</th>\n",
       "      <th>age</th>\n",
       "      <th>embarked</th>\n",
       "      <th>home.dest</th>\n",
       "      <th>room</th>\n",
       "      <th>ticket</th>\n",
       "      <th>boat</th>\n",
       "      <th>sex</th>\n",
       "    </tr>\n",
       "  </thead>\n",
       "  <tbody>\n",
       "    <tr>\n",
       "      <th>0</th>\n",
       "      <td>1</td>\n",
       "      <td>1st</td>\n",
       "      <td>1</td>\n",
       "      <td>Allen, Miss Elisabeth Walton</td>\n",
       "      <td>29.0000</td>\n",
       "      <td>Southampton</td>\n",
       "      <td>St Louis, MO</td>\n",
       "      <td>B-5</td>\n",
       "      <td>24160 L221</td>\n",
       "      <td>2</td>\n",
       "      <td>female</td>\n",
       "    </tr>\n",
       "    <tr>\n",
       "      <th>1</th>\n",
       "      <td>2</td>\n",
       "      <td>1st</td>\n",
       "      <td>0</td>\n",
       "      <td>Allison, Miss Helen Loraine</td>\n",
       "      <td>2.0000</td>\n",
       "      <td>Southampton</td>\n",
       "      <td>Montreal, PQ / Chesterville, ON</td>\n",
       "      <td>C26</td>\n",
       "      <td>NaN</td>\n",
       "      <td>NaN</td>\n",
       "      <td>female</td>\n",
       "    </tr>\n",
       "    <tr>\n",
       "      <th>2</th>\n",
       "      <td>3</td>\n",
       "      <td>1st</td>\n",
       "      <td>0</td>\n",
       "      <td>Allison, Mr Hudson Joshua Creighton</td>\n",
       "      <td>30.0000</td>\n",
       "      <td>Southampton</td>\n",
       "      <td>Montreal, PQ / Chesterville, ON</td>\n",
       "      <td>C26</td>\n",
       "      <td>NaN</td>\n",
       "      <td>(135)</td>\n",
       "      <td>male</td>\n",
       "    </tr>\n",
       "    <tr>\n",
       "      <th>3</th>\n",
       "      <td>4</td>\n",
       "      <td>1st</td>\n",
       "      <td>0</td>\n",
       "      <td>Allison, Mrs Hudson J.C. (Bessie Waldo Daniels)</td>\n",
       "      <td>25.0000</td>\n",
       "      <td>Southampton</td>\n",
       "      <td>Montreal, PQ / Chesterville, ON</td>\n",
       "      <td>C26</td>\n",
       "      <td>NaN</td>\n",
       "      <td>NaN</td>\n",
       "      <td>female</td>\n",
       "    </tr>\n",
       "    <tr>\n",
       "      <th>4</th>\n",
       "      <td>5</td>\n",
       "      <td>1st</td>\n",
       "      <td>1</td>\n",
       "      <td>Allison, Master Hudson Trevor</td>\n",
       "      <td>0.9167</td>\n",
       "      <td>Southampton</td>\n",
       "      <td>Montreal, PQ / Chesterville, ON</td>\n",
       "      <td>C22</td>\n",
       "      <td>NaN</td>\n",
       "      <td>11</td>\n",
       "      <td>male</td>\n",
       "    </tr>\n",
       "  </tbody>\n",
       "</table>\n",
       "</div>"
      ],
      "text/plain": [
       "   row.names pclass  survived  \\\n",
       "0          1    1st         1   \n",
       "1          2    1st         0   \n",
       "2          3    1st         0   \n",
       "3          4    1st         0   \n",
       "4          5    1st         1   \n",
       "\n",
       "                                              name      age     embarked  \\\n",
       "0                     Allen, Miss Elisabeth Walton  29.0000  Southampton   \n",
       "1                      Allison, Miss Helen Loraine   2.0000  Southampton   \n",
       "2              Allison, Mr Hudson Joshua Creighton  30.0000  Southampton   \n",
       "3  Allison, Mrs Hudson J.C. (Bessie Waldo Daniels)  25.0000  Southampton   \n",
       "4                    Allison, Master Hudson Trevor   0.9167  Southampton   \n",
       "\n",
       "                         home.dest room      ticket   boat     sex  \n",
       "0                     St Louis, MO  B-5  24160 L221      2  female  \n",
       "1  Montreal, PQ / Chesterville, ON  C26         NaN    NaN  female  \n",
       "2  Montreal, PQ / Chesterville, ON  C26         NaN  (135)    male  \n",
       "3  Montreal, PQ / Chesterville, ON  C26         NaN    NaN  female  \n",
       "4  Montreal, PQ / Chesterville, ON  C22         NaN     11    male  "
      ]
     },
     "execution_count": 50,
     "metadata": {},
     "output_type": "execute_result"
    }
   ],
   "source": [
    "import pandas as pd\n",
    "titanic = pd.read_csv(\"./titanic.csv\")\n",
    "titanic.head()"
   ]
  },
  {
   "cell_type": "markdown",
   "metadata": {},
   "source": [
    "### 数据处理\n",
    "- 缺失值处理\n",
    "- 特征类别转换成字典类型，方便之后一起转换成one-hot编码\n",
    "- 准备好特征值，目标值"
   ]
  },
  {
   "cell_type": "code",
   "execution_count": 51,
   "metadata": {
    "collapsed": true
   },
   "outputs": [],
   "source": [
    "# 删选数据\n",
    "# 特征值\n",
    "x = titanic[[\"pclass\",\"age\",\"sex\"]]\n",
    "# 目标值\n",
    "y = titanic[\"survived\"]"
   ]
  },
  {
   "cell_type": "code",
   "execution_count": 52,
   "metadata": {},
   "outputs": [
    {
     "data": {
      "text/html": [
       "<div>\n",
       "<style>\n",
       "    .dataframe thead tr:only-child th {\n",
       "        text-align: right;\n",
       "    }\n",
       "\n",
       "    .dataframe thead th {\n",
       "        text-align: left;\n",
       "    }\n",
       "\n",
       "    .dataframe tbody tr th {\n",
       "        vertical-align: top;\n",
       "    }\n",
       "</style>\n",
       "<table border=\"1\" class=\"dataframe\">\n",
       "  <thead>\n",
       "    <tr style=\"text-align: right;\">\n",
       "      <th></th>\n",
       "      <th>pclass</th>\n",
       "      <th>age</th>\n",
       "      <th>sex</th>\n",
       "    </tr>\n",
       "  </thead>\n",
       "  <tbody>\n",
       "    <tr>\n",
       "      <th>0</th>\n",
       "      <td>1st</td>\n",
       "      <td>29.0000</td>\n",
       "      <td>female</td>\n",
       "    </tr>\n",
       "    <tr>\n",
       "      <th>1</th>\n",
       "      <td>1st</td>\n",
       "      <td>2.0000</td>\n",
       "      <td>female</td>\n",
       "    </tr>\n",
       "    <tr>\n",
       "      <th>2</th>\n",
       "      <td>1st</td>\n",
       "      <td>30.0000</td>\n",
       "      <td>male</td>\n",
       "    </tr>\n",
       "    <tr>\n",
       "      <th>3</th>\n",
       "      <td>1st</td>\n",
       "      <td>25.0000</td>\n",
       "      <td>female</td>\n",
       "    </tr>\n",
       "    <tr>\n",
       "      <th>4</th>\n",
       "      <td>1st</td>\n",
       "      <td>0.9167</td>\n",
       "      <td>male</td>\n",
       "    </tr>\n",
       "  </tbody>\n",
       "</table>\n",
       "</div>"
      ],
      "text/plain": [
       "  pclass      age     sex\n",
       "0    1st  29.0000  female\n",
       "1    1st   2.0000  female\n",
       "2    1st  30.0000    male\n",
       "3    1st  25.0000  female\n",
       "4    1st   0.9167    male"
      ]
     },
     "execution_count": 52,
     "metadata": {},
     "output_type": "execute_result"
    }
   ],
   "source": [
    "x.head()"
   ]
  },
  {
   "cell_type": "code",
   "execution_count": 53,
   "metadata": {},
   "outputs": [
    {
     "data": {
      "text/plain": [
       "0    1\n",
       "1    0\n",
       "2    0\n",
       "3    0\n",
       "4    1\n",
       "Name: survived, dtype: int64"
      ]
     },
     "execution_count": 53,
     "metadata": {},
     "output_type": "execute_result"
    }
   ],
   "source": [
    "y.head()"
   ]
  },
  {
   "cell_type": "code",
   "execution_count": 54,
   "metadata": {},
   "outputs": [
    {
     "name": "stderr",
     "output_type": "stream",
     "text": [
      "D:\\anaconda\\lib\\site-packages\\pandas\\core\\generic.py:3660: SettingWithCopyWarning: \n",
      "A value is trying to be set on a copy of a slice from a DataFrame\n",
      "\n",
      "See the caveats in the documentation: http://pandas.pydata.org/pandas-docs/stable/indexing.html#indexing-view-versus-copy\n",
      "  self._update_inplace(new_data)\n"
     ]
    }
   ],
   "source": [
    "# 缺失值处理 填补age缺失值\n",
    "# 先索引\n",
    "x[\"age\"].fillna(x[\"age\"].mean(),inplace=True)"
   ]
  },
  {
   "cell_type": "code",
   "execution_count": 55,
   "metadata": {
    "collapsed": true
   },
   "outputs": [],
   "source": [
    "# 转换成字典\n",
    "x = x.to_dict(orient=\"records\")"
   ]
  },
  {
   "cell_type": "markdown",
   "metadata": {},
   "source": [
    "### 划分数据集"
   ]
  },
  {
   "cell_type": "code",
   "execution_count": 67,
   "metadata": {
    "collapsed": true
   },
   "outputs": [],
   "source": [
    "from sklearn.model_selection import train_test_split\n",
    "x_train,x_test,y_train,y_test = train_test_split(x,y,random_state=22)"
   ]
  },
  {
   "cell_type": "markdown",
   "metadata": {},
   "source": [
    "### 特征工程:字典特征抽取 不需要做标准化"
   ]
  },
  {
   "cell_type": "code",
   "execution_count": 68,
   "metadata": {
    "collapsed": true
   },
   "outputs": [],
   "source": [
    "from sklearn.feature_extraction import DictVectorizer\n",
    "from sklearn.tree import DecisionTreeClassifier,export_graphviz\n",
    "transfer = DictVectorizer()\n",
    "x_train = transfer.fit_transform(x_train)\n",
    "x_test = transfer.transform(x_test)"
   ]
  },
  {
   "cell_type": "markdown",
   "metadata": {},
   "source": [
    "### 决策树预估器流程\n"
   ]
  },
  {
   "cell_type": "code",
   "execution_count": 72,
   "metadata": {},
   "outputs": [
    {
     "data": {
      "text/plain": [
       "DecisionTreeClassifier(class_weight=None, criterion='entropy', max_depth=8,\n",
       "            max_features=None, max_leaf_nodes=None,\n",
       "            min_impurity_decrease=0.0, min_impurity_split=None,\n",
       "            min_samples_leaf=1, min_samples_split=2,\n",
       "            min_weight_fraction_leaf=0.0, presort=False, random_state=None,\n",
       "            splitter='best')"
      ]
     },
     "execution_count": 72,
     "metadata": {},
     "output_type": "execute_result"
    }
   ],
   "source": [
    "# 决策树预估器\n",
    "from sklearn.tree import DecisionTreeClassifier\n",
    "estimator = DecisionTreeClassifier(criterion=\"entropy\", max_depth=8)\n",
    "estimator.fit(x_train, y_train)\n"
   ]
  },
  {
   "cell_type": "markdown",
   "metadata": {
    "collapsed": true
   },
   "source": [
    "### 模型评估\n"
   ]
  },
  {
   "cell_type": "code",
   "execution_count": 74,
   "metadata": {},
   "outputs": [
    {
     "name": "stdout",
     "output_type": "stream",
     "text": [
      "y_predict:\n",
      " [0 0 0 0 1 1 1 0 0 1 0 1 0 0 0 0 0 0 0 0 0 0 0 0 1 0 0 0 1 1 0 1 0 1 0 0 0\n",
      " 0 0 0 0 0 0 0 0 0 1 1 0 1 0 1 0 0 0 0 0 1 0 0 0 0 0 0 0 0 0 1 0 0 1 0 0 0\n",
      " 0 1 0 0 0 1 0 1 0 0 0 0 0 0 0 0 0 0 0 1 0 1 0 1 0 1 0 0 0 0 0 0 0 0 0 0 1\n",
      " 0 1 0 0 0 0 0 0 0 0 0 1 0 0 1 1 0 1 0 0 0 0 0 0 0 0 0 0 0 1 1 0 0 0 0 1 1\n",
      " 1 0 0 0 0 0 0 0 1 0 0 0 0 0 1 1 0 1 0 0 0 0 1 0 0 0 0 0 1 1 1 1 0 0 0 0 0\n",
      " 0 0 0 1 1 1 0 0 0 0 1 1 1 0 0 0 0 0 0 0 0 0 1 0 0 0 0 0 1 1 0 0 0 0 0 1 0\n",
      " 0 0 1 0 0 0 0 0 0 1 0 0 0 0 1 0 1 0 0 0 1 0 0 1 0 0 0 0 1 0 1 0 0 0 0 1 0\n",
      " 0 1 1 1 0 0 1 1 1 0 1 0 0 0 0 0 0 0 1 0 0 0 0 0 0 0 0 0 0 0 1 0 0 0 0 1 1\n",
      " 0 0 0 1 0 0 0 0 0 0 0 0 0 0 0 0 0 1 0 0 0 0 0 0 1 1 0 1 0 0 0 0 1]\n",
      "直接比对真实值和预测值:\n",
      " 831      True\n",
      "261      True\n",
      "1210     True\n",
      "1155     True\n",
      "255      True\n",
      "762      True\n",
      "615      True\n",
      "507      True\n",
      "1175     True\n",
      "301      True\n",
      "1134     True\n",
      "177     False\n",
      "183     False\n",
      "125     False\n",
      "1093     True\n",
      "1304    False\n",
      "1124     True\n",
      "798     False\n",
      "1101     True\n",
      "1239    False\n",
      "1153     True\n",
      "1068    False\n",
      "846      True\n",
      "148      True\n",
      "478      True\n",
      "642      True\n",
      "1298     True\n",
      "540      True\n",
      "28       True\n",
      "130      True\n",
      "        ...  \n",
      "194      True\n",
      "663      True\n",
      "1209     True\n",
      "117     False\n",
      "595     False\n",
      "1151    False\n",
      "1143     True\n",
      "1216     True\n",
      "874      True\n",
      "246      True\n",
      "160      True\n",
      "1208     True\n",
      "682      True\n",
      "307      True\n",
      "67       True\n",
      "961      True\n",
      "400      True\n",
      "923     False\n",
      "866      True\n",
      "134      True\n",
      "613      True\n",
      "242      True\n",
      "320     False\n",
      "829      True\n",
      "94       True\n",
      "1146     True\n",
      "1125    False\n",
      "386      True\n",
      "1025    False\n",
      "337      True\n",
      "Name: survived, Length: 329, dtype: bool\n",
      "准确率为：\n",
      " 0.781155015198\n"
     ]
    }
   ],
   "source": [
    "# 模型评估\n",
    "# 方法1：直接比对真实值和预测值\n",
    "y_predict = estimator.predict(x_test)\n",
    "print(\"y_predict:\\n\", y_predict)\n",
    "print(\"直接比对真实值和预测值:\\n\", y_test == y_predict)\n",
    "\n",
    "# 方法2：计算准确率\n",
    "score = estimator.score(x_test, y_test)\n",
    "print(\"准确率为：\\n\", score)\n",
    "# 可视化决策树\n",
    "export_graphviz(estimator, out_file=\"tianic.dot\", feature_names=transfer.get_feature_names())"
   ]
  },
  {
   "cell_type": "markdown",
   "metadata": {},
   "source": [
    "### 随机森林对泰坦尼克号乘号生存进行预测"
   ]
  },
  {
   "cell_type": "code",
   "execution_count": 77,
   "metadata": {},
   "outputs": [
    {
     "name": "stdout",
     "output_type": "stream",
     "text": [
      "y_predict:\n",
      " [0 0 0 0 1 1 1 0 0 1 0 0 0 0 0 0 0 0 0 0 0 0 0 0 1 0 0 0 1 1 0 1 0 1 0 0 0\n",
      " 0 0 0 0 0 0 0 0 0 1 1 0 1 0 0 0 0 0 0 0 0 0 0 0 0 0 0 0 0 0 1 0 0 1 0 0 0\n",
      " 0 1 0 0 0 1 0 1 0 0 0 0 0 0 0 0 0 0 0 1 0 1 0 1 0 1 0 0 0 0 0 0 0 0 0 0 1\n",
      " 0 1 0 0 0 0 0 0 0 0 0 1 0 0 1 1 0 1 0 0 0 0 0 0 0 0 0 0 0 1 1 0 0 0 0 1 1\n",
      " 1 0 0 0 0 0 0 0 0 0 0 0 0 0 1 1 0 1 0 0 0 0 1 0 0 0 0 0 1 1 1 1 0 0 0 0 0\n",
      " 0 0 0 1 1 1 0 0 0 0 1 1 1 0 0 0 0 0 0 0 0 0 1 0 0 0 0 0 1 1 0 0 0 0 0 1 0\n",
      " 0 0 1 0 0 0 0 0 0 1 0 0 0 0 1 0 1 0 0 0 1 0 0 1 0 0 0 0 1 0 1 0 0 0 0 1 0\n",
      " 0 1 1 1 0 0 1 1 1 0 1 0 0 0 0 0 0 0 1 0 0 0 0 0 0 0 0 0 0 0 1 0 0 0 0 1 1\n",
      " 0 0 0 1 0 0 0 0 0 0 0 0 0 0 0 0 0 1 0 0 0 0 0 0 1 1 0 1 0 0 0 0 1]\n",
      "对比真实值和预测值： 831      True\n",
      "261      True\n",
      "1210     True\n",
      "1155     True\n",
      "255      True\n",
      "762      True\n",
      "615      True\n",
      "507      True\n",
      "1175     True\n",
      "301      True\n",
      "1134     True\n",
      "177      True\n",
      "183     False\n",
      "125     False\n",
      "1093     True\n",
      "1304    False\n",
      "1124     True\n",
      "798     False\n",
      "1101     True\n",
      "1239    False\n",
      "1153     True\n",
      "1068    False\n",
      "846      True\n",
      "148      True\n",
      "478      True\n",
      "642      True\n",
      "1298     True\n",
      "540      True\n",
      "28       True\n",
      "130      True\n",
      "        ...  \n",
      "194      True\n",
      "663      True\n",
      "1209     True\n",
      "117     False\n",
      "595     False\n",
      "1151    False\n",
      "1143     True\n",
      "1216     True\n",
      "874      True\n",
      "246      True\n",
      "160      True\n",
      "1208     True\n",
      "682      True\n",
      "307      True\n",
      "67       True\n",
      "961      True\n",
      "400      True\n",
      "923     False\n",
      "866      True\n",
      "134      True\n",
      "613      True\n",
      "242      True\n",
      "320     False\n",
      "829      True\n",
      "94       True\n",
      "1146     True\n",
      "1125    False\n",
      "386      True\n",
      "1025    False\n",
      "337      True\n",
      "Name: survived, Length: 329, dtype: bool\n",
      "准确率：\n",
      " 0.787234042553\n",
      "最佳参数： {'max_depth': 5, 'n_estimators': 120}\n",
      "最佳结果 0.835365853659\n",
      "交叉验证结果 {'mean_fit_time': array([ 0.19082808,  0.33509199,  0.52892915,  0.90247599,  1.4132839 ,\n",
      "        2.32291245,  0.24089996,  0.38921674,  0.57447004,  0.97744274,\n",
      "        1.43262911,  2.16218837,  0.22207443,  0.36867515,  0.53356075,\n",
      "        0.97572144,  1.51563843,  2.1575404 ,  0.2041316 ,  0.38497718,\n",
      "        0.58576322,  0.96939762,  1.55482928,  2.17948945,  0.21308215,\n",
      "        0.37797594,  0.51763749,  0.86868906,  1.44578616,  2.30584947]), 'std_fit_time': array([ 0.00758748,  0.01150203,  0.00416966,  0.16835097,  0.14643446,\n",
      "        0.07408083,  0.01699439,  0.01660035,  0.01533715,  0.05622635,\n",
      "        0.06633513,  0.05194308,  0.00892461,  0.01325915,  0.02154937,\n",
      "        0.04360005,  0.06108468,  0.0540873 ,  0.00963973,  0.01057505,\n",
      "        0.03112899,  0.03609066,  0.05421079,  0.05692292,  0.00664117,\n",
      "        0.01999362,  0.01603854,  0.04772913,  0.01698634,  0.04572124]), 'mean_score_time': array([ 0.01395329,  0.02360884,  0.04156176,  0.05537144,  0.10938629,\n",
      "        0.1599249 ,  0.01463898,  0.02425392,  0.03057313,  0.06282576,\n",
      "        0.08239619,  0.13131642,  0.01296878,  0.02060771,  0.03525019,\n",
      "        0.05552093,  0.0754594 ,  0.11370818,  0.01328023,  0.02160207,\n",
      "        0.03157687,  0.06150945,  0.08444214,  0.11867738,  0.01298197,\n",
      "        0.02160962,  0.03355742,  0.04621275,  0.07878741,  0.11900576]), 'std_score_time': array([ 0.00079485,  0.00517974,  0.01727877,  0.0138731 ,  0.03273158,\n",
      "        0.01816959,  0.00259769,  0.00284277,  0.00092807,  0.00917778,\n",
      "        0.00162639,  0.01553839,  0.0008179 ,  0.00188515,  0.00531317,\n",
      "        0.00590044,  0.00264053,  0.0028076 ,  0.00189201,  0.00206447,\n",
      "        0.00284942,  0.00900663,  0.00235213,  0.00776213,  0.00081401,\n",
      "        0.00448237,  0.00542417,  0.00190044,  0.00431514,  0.0012092 ]), 'param_max_depth': masked_array(data = [5 5 5 5 5 5 8 8 8 8 8 8 15 15 15 15 15 15 25 25 25 25 25 25 30 30 30 30 30\n",
      " 30],\n",
      "             mask = [False False False False False False False False False False False False\n",
      " False False False False False False False False False False False False\n",
      " False False False False False False],\n",
      "       fill_value = ?)\n",
      ", 'param_n_estimators': masked_array(data = [120 200 300 500 800 1200 120 200 300 500 800 1200 120 200 300 500 800 1200\n",
      " 120 200 300 500 800 1200 120 200 300 500 800 1200],\n",
      "             mask = [False False False False False False False False False False False False\n",
      " False False False False False False False False False False False False\n",
      " False False False False False False],\n",
      "       fill_value = ?)\n",
      ", 'params': [{'max_depth': 5, 'n_estimators': 120}, {'max_depth': 5, 'n_estimators': 200}, {'max_depth': 5, 'n_estimators': 300}, {'max_depth': 5, 'n_estimators': 500}, {'max_depth': 5, 'n_estimators': 800}, {'max_depth': 5, 'n_estimators': 1200}, {'max_depth': 8, 'n_estimators': 120}, {'max_depth': 8, 'n_estimators': 200}, {'max_depth': 8, 'n_estimators': 300}, {'max_depth': 8, 'n_estimators': 500}, {'max_depth': 8, 'n_estimators': 800}, {'max_depth': 8, 'n_estimators': 1200}, {'max_depth': 15, 'n_estimators': 120}, {'max_depth': 15, 'n_estimators': 200}, {'max_depth': 15, 'n_estimators': 300}, {'max_depth': 15, 'n_estimators': 500}, {'max_depth': 15, 'n_estimators': 800}, {'max_depth': 15, 'n_estimators': 1200}, {'max_depth': 25, 'n_estimators': 120}, {'max_depth': 25, 'n_estimators': 200}, {'max_depth': 25, 'n_estimators': 300}, {'max_depth': 25, 'n_estimators': 500}, {'max_depth': 25, 'n_estimators': 800}, {'max_depth': 25, 'n_estimators': 1200}, {'max_depth': 30, 'n_estimators': 120}, {'max_depth': 30, 'n_estimators': 200}, {'max_depth': 30, 'n_estimators': 300}, {'max_depth': 30, 'n_estimators': 500}, {'max_depth': 30, 'n_estimators': 800}, {'max_depth': 30, 'n_estimators': 1200}], 'split0_test_score': array([ 0.82674772,  0.82370821,  0.82370821,  0.82370821,  0.82674772,\n",
      "        0.82674772,  0.81155015,  0.81155015,  0.80243161,  0.80243161,\n",
      "        0.81155015,  0.80243161,  0.7993921 ,  0.79027356,  0.80243161,\n",
      "        0.79331307,  0.79635258,  0.79331307,  0.79331307,  0.79027356,\n",
      "        0.79027356,  0.79027356,  0.79027356,  0.79027356,  0.79027356,\n",
      "        0.79331307,  0.79331307,  0.7993921 ,  0.79027356,  0.79027356]), 'split1_test_score': array([ 0.85670732,  0.85670732,  0.85365854,  0.85670732,  0.85365854,\n",
      "        0.85670732,  0.85365854,  0.85060976,  0.85670732,  0.85365854,\n",
      "        0.85060976,  0.85060976,  0.85670732,  0.85670732,  0.85365854,\n",
      "        0.85670732,  0.85365854,  0.85670732,  0.8445122 ,  0.85365854,\n",
      "        0.85365854,  0.85365854,  0.85365854,  0.85365854,  0.85365854,\n",
      "        0.85365854,  0.8597561 ,  0.85670732,  0.85670732,  0.85670732]), 'split2_test_score': array([ 0.82262997,  0.82262997,  0.82262997,  0.82568807,  0.82568807,\n",
      "        0.82262997,  0.80122324,  0.80428135,  0.80122324,  0.80122324,\n",
      "        0.80122324,  0.80122324,  0.80733945,  0.80122324,  0.79816514,\n",
      "        0.80428135,  0.80428135,  0.80428135,  0.80122324,  0.79510703,\n",
      "        0.80122324,  0.80122324,  0.80122324,  0.80122324,  0.80122324,\n",
      "        0.80733945,  0.79816514,  0.80428135,  0.80428135,  0.80122324]), 'mean_test_score': array([ 0.83536585,  0.83434959,  0.83333333,  0.83536585,  0.83536585,\n",
      "        0.83536585,  0.82215447,  0.82215447,  0.82012195,  0.81910569,\n",
      "        0.82113821,  0.81808943,  0.82113821,  0.81605691,  0.81808943,\n",
      "        0.81808943,  0.81808943,  0.81808943,  0.81300813,  0.81300813,\n",
      "        0.81504065,  0.81504065,  0.81504065,  0.81504065,  0.81504065,\n",
      "        0.81808943,  0.81707317,  0.82012195,  0.81707317,  0.81605691]), 'std_test_score': array([ 0.01518404,  0.01581542,  0.01437883,  0.01511232,  0.01294211,\n",
      "        0.01518404,  0.02267217,  0.02033857,  0.02587446,  0.02443753,\n",
      "        0.0212617 ,  0.02300063,  0.02535956,  0.02908969,  0.02521139,\n",
      "        0.02767166,  0.02535859,  0.02767166,  0.02250959,  0.02881183,\n",
      "        0.02767044,  0.02767044,  0.02767044,  0.02767044,  0.02767044,\n",
      "        0.02579477,  0.03024632,  0.02594665,  0.02860307,  0.02908969]), 'rank_test_score': array([ 1,  5,  6,  1,  1,  1,  7,  7, 11, 13,  9, 14,  9, 22, 14, 14, 14,\n",
      "       14, 29, 29, 24, 24, 24, 24, 24, 14, 20, 11, 20, 22]), 'split0_train_score': array([ 0.85801527,  0.85801527,  0.85801527,  0.85801527,  0.85648855,\n",
      "        0.85648855,  0.87633588,  0.87480916,  0.87633588,  0.87633588,\n",
      "        0.87480916,  0.87633588,  0.88244275,  0.88244275,  0.88244275,\n",
      "        0.88244275,  0.88244275,  0.88244275,  0.88244275,  0.88244275,\n",
      "        0.88244275,  0.88244275,  0.88244275,  0.88244275,  0.88244275,\n",
      "        0.88244275,  0.88244275,  0.88244275,  0.88244275,  0.88244275]), 'split1_train_score': array([ 0.8445122 ,  0.84756098,  0.84908537,  0.84756098,  0.84908537,\n",
      "        0.84908537,  0.86128049,  0.86128049,  0.86128049,  0.86128049,\n",
      "        0.86128049,  0.86128049,  0.86128049,  0.86128049,  0.86128049,\n",
      "        0.86128049,  0.86128049,  0.86128049,  0.86128049,  0.86128049,\n",
      "        0.86128049,  0.86128049,  0.86128049,  0.86128049,  0.86128049,\n",
      "        0.86128049,  0.86128049,  0.86128049,  0.86128049,  0.86128049]), 'split2_train_score': array([ 0.86757991,  0.87062405,  0.86757991,  0.86910198,  0.86910198,\n",
      "        0.86757991,  0.88736682,  0.88432268,  0.88584475,  0.88584475,\n",
      "        0.88584475,  0.88584475,  0.88736682,  0.88736682,  0.88736682,\n",
      "        0.88736682,  0.88736682,  0.88736682,  0.88736682,  0.88736682,\n",
      "        0.88736682,  0.88736682,  0.88736682,  0.88736682,  0.88736682,\n",
      "        0.88736682,  0.88736682,  0.88736682,  0.88736682,  0.88736682]), 'mean_train_score': array([ 0.85670246,  0.85873343,  0.85822685,  0.85822607,  0.8582253 ,\n",
      "        0.85771794,  0.87499439,  0.87347078,  0.87448704,  0.87448704,\n",
      "        0.87397813,  0.87448704,  0.87703002,  0.87703002,  0.87703002,\n",
      "        0.87703002,  0.87703002,  0.87703002,  0.87703002,  0.87703002,\n",
      "        0.87703002,  0.87703002,  0.87703002,  0.87703002,  0.87703002,\n",
      "        0.87703002,  0.87703002,  0.87703002,  0.87703002,  0.87703002]), 'std_train_score': array([ 0.009463  ,  0.00942914,  0.00755185,  0.00879534,  0.00826351,\n",
      "        0.00760024,  0.01069186,  0.00945442,  0.01011317,  0.01011317,\n",
      "        0.01004552,  0.01011317,  0.01131658,  0.01131658,  0.01131658,\n",
      "        0.01131658,  0.01131658,  0.01131658,  0.01131658,  0.01131658,\n",
      "        0.01131658,  0.01131658,  0.01131658,  0.01131658,  0.01131658,\n",
      "        0.01131658,  0.01131658,  0.01131658,  0.01131658,  0.01131658])}\n"
     ]
    }
   ],
   "source": [
    "from sklearn.ensemble import RandomForestClassifier\n",
    "from sklearn.model_selection import GridSearchCV\n",
    "estimator = RandomForestClassifier()\n",
    "\n",
    "# 加入网格搜索和交叉验证\n",
    "## 参数准备 k值 字典的格式\n",
    "param_dict = {\"n_estimators\":[120,200,300,500,800,1200],\"max_depth\":[5,8,15,25,30]}\n",
    "estimator = GridSearchCV(estimator,param_grid=param_dict,cv=3)\n",
    "estimator.fit(x_train,y_train)\n",
    "# 模型评估\n",
    "y_predict = estimator.predict(x_test)\n",
    "print(\"y_predict:\\n\", y_predict)\n",
    "print(\"对比真实值和预测值：\", y_predict == y_test )\n",
    "score = estimator.score(x_test,y_test)\n",
    "print(\"准确率：\\n\",score)\n",
    "# 最佳参数: best_params_\n",
    "print(\"最佳参数：\",estimator.best_params_)\n",
    "# 最佳结果: best_score_\n",
    "# 此最佳结果是训练集中验证集当中的结果\n",
    "print(\"最佳结果\",estimator.best_score_)\n",
    "# 最佳估计器: best_estimator_\n",
    "#print(\"最佳估计器\",estimator.best_estimator_)\n",
    "# 交叉验证结果: cv_results_\n",
    "print(\"交叉验证结果\",estimator.cv_results_)"
   ]
  },
  {
   "cell_type": "code",
   "execution_count": null,
   "metadata": {
    "collapsed": true
   },
   "outputs": [],
   "source": []
  }
 ],
 "metadata": {
  "kernelspec": {
   "display_name": "Python 3",
   "language": "python",
   "name": "python3"
  },
  "language_info": {
   "codemirror_mode": {
    "name": "ipython",
    "version": 3
   },
   "file_extension": ".py",
   "mimetype": "text/x-python",
   "name": "python",
   "nbconvert_exporter": "python",
   "pygments_lexer": "ipython3",
   "version": "3.6.3"
  }
 },
 "nbformat": 4,
 "nbformat_minor": 2
}
