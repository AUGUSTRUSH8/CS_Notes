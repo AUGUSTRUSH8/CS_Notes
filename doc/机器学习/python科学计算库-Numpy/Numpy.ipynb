{
 "cells": [
  {
   "cell_type": "markdown",
   "metadata": {},
   "source": [
    "# Numpy\n",
    "- 高效的运算工具\n",
    "- numpy的基本操作\n",
    "    - ndarray.方法()\n",
    "    - numpy.函数名()\n",
    "- ndarray运算\n",
    "    - 逻辑运算\n",
    "    - 统计运算\n",
    "    - 数组间运算\n",
    "- 合并 分割 IO操作 数据处理"
   ]
  },
  {
   "cell_type": "markdown",
   "metadata": {},
   "source": [
    "## Numpy的介绍\n",
    "- 数值计算库\n",
    "- Numpy(Numerical Python)是一个开源的Python科学计算库，用于快速处理任意维度的数组\n",
    "- Numpy支持常见的数组和矩阵操作。对于同样的数值计算任务，使用numpy比直接用python要简洁的多\n",
    "- Numpy使用ndarray对象来处理多维数组，该对象是一个快速而灵活的大数据容器。"
   ]
  },
  {
   "cell_type": "markdown",
   "metadata": {},
   "source": [
    "## ndarray\n",
    "- n-任意一个\n",
    "- d-dimension维度\n",
    "- array-数组\n",
    "- NumPy provides an N-dimensional array type, the ndarray, whicn describes a collection of \"items\" of the same type."
   ]
  },
  {
   "cell_type": "code",
   "execution_count": 1,
   "metadata": {
    "collapsed": true
   },
   "outputs": [],
   "source": [
    "#Numpy提供了一个N维度数组类型ndarray，他描述了相同类型的items的集合\n",
    "import numpy as np\n",
    "score = np.array([[80, 89, 86, 67, 79],\n",
    "                  [78, 97, 89, 67, 81], \n",
    "                  [90, 94, 78, 67, 74],\n",
    "                  [91, 91, 90, 67, 69],\n",
    "                  [76, 87, 75, 67, 86],\n",
    "                  [70, 79, 84, 67, 84],\n",
    "                  [94, 92, 93, 67, 64],\n",
    "                  [86, 85, 83, 67, 80]])"
   ]
  },
  {
   "cell_type": "code",
   "execution_count": 2,
   "metadata": {},
   "outputs": [
    {
     "data": {
      "text/plain": [
       "array([[80, 89, 86, 67, 79],\n",
       "       [78, 97, 89, 67, 81],\n",
       "       [90, 94, 78, 67, 74],\n",
       "       [91, 91, 90, 67, 69],\n",
       "       [76, 87, 75, 67, 86],\n",
       "       [70, 79, 84, 67, 84],\n",
       "       [94, 92, 93, 67, 64],\n",
       "       [86, 85, 83, 67, 80]])"
      ]
     },
     "execution_count": 2,
     "metadata": {},
     "output_type": "execute_result"
    }
   ],
   "source": [
    "score"
   ]
  },
  {
   "cell_type": "code",
   "execution_count": 3,
   "metadata": {},
   "outputs": [
    {
     "data": {
      "text/plain": [
       "numpy.ndarray"
      ]
     },
     "execution_count": 3,
     "metadata": {},
     "output_type": "execute_result"
    }
   ],
   "source": [
    "type(score)"
   ]
  },
  {
   "cell_type": "markdown",
   "metadata": {},
   "source": [
    "##  ndarrary与python原生list运算效率对比\n",
    "- 从中我们看到ndarray的计算速度要快很多，节约了时间\n",
    "- 机器学习最大的特点就是大量的数据运算，那么如果没有一个快速的解决方案，那可能现在python也在机器学习领域达不到好的效果\n",
    "- Numpy专门对ndarray的操作和运算进行了设计，所以数组的存储效率和输入输出性能远优与Python的嵌套列表，数组越大，Numpy的优势就越明显"
   ]
  },
  {
   "cell_type": "code",
   "execution_count": 5,
   "metadata": {},
   "outputs": [
    {
     "name": "stdout",
     "output_type": "stream",
     "text": [
      "0.0060045719146728516 0.0010476112365722656\n"
     ]
    }
   ],
   "source": [
    "import random\n",
    "import time\n",
    "import numpy as np\n",
    "# 生成一个大数组\n",
    "a = []\n",
    "for i in range(1000000):\n",
    "    a.append(random.random())\n",
    "    \n",
    "# 原生pyhtonlist求和    \n",
    "t1 = time.time()\n",
    "sum1 = sum(a)\n",
    "t2= time.time()\n",
    "# ndarray求和- 从中我们看到ndarray的计算速度要快很多，节约了时间\n",
    "- 机器学习最大的特点就是大量的数据运算，那么如果没有一个快速的解决方案，那可能现在python也在机器学习领域达不到好的效果\n",
    "- Numpy专门对ndarray的操作和运算进行了设计，所以数组的存储效率和输入输出性能远优与Python的嵌套列表，数组越大，Numpy的优势就越明显\n",
    "b = np.array(a)\n",
    "t3 = time.time()\n",
    "sum2 = np.sum(b)\n",
    "t4 = time.time()\n",
    "\n",
    "print(t2-t1,t4-t3)"
   ]
  },
  {
   "cell_type": "markdown",
   "metadata": {},
   "source": [
    "## ndarray的优势\n",
    "- 存储风格\n",
    "    - ndarry 数据相同类型，通用性不强；ndarray在存储数据的时候，数据与数据的地址都是连接的，这样就使得批量操作数组元素时速度更快\n",
    "    - list 数据可以不同类型 通用性强；python原生数组只能通过寻址的方式找到下一个元素，在科学计算中，Numpy的ndaary可以省去很多循环语句，代码使用方面比Python原生list要简单的多\n",
    "- 并行化运算\n",
    "    - ndarray支持并行化运算，向量化运算\n",
    "- 底层语言\n",
    "    - Numpy底层使用c语言编写，内部解除类GIL(全局解释器锁)，其对数组的操作速度不受Python解释器的限制，效率远高于纯Python代码"
   ]
  },
  {
   "cell_type": "markdown",
   "metadata": {},
   "source": [
    "# 认识N维数组 ndarray属性\n",
    "- 数组属性反映了数组本身固有的信息\n",
    "    - ndarray.shape 数组维度的元组\n",
    "    - ndarray.ndim  数组维度\n",
    "    - ndarray.size  数组中元素数量\n",
    "    - ndarray.dtype 数组元素的类型\n",
    "    - ndarray.itemsize 一个数组元素的长度(字节)\n",
    "\n"
   ]
  },
  {
   "cell_type": "markdown",
   "metadata": {},
   "source": [
    "## ndarray的属性"
   ]
  },
  {
   "cell_type": "code",
   "execution_count": 8,
   "metadata": {
    "collapsed": true
   },
   "outputs": [],
   "source": [
    "import numpy as np\n",
    "score = np.array([[80, 89, 86, 67, 79],\n",
    "                  [78, 97, 89, 67, 81], \n",
    "                  [90, 94, 78, 67, 74],\n",
    "                  [91, 91, 90, 67, 69],\n",
    "                  [76, 87, 75, 67, 86],\n",
    "                  [70, 79, 84, 67, 84],\n",
    "                  [94, 92, 93, 67, 64],\n",
    "                  [86, 85, 83, 67, 80]])"
   ]
  },
  {
   "cell_type": "code",
   "execution_count": 9,
   "metadata": {},
   "outputs": [
    {
     "data": {
      "text/plain": [
       "(8, 5)"
      ]
     },
     "execution_count": 9,
     "metadata": {},
     "output_type": "execute_result"
    }
   ],
   "source": [
    "score.shape # 元祖的形式，8行5列"
   ]
  },
  {
   "cell_type": "code",
   "execution_count": 10,
   "metadata": {},
   "outputs": [
    {
     "data": {
      "text/plain": [
       "2"
      ]
     },
     "execution_count": 10,
     "metadata": {},
     "output_type": "execute_result"
    }
   ],
   "source": [
    "score.ndim #二维"
   ]
  },
  {
   "cell_type": "code",
   "execution_count": 11,
   "metadata": {},
   "outputs": [
    {
     "data": {
      "text/plain": [
       "40"
      ]
     },
     "execution_count": 11,
     "metadata": {},
     "output_type": "execute_result"
    }
   ],
   "source": [
    "score.size #40个元素"
   ]
  },
  {
   "cell_type": "code",
   "execution_count": 14,
   "metadata": {},
   "outputs": [
    {
     "data": {
      "text/plain": [
       "dtype('int32')"
      ]
     },
     "execution_count": 14,
     "metadata": {},
     "output_type": "execute_result"
    }
   ],
   "source": [
    "score.dtype #在创建ndarray的时候，如果没有指定类型，整数默认的int32"
   ]
  },
  {
   "cell_type": "code",
   "execution_count": 15,
   "metadata": {},
   "outputs": [
    {
     "data": {
      "text/plain": [
       "4"
      ]
     },
     "execution_count": 15,
     "metadata": {},
     "output_type": "execute_result"
    }
   ],
   "source": [
    "score.itemsize # 4个字节"
   ]
  },
  {
   "cell_type": "markdown",
   "metadata": {},
   "source": [
    "## ndarrary的形状"
   ]
  },
  {
   "cell_type": "code",
   "execution_count": 21,
   "metadata": {
    "collapsed": true
   },
   "outputs": [],
   "source": [
    "# 首先创造一些数组\n",
    "a = np.array([[1,2,3],[4,5,6]])\n",
    "b = np.array([1,2,3,4])\n",
    "c = np.array([[[1,2,3],[4,5,6]],[[1,2,3],[4,5,6]]])"
   ]
  },
  {
   "cell_type": "code",
   "execution_count": 20,
   "metadata": {},
   "outputs": [
    {
     "data": {
      "text/plain": [
       "array([[1, 2, 3],\n",
       "       [4, 5, 6]])"
      ]
     },
     "execution_count": 20,
     "metadata": {},
     "output_type": "execute_result"
    }
   ],
   "source": [
    "a # 元祖(2,3) 两行三列 二维 两个中括号"
   ]
  },
  {
   "cell_type": "code",
   "execution_count": 18,
   "metadata": {},
   "outputs": [
    {
     "data": {
      "text/plain": [
       "array([1, 2, 3, 4])"
      ]
     },
     "execution_count": 18,
     "metadata": {},
     "output_type": "execute_result"
    }
   ],
   "source": [
    "b # 元祖(4，) 一行四列 一维 一个中括号"
   ]
  },
  {
   "cell_type": "code",
   "execution_count": 24,
   "metadata": {},
   "outputs": [
    {
     "data": {
      "text/plain": [
       "array([[[1, 2, 3],\n",
       "        [4, 5, 6]],\n",
       "\n",
       "       [[1, 2, 3],\n",
       "        [4, 5, 6]]])"
      ]
     },
     "execution_count": 24,
     "metadata": {},
     "output_type": "execute_result"
    }
   ],
   "source": [
    "c # 元祖(2,2,3) 三维"
   ]
  },
  {
   "cell_type": "code",
   "execution_count": 25,
   "metadata": {},
   "outputs": [
    {
     "data": {
      "text/plain": [
       "(2, 3)"
      ]
     },
     "execution_count": 25,
     "metadata": {},
     "output_type": "execute_result"
    }
   ],
   "source": [
    "a.shape"
   ]
  },
  {
   "cell_type": "code",
   "execution_count": 22,
   "metadata": {},
   "outputs": [
    {
     "data": {
      "text/plain": [
       "(4,)"
      ]
     },
     "execution_count": 22,
     "metadata": {},
     "output_type": "execute_result"
    }
   ],
   "source": [
    "b.shape"
   ]
  },
  {
   "cell_type": "code",
   "execution_count": 23,
   "metadata": {},
   "outputs": [
    {
     "data": {
      "text/plain": [
       "(2, 2, 3)"
      ]
     },
     "execution_count": 23,
     "metadata": {},
     "output_type": "execute_result"
    }
   ],
   "source": [
    "c.shape"
   ]
  },
  {
   "cell_type": "markdown",
   "metadata": {},
   "source": [
    "## ndarray的类型  \n",
    "- type(score.dtype)      \n",
    "- <type 'numpy.dtype'>  \n",
    "- dtype是numpy.dtype类型，先看看对于数组来说都有哪些类型 \n",
    "\n",
    "名称                                 描述                                  简写   \n",
    "np.bool                 用一个字节存储的布尔模型 True/False                  'b'    \n",
    "np.int8                    一个字节大小， -128至127                         'i'    \n",
    "np.int16                      整数，-32768至32767                          'i2'  \n",
    "np.int32                      整数，-2^31至2^32-1                          'i4'  \n",
    "np.int64                      整数，-2^63至2^63-1                          'i8'  \n",
    "np.uint8                      无符号整数，0至255                            'u'  \n",
    "np.uint16                     无符号整数，0至65535                          'u2'  \n",
    "np.uint32                     无符号整数，0至2^32-1                         'u4'  \n",
    "np.uint64                     无符号整数，0至2^64-1                         'u8'  \n",
    "np.float16         半精度浮点数：16位，正负号1位，指数5位，精度10位           'f2'  \n",
    "np.float32         单精度浮点数：32位，正负号1位，指数8位，精度23位           'f4'  \n",
    "np.float64         双精度浮点数：64位，正负号1位，指数11位，精度52位          'f8'  \n",
    "np.complex64           复数，分别用两个32位浮点数表示实部和虚部               'c8'  \n",
    "np.complex128          复数，分别用两个64位浮点数表示实部和虚部               'c16'  \n",
    "np.object_                        python对象                               'O'  \n",
    "np.string_                          字符串                                  'S'  \n",
    "np.unicode_                       unicode类型                               'U'    \n",
    "\n",
    "- 创建数组的时候指定类型\n",
    "    - 如果在创建ndarray的时候，没有指定类型，默认整数int32 int64 浮点数默认 float64\n",
    "    64\n",
    "    - 常用类型 int32 int64 uint8 float32 float64\n",
    "- 创建数组的时候指定类型\n",
    "    - a = np.array([[1,2,3],[2,3,4]],dtype=np.float32)\n",
    "    - arr = np.array(['acv','adf','qwe','ert'],dtype = np.string) string这种类型不常用"
   ]
  },
  {
   "cell_type": "code",
   "execution_count": 29,
   "metadata": {
    "collapsed": true
   },
   "outputs": [],
   "source": [
    "data = np.array([1.1,2.4,6.5])"
   ]
  },
  {
   "cell_type": "code",
   "execution_count": 30,
   "metadata": {},
   "outputs": [
    {
     "data": {
      "text/plain": [
       "array([ 1.1,  2.4,  6.5])"
      ]
     },
     "execution_count": 30,
     "metadata": {},
     "output_type": "execute_result"
    }
   ],
   "source": [
    "data"
   ]
  },
  {
   "cell_type": "code",
   "execution_count": 31,
   "metadata": {},
   "outputs": [
    {
     "data": {
      "text/plain": [
       "dtype('float64')"
      ]
     },
     "execution_count": 31,
     "metadata": {},
     "output_type": "execute_result"
    }
   ],
   "source": [
    "data.dtype"
   ]
  },
  {
   "cell_type": "code",
   "execution_count": 32,
   "metadata": {},
   "outputs": [
    {
     "data": {
      "text/plain": [
       "array([ 1.10000002,  2.4000001 ,  6.5       ], dtype=float32)"
      ]
     },
     "execution_count": 32,
     "metadata": {},
     "output_type": "execute_result"
    }
   ],
   "source": [
    "# 创建数组的时候指定类型\n",
    "np.array([1.1,2.4,6.5],dtype=\"float32\")"
   ]
  },
  {
   "cell_type": "code",
   "execution_count": 34,
   "metadata": {},
   "outputs": [
    {
     "data": {
      "text/plain": [
       "array([ 1.10000002,  2.4000001 ,  6.5       ], dtype=float32)"
      ]
     },
     "execution_count": 34,
     "metadata": {},
     "output_type": "execute_result"
    }
   ],
   "source": [
    "np.array([1.1,2.4,6.5],dtype=np.float32)"
   ]
  },
  {
   "cell_type": "markdown",
   "metadata": {},
   "source": [
    "# 基本操作\n",
    "- ndarray.方法()\n",
    "- np.函数名()\n",
    "    - np.array()\n",
    "- 看属性的时候表示方法都是元祖，想指定形状的时候既可以是元祖也可以是列表"
   ]
  },
  {
   "cell_type": "markdown",
   "metadata": {},
   "source": [
    "## 生成数组的方法\n",
    "### 1生成0和1的数组\n",
    "- ones(shape[,dtype,order])\n",
    "    - ones_like(a[,dtype,order,subok])\n",
    "- zeros(shape[,dtype,order])\n",
    "    - zeros_like(a[,dtype,order,subok])\n",
    "    - full(shape,full_value[,dtype,order])\n",
    "- 生成一组0  \n",
    "np.zeros(shape)\n",
    "- 生成一组1  \n",
    "np.ones(shape)"
   ]
  },
  {
   "cell_type": "code",
   "execution_count": 38,
   "metadata": {},
   "outputs": [
    {
     "data": {
      "text/plain": [
       "array([[ 0.,  0.,  0.,  0.],\n",
       "       [ 0.,  0.,  0.,  0.],\n",
       "       [ 0.,  0.,  0.,  0.]], dtype=float32)"
      ]
     },
     "execution_count": 38,
     "metadata": {},
     "output_type": "execute_result"
    }
   ],
   "source": [
    "#生成0和1的数组\n",
    "np.zeros(shape=(3,4),dtype=\"float32\")"
   ]
  },
  {
   "cell_type": "code",
   "execution_count": 40,
   "metadata": {},
   "outputs": [
    {
     "data": {
      "text/plain": [
       "array([[1, 1, 1, 1],\n",
       "       [1, 1, 1, 1]])"
      ]
     },
     "execution_count": 40,
     "metadata": {},
     "output_type": "execute_result"
    }
   ],
   "source": [
    "np.ones(shape=[2,4],dtype='int32')"
   ]
  },
  {
   "cell_type": "markdown",
   "metadata": {},
   "source": [
    "### 2从现有数组中生成\n",
    "- array(object[,dtype,copy,order,subok,ndmin])\n",
    "- asarray(a[,dtype,order])\n",
    "- copy(a[,order])\n",
    "#### 三者区别\n",
    "- np.array()和np.copy()是深copy\n",
    "- np.array()\n",
    "- np.copy()\n",
    "- np.asarray() 浅copy"
   ]
  },
  {
   "cell_type": "code",
   "execution_count": 41,
   "metadata": {
    "collapsed": true
   },
   "outputs": [],
   "source": [
    "import numpy as np\n",
    "score = np.array([[80, 89, 86, 67, 79],\n",
    "                  [78, 97, 89, 67, 81], \n",
    "                  [90, 94, 78, 67, 74],\n",
    "                  [91, 91, 90, 67, 69],\n",
    "                  [76, 87, 75, 67, 86],\n",
    "                  [70, 79, 84, 67, 84],\n",
    "                  [94, 92, 93, 67, 64],\n",
    "                  [86, 85, 83, 67, 80]])"
   ]
  },
  {
   "cell_type": "code",
   "execution_count": 42,
   "metadata": {
    "collapsed": true
   },
   "outputs": [],
   "source": [
    "# np.array()\n",
    "data1 = np.array(score)"
   ]
  },
  {
   "cell_type": "code",
   "execution_count": 43,
   "metadata": {},
   "outputs": [
    {
     "data": {
      "text/plain": [
       "array([[80, 89, 86, 67, 79],\n",
       "       [78, 97, 89, 67, 81],\n",
       "       [90, 94, 78, 67, 74],\n",
       "       [91, 91, 90, 67, 69],\n",
       "       [76, 87, 75, 67, 86],\n",
       "       [70, 79, 84, 67, 84],\n",
       "       [94, 92, 93, 67, 64],\n",
       "       [86, 85, 83, 67, 80]])"
      ]
     },
     "execution_count": 43,
     "metadata": {},
     "output_type": "execute_result"
    }
   ],
   "source": [
    "data1"
   ]
  },
  {
   "cell_type": "code",
   "execution_count": 44,
   "metadata": {
    "collapsed": true
   },
   "outputs": [],
   "source": [
    "# np.asarray()\n",
    "data2 = np.asarray(score)"
   ]
  },
  {
   "cell_type": "code",
   "execution_count": 45,
   "metadata": {},
   "outputs": [
    {
     "data": {
      "text/plain": [
       "array([[80, 89, 86, 67, 79],\n",
       "       [78, 97, 89, 67, 81],\n",
       "       [90, 94, 78, 67, 74],\n",
       "       [91, 91, 90, 67, 69],\n",
       "       [76, 87, 75, 67, 86],\n",
       "       [70, 79, 84, 67, 84],\n",
       "       [94, 92, 93, 67, 64],\n",
       "       [86, 85, 83, 67, 80]])"
      ]
     },
     "execution_count": 45,
     "metadata": {},
     "output_type": "execute_result"
    }
   ],
   "source": [
    "data2"
   ]
  },
  {
   "cell_type": "code",
   "execution_count": 46,
   "metadata": {
    "collapsed": true
   },
   "outputs": [],
   "source": [
    "# np.copy()\n",
    "data3=np.copy(score)"
   ]
  },
  {
   "cell_type": "code",
   "execution_count": 47,
   "metadata": {},
   "outputs": [
    {
     "data": {
      "text/plain": [
       "array([[80, 89, 86, 67, 79],\n",
       "       [78, 97, 89, 67, 81],\n",
       "       [90, 94, 78, 67, 74],\n",
       "       [91, 91, 90, 67, 69],\n",
       "       [76, 87, 75, 67, 86],\n",
       "       [70, 79, 84, 67, 84],\n",
       "       [94, 92, 93, 67, 64],\n",
       "       [86, 85, 83, 67, 80]])"
      ]
     },
     "execution_count": 47,
     "metadata": {},
     "output_type": "execute_result"
    }
   ],
   "source": [
    "data3"
   ]
  },
  {
   "cell_type": "code",
   "execution_count": 50,
   "metadata": {
    "collapsed": true
   },
   "outputs": [],
   "source": [
    "score[3,1]=10000"
   ]
  },
  {
   "cell_type": "code",
   "execution_count": 51,
   "metadata": {},
   "outputs": [
    {
     "data": {
      "text/plain": [
       "array([[   80,    89,    86,    67,    79],\n",
       "       [   78,    97,    89,    67,    81],\n",
       "       [   90,    94,    78,    67,    74],\n",
       "       [   91, 10000,    90,    67,    69],\n",
       "       [   76,    87,    75,    67,    86],\n",
       "       [   70,    79,    84,    67,    84],\n",
       "       [   94,    92,    93,    67,    64],\n",
       "       [   86,    85,    83,    67,    80]])"
      ]
     },
     "execution_count": 51,
     "metadata": {},
     "output_type": "execute_result"
    }
   ],
   "source": [
    "score"
   ]
  },
  {
   "cell_type": "code",
   "execution_count": 52,
   "metadata": {},
   "outputs": [
    {
     "data": {
      "text/plain": [
       "array([[80, 89, 86, 67, 79],\n",
       "       [78, 97, 89, 67, 81],\n",
       "       [90, 94, 78, 67, 74],\n",
       "       [91, 91, 90, 67, 69],\n",
       "       [76, 87, 75, 67, 86],\n",
       "       [70, 79, 84, 67, 84],\n",
       "       [94, 92, 93, 67, 64],\n",
       "       [86, 85, 83, 67, 80]])"
      ]
     },
     "execution_count": 52,
     "metadata": {},
     "output_type": "execute_result"
    }
   ],
   "source": [
    "data1"
   ]
  },
  {
   "cell_type": "code",
   "execution_count": 53,
   "metadata": {},
   "outputs": [
    {
     "data": {
      "text/plain": [
       "array([[   80,    89,    86,    67,    79],\n",
       "       [   78,    97,    89,    67,    81],\n",
       "       [   90,    94,    78,    67,    74],\n",
       "       [   91, 10000,    90,    67,    69],\n",
       "       [   76,    87,    75,    67,    86],\n",
       "       [   70,    79,    84,    67,    84],\n",
       "       [   94,    92,    93,    67,    64],\n",
       "       [   86,    85,    83,    67,    80]])"
      ]
     },
     "execution_count": 53,
     "metadata": {},
     "output_type": "execute_result"
    }
   ],
   "source": [
    "data2"
   ]
  },
  {
   "cell_type": "code",
   "execution_count": 54,
   "metadata": {},
   "outputs": [
    {
     "data": {
      "text/plain": [
       "array([[80, 89, 86, 67, 79],\n",
       "       [78, 97, 89, 67, 81],\n",
       "       [90, 94, 78, 67, 74],\n",
       "       [91, 91, 90, 67, 69],\n",
       "       [76, 87, 75, 67, 86],\n",
       "       [70, 79, 84, 67, 84],\n",
       "       [94, 92, 93, 67, 64],\n",
       "       [86, 85, 83, 67, 80]])"
      ]
     },
     "execution_count": 54,
     "metadata": {},
     "output_type": "execute_result"
    }
   ],
   "source": [
    "data3"
   ]
  },
  {
   "cell_type": "markdown",
   "metadata": {},
   "source": [
    "### 3生成固定范围的数组\n",
    "- np.linspace(0,10,100)\n",
    "    - [0,10]左闭右也闭,等距离生成100个元素\n",
    "- np.arange(a,b,c)\n",
    "    - [a,b)左闭右开 c是步长"
   ]
  },
  {
   "cell_type": "code",
   "execution_count": 56,
   "metadata": {},
   "outputs": [
    {
     "data": {
      "text/plain": [
       "array([  0. ,   2.5,   5. ,   7.5,  10. ])"
      ]
     },
     "execution_count": 56,
     "metadata": {},
     "output_type": "execute_result"
    }
   ],
   "source": [
    "np.linspace(0,10,5)"
   ]
  },
  {
   "cell_type": "code",
   "execution_count": 59,
   "metadata": {},
   "outputs": [
    {
     "data": {
      "text/plain": [
       "array([0, 5])"
      ]
     },
     "execution_count": 59,
     "metadata": {},
     "output_type": "execute_result"
    }
   ],
   "source": [
    "np.arange(0,10,5)"
   ]
  },
  {
   "cell_type": "markdown",
   "metadata": {},
   "source": [
    "### 4生成随机数\n",
    "#### 均匀分布\n",
    "- 均匀分布(Uniform Distribution)是概率统计中的重要分布之一。均匀，表示可能性相等的含义。均匀分布在自然情况下极为罕见，而人工栽培的有一定株行距的植物群落即是均匀分布\n",
    "- np.random.rand(d0,d1,d2...dn)\n",
    "    - 返回[0.0,1.0]内的一组均匀分布的数\n",
    "- np.random.uniform(low=0.0,high=1.0,size=None)\n",
    "    - 功能：从一个均匀分布][low,high]中随机取样，注意定义域是左闭右开，包含low，不包含high\n",
    "    - 参数介绍\n",
    "        - low： 采样下界，float类型，default值0\n",
    "        - high： 采样上界，float类型，default值1\n",
    "        - size： 输出样本数目，为int或元祖(tuple)类型，如size=(m,n,k),则输出mnk个样本，缺省时输出1个值\n",
    "        - 返回值：ndarray类型，其形状和参数size中描述一致\n",
    "    "
   ]
  },
  {
   "cell_type": "code",
   "execution_count": 62,
   "metadata": {
    "collapsed": true
   },
   "outputs": [],
   "source": [
    "# 生成均匀分布的随机值\n",
    "data = np.random.uniform(-1,1,10000)"
   ]
  },
  {
   "cell_type": "code",
   "execution_count": 63,
   "metadata": {},
   "outputs": [
    {
     "data": {
      "text/plain": [
       "array([ 0.3845108 ,  0.47943764, -0.87134657, ...,  0.70930166,\n",
       "        0.68327963,  0.17837419])"
      ]
     },
     "execution_count": 63,
     "metadata": {},
     "output_type": "execute_result"
    }
   ],
   "source": [
    "data"
   ]
  },
  {
   "cell_type": "code",
   "execution_count": 70,
   "metadata": {},
   "outputs": [
    {
     "data": {
      "image/png": "[encoded data removed]",
      "text/plain": [
       "<matplotlib.figure.Figure at 0x1e3034ba908>"
      ]
     },
     "metadata": {},
     "output_type": "display_data"
    }
   ],
   "source": [
    "import matplotlib.pyplot as plt\n",
    "import numpy as np\n",
    "# 1.收集数据\n",
    "data = np.random.uniform(-1,1,10000000)\n",
    "# 2.创建画布\n",
    "plt.figure(figsize=(20,8),dpi=80)\n",
    "\n",
    "# 3.绘制直方图 1000组数据 数据一共10000个\n",
    "plt.hist(data,1000)\n",
    "# 4.显示图像\n",
    "plt.show()\n",
    "##落到每个组的个数是一样的"
   ]
  },
  {
   "cell_type": "markdown",
   "metadata": {},
   "source": [
    "#### 正态分布 Normal distribution\n",
    "- 正态分布是一种概率分布，正态分布是具有两个参数μ和σ的连续型随机变量的分布，第一个参数μ是服从正态分布的随机变量的均值，第二个参数σ是此随机变量的方差，所以正态分布记作N(μ，σ)\n",
    "- 数学期望μ，方差σ^2，标准差σ。其概率密度函数为正态分布的期望值μ决定了其位置，其标准差σ决定了分布的幅度。当μ = 0,σ = 1时的正态分布是标准正态分布\n",
    "- μ决定了其位置，σ决定类分布幅度，波动程度，集中程度，稳定性，离散程度\n",
    "- 面积分布\n",
    "    - 1、实际工作中，正态曲线下横轴上一定区间的面积反映该区间的例数占总例数的百分比，或变量值落在该区间的概率（概率分布）。不同 范围内正态曲线下的面积可用公式计算。\n",
    "    - 2、正态曲线下，横轴区间（μ-σ,μ+σ）内的面积为68.268949%。\n",
    "    - P{|X-μ|<σ}=2Φ（1）-1=0.6826\n",
    "    - 横轴区间（μ-1.96σ,μ+1.96σ）内的面积为95.449974%。\n",
    "    - P{|X-μ|<2σ}=2Φ（2）-1=0.9544\n",
    "    - 横轴区间（μ-2.58σ,μ+2.58σ）内的面积为99.730020%。\n",
    "    - P{|X-μ|<3σ}=2Φ（3）-1=0.9974\n",
    "- 正态分布的应用\n",
    "    - 生活，生产与科学实验中很多随机变量的概率分布可以近似的用正态分布来描述\n",
    "- 正态分布\n",
    "    - np.random.normal(loc=0.0,scale=1.0,size=None)\n",
    "    - loc： float 此概率分布的均值（对应着整个分布的中心centre）\n",
    "    - scale：float 此概率分布的标准差（对应于分布的宽度，scale越大越矮胖，scale越小，越瘦高）\n",
    "    - size：int or tuple of ints 输出的shape，默认为None，只输出一个值   "
   ]
  },
  {
   "cell_type": "code",
   "execution_count": 72,
   "metadata": {
    "collapsed": true
   },
   "outputs": [],
   "source": [
    "# 正态分布\n",
    "data = np.random.normal(loc=1.75, scale=0.1,size=10000)"
   ]
  },
  {
   "cell_type": "code",
   "execution_count": 73,
   "metadata": {},
   "outputs": [
    {
     "data": {
      "text/plain": [
       "array([ 1.73924452,  1.76359136,  1.8194269 , ...,  1.49469393,\n",
       "        1.78814081,  1.67457965])"
      ]
     },
     "execution_count": 73,
     "metadata": {},
     "output_type": "execute_result"
    }
   ],
   "source": [
    "data"
   ]
  },
  {
   "cell_type": "code",
   "execution_count": 75,
   "metadata": {},
   "outputs": [
    {
     "data": {
      "image/png": "[encoded data removed]",
      "text/plain": [
       "<matplotlib.figure.Figure at 0x1e30395af60>"
      ]
     },
     "metadata": {},
     "output_type": "display_data"
    }
   ],
   "source": [
    "import matplotlib.pyplot as plt\n",
    "import numpy as np\n",
    "# 1.收集数据\n",
    "data = np.random.normal(loc=1.75, scale=0.1,size=1000000)\n",
    "# 2.创建画布\n",
    "plt.figure(figsize=(20,8),dpi=80)\n",
    "\n",
    "# 3.绘制直方图 1000组数据 数据一共10000个\n",
    "plt.hist(data,1000)\n",
    "# 4.显示图像\n",
    "plt.show()\n",
    "##落到每个组的个数是一样的"
   ]
  },
  {
   "cell_type": "markdown",
   "metadata": {},
   "source": [
    "## 数组的索引，切片\n",
    "#### 案例：随机生成8只股票2周的交易日涨幅数据  \n",
    "8只股票，两周（10天）的涨跌幅数据，如何获取？\n",
    "- 两周的交易日数量为 2*5 =10\n",
    "- 随机生成涨跌幅在某个正态分布内，比如均值0，方差1\n",
    "\n",
    "##### 股票涨跌幅数据的创建"
   ]
  },
  {
   "cell_type": "code",
   "execution_count": 78,
   "metadata": {
    "collapsed": true
   },
   "outputs": [],
   "source": [
    "# 创建符合正态分布的8只股票10天的涨跌幅数据\n",
    "stock_change = np.random.normal(loc=0,scale=1,size=(8,10))"
   ]
  },
  {
   "cell_type": "code",
   "execution_count": 79,
   "metadata": {},
   "outputs": [
    {
     "data": {
      "text/plain": [
       "array([[-1.22063896,  2.10688652, -1.10723105, -0.47167461,  1.94301083,\n",
       "         0.66610931,  0.83099514, -0.08102053,  0.14871171,  1.63567475],\n",
       "       [-0.62992741,  1.746166  ,  1.01967608,  0.08258876,  1.30407741,\n",
       "        -0.40510161, -0.92538225, -0.52872856, -0.08808039,  0.24734455],\n",
       "       [-1.60757201,  1.23511857, -1.04468359,  0.10238274,  0.26341435,\n",
       "        -0.19277449,  1.20621309,  0.42064235, -1.01526053, -0.63289634],\n",
       "       [ 0.24677309,  0.46363607, -0.84379068, -1.32865841,  0.46238094,\n",
       "        -1.2343714 ,  1.98728501,  1.40934018,  0.01360572, -0.75111747],\n",
       "       [ 1.2358268 ,  1.80735981, -2.05987966,  1.3455604 , -0.22428711,\n",
       "        -0.73947438, -0.60198434,  0.78965752,  0.70105989, -0.39709713],\n",
       "       [-0.47229277, -0.6793393 ,  1.06758332, -0.08035104,  1.52690698,\n",
       "        -0.85231243, -1.34698312, -0.12437267, -0.62056749, -0.1495915 ],\n",
       "       [-1.07017979,  0.07461446, -0.61179077,  0.07049211, -1.45097551,\n",
       "         1.00261962, -0.11332372,  0.6691788 ,  0.50299339, -0.38189356],\n",
       "       [-0.76394189,  0.62679221,  0.26272542,  1.41893386, -1.4490209 ,\n",
       "         0.61199504,  0.1932734 ,  0.42422995,  0.82107929,  1.01591412]])"
      ]
     },
     "execution_count": 79,
     "metadata": {},
     "output_type": "execute_result"
    }
   ],
   "source": [
    "stock_change "
   ]
  },
  {
   "cell_type": "code",
   "execution_count": 81,
   "metadata": {},
   "outputs": [
    {
     "data": {
      "text/plain": [
       "array([-1.22063896,  2.10688652, -1.10723105])"
      ]
     },
     "execution_count": 81,
     "metadata": {},
     "output_type": "execute_result"
    }
   ],
   "source": [
    "# 获取第一支股票的前三个交易日的涨跌幅数据 二维数组\n",
    "stock_change[0,:3]"
   ]
  },
  {
   "cell_type": "code",
   "execution_count": 82,
   "metadata": {},
   "outputs": [
    {
     "data": {
      "text/plain": [
       "array([-1.22063896,  2.10688652, -1.10723105])"
      ]
     },
     "execution_count": 82,
     "metadata": {},
     "output_type": "execute_result"
    }
   ],
   "source": [
    "stock_change[0,0:3]"
   ]
  },
  {
   "cell_type": "code",
   "execution_count": 88,
   "metadata": {
    "collapsed": true
   },
   "outputs": [],
   "source": [
    "# 三维数据如何获取\n",
    "a1 = np.array([ [[1,2,3],[4,5,6]], [[12,3,34],[5,6,7]]])"
   ]
  },
  {
   "cell_type": "code",
   "execution_count": 91,
   "metadata": {
    "scrolled": true
   },
   "outputs": [
    {
     "data": {
      "text/plain": [
       "array([[[ 1,  2,  3],\n",
       "        [ 4,  5,  6]],\n",
       "\n",
       "       [[12,  3, 34],\n",
       "        [ 5,  6,  7]]])"
      ]
     },
     "execution_count": 91,
     "metadata": {},
     "output_type": "execute_result"
    }
   ],
   "source": [
    "a1 #(2,2,3)"
   ]
  },
  {
   "cell_type": "code",
   "execution_count": 92,
   "metadata": {},
   "outputs": [
    {
     "data": {
      "text/plain": [
       "(2, 2, 3)"
      ]
     },
     "execution_count": 92,
     "metadata": {},
     "output_type": "execute_result"
    }
   ],
   "source": [
    "a1.shape"
   ]
  },
  {
   "cell_type": "code",
   "execution_count": 87,
   "metadata": {},
   "outputs": [
    {
     "data": {
      "text/plain": [
       "array([1, 2])"
      ]
     },
     "execution_count": 87,
     "metadata": {},
     "output_type": "execute_result"
    }
   ],
   "source": [
    "a1[0,0,:2]"
   ]
  },
  {
   "cell_type": "code",
   "execution_count": 93,
   "metadata": {
    "collapsed": true
   },
   "outputs": [],
   "source": [
    "a1[0,0,:2] = 1000"
   ]
  },
  {
   "cell_type": "code",
   "execution_count": 94,
   "metadata": {},
   "outputs": [
    {
     "data": {
      "text/plain": [
       "array([[[1000, 1000,    3],\n",
       "        [   4,    5,    6]],\n",
       "\n",
       "       [[  12,    3,   34],\n",
       "        [   5,    6,    7]]])"
      ]
     },
     "execution_count": 94,
     "metadata": {},
     "output_type": "execute_result"
    }
   ],
   "source": [
    "a1"
   ]
  },
  {
   "cell_type": "markdown",
   "metadata": {},
   "source": [
    "## 形状修改\n",
    "- 让刚刚的股票行，日期列反过来，变成日期行，股票列\n",
    "- ndarray.reshape(shape[,order]) #返回新的ndarry，只是形状变了，数据没有改变，\n",
    "     - Returns an array containing the same data with a new shape\n",
    "- ndarray.resize(shape) #没有返回值，对原始数据进行了修改\n",
    "- ndarray.T 转置 行变成列，列变成行"
   ]
  },
  {
   "cell_type": "code",
   "execution_count": 95,
   "metadata": {},
   "outputs": [
    {
     "data": {
      "text/plain": [
       "array([[-1.22063896,  2.10688652, -1.10723105, -0.47167461,  1.94301083,\n",
       "         0.66610931,  0.83099514, -0.08102053,  0.14871171,  1.63567475],\n",
       "       [-0.62992741,  1.746166  ,  1.01967608,  0.08258876,  1.30407741,\n",
       "        -0.40510161, -0.92538225, -0.52872856, -0.08808039,  0.24734455],\n",
       "       [-1.60757201,  1.23511857, -1.04468359,  0.10238274,  0.26341435,\n",
       "        -0.19277449,  1.20621309,  0.42064235, -1.01526053, -0.63289634],\n",
       "       [ 0.24677309,  0.46363607, -0.84379068, -1.32865841,  0.46238094,\n",
       "        -1.2343714 ,  1.98728501,  1.40934018,  0.01360572, -0.75111747],\n",
       "       [ 1.2358268 ,  1.80735981, -2.05987966,  1.3455604 , -0.22428711,\n",
       "        -0.73947438, -0.60198434,  0.78965752,  0.70105989, -0.39709713],\n",
       "       [-0.47229277, -0.6793393 ,  1.06758332, -0.08035104,  1.52690698,\n",
       "        -0.85231243, -1.34698312, -0.12437267, -0.62056749, -0.1495915 ],\n",
       "       [-1.07017979,  0.07461446, -0.61179077,  0.07049211, -1.45097551,\n",
       "         1.00261962, -0.11332372,  0.6691788 ,  0.50299339, -0.38189356],\n",
       "       [-0.76394189,  0.62679221,  0.26272542,  1.41893386, -1.4490209 ,\n",
       "         0.61199504,  0.1932734 ,  0.42422995,  0.82107929,  1.01591412]])"
      ]
     },
     "execution_count": 95,
     "metadata": {},
     "output_type": "execute_result"
    }
   ],
   "source": [
    "stock_change"
   ]
  },
  {
   "cell_type": "code",
   "execution_count": 96,
   "metadata": {},
   "outputs": [
    {
     "data": {
      "text/plain": [
       "(8, 10)"
      ]
     },
     "execution_count": 96,
     "metadata": {},
     "output_type": "execute_result"
    }
   ],
   "source": [
    "stock_change.shape"
   ]
  },
  {
   "cell_type": "code",
   "execution_count": 100,
   "metadata": {},
   "outputs": [
    {
     "data": {
      "text/plain": [
       "array([[-1.22063896,  2.10688652, -1.10723105, -0.47167461,  1.94301083,\n",
       "         0.66610931,  0.83099514, -0.08102053],\n",
       "       [ 0.14871171,  1.63567475, -0.62992741,  1.746166  ,  1.01967608,\n",
       "         0.08258876,  1.30407741, -0.40510161],\n",
       "       [-0.92538225, -0.52872856, -0.08808039,  0.24734455, -1.60757201,\n",
       "         1.23511857, -1.04468359,  0.10238274],\n",
       "       [ 0.26341435, -0.19277449,  1.20621309,  0.42064235, -1.01526053,\n",
       "        -0.63289634,  0.24677309,  0.46363607],\n",
       "       [-0.84379068, -1.32865841,  0.46238094, -1.2343714 ,  1.98728501,\n",
       "         1.40934018,  0.01360572, -0.75111747],\n",
       "       [ 1.2358268 ,  1.80735981, -2.05987966,  1.3455604 , -0.22428711,\n",
       "        -0.73947438, -0.60198434,  0.78965752],\n",
       "       [ 0.70105989, -0.39709713, -0.47229277, -0.6793393 ,  1.06758332,\n",
       "        -0.08035104,  1.52690698, -0.85231243],\n",
       "       [-1.34698312, -0.12437267, -0.62056749, -0.1495915 , -1.07017979,\n",
       "         0.07461446, -0.61179077,  0.07049211],\n",
       "       [-1.45097551,  1.00261962, -0.11332372,  0.6691788 ,  0.50299339,\n",
       "        -0.38189356, -0.76394189,  0.62679221],\n",
       "       [ 0.26272542,  1.41893386, -1.4490209 ,  0.61199504,  0.1932734 ,\n",
       "         0.42422995,  0.82107929,  1.01591412]])"
      ]
     },
     "execution_count": 100,
     "metadata": {},
     "output_type": "execute_result"
    }
   ],
   "source": [
    "stock_change.reshape((10,8)) ##只是将数据重新进行分割"
   ]
  },
  {
   "cell_type": "code",
   "execution_count": 102,
   "metadata": {
    "collapsed": true
   },
   "outputs": [],
   "source": [
    "stock_change.resize((10,8))"
   ]
  },
  {
   "cell_type": "code",
   "execution_count": 103,
   "metadata": {},
   "outputs": [
    {
     "data": {
      "text/plain": [
       "(10, 8)"
      ]
     },
     "execution_count": 103,
     "metadata": {},
     "output_type": "execute_result"
    }
   ],
   "source": [
    "stock_change.shape"
   ]
  },
  {
   "cell_type": "code",
   "execution_count": 104,
   "metadata": {},
   "outputs": [
    {
     "data": {
      "text/plain": [
       "array([[-1.22063896,  2.10688652, -1.10723105, -0.47167461,  1.94301083,\n",
       "         0.66610931,  0.83099514, -0.08102053],\n",
       "       [ 0.14871171,  1.63567475, -0.62992741,  1.746166  ,  1.01967608,\n",
       "         0.08258876,  1.30407741, -0.40510161],\n",
       "       [-0.92538225, -0.52872856, -0.08808039,  0.24734455, -1.60757201,\n",
       "         1.23511857, -1.04468359,  0.10238274],\n",
       "       [ 0.26341435, -0.19277449,  1.20621309,  0.42064235, -1.01526053,\n",
       "        -0.63289634,  0.24677309,  0.46363607],\n",
       "       [-0.84379068, -1.32865841,  0.46238094, -1.2343714 ,  1.98728501,\n",
       "         1.40934018,  0.01360572, -0.75111747],\n",
       "       [ 1.2358268 ,  1.80735981, -2.05987966,  1.3455604 , -0.22428711,\n",
       "        -0.73947438, -0.60198434,  0.78965752],\n",
       "       [ 0.70105989, -0.39709713, -0.47229277, -0.6793393 ,  1.06758332,\n",
       "        -0.08035104,  1.52690698, -0.85231243],\n",
       "       [-1.34698312, -0.12437267, -0.62056749, -0.1495915 , -1.07017979,\n",
       "         0.07461446, -0.61179077,  0.07049211],\n",
       "       [-1.45097551,  1.00261962, -0.11332372,  0.6691788 ,  0.50299339,\n",
       "        -0.38189356, -0.76394189,  0.62679221],\n",
       "       [ 0.26272542,  1.41893386, -1.4490209 ,  0.61199504,  0.1932734 ,\n",
       "         0.42422995,  0.82107929,  1.01591412]])"
      ]
     },
     "execution_count": 104,
     "metadata": {},
     "output_type": "execute_result"
    }
   ],
   "source": [
    "stock_change"
   ]
  },
  {
   "cell_type": "code",
   "execution_count": 105,
   "metadata": {
    "collapsed": true
   },
   "outputs": [],
   "source": [
    "stock_change.resize((8,10))"
   ]
  },
  {
   "cell_type": "code",
   "execution_count": 106,
   "metadata": {},
   "outputs": [
    {
     "data": {
      "text/plain": [
       "array([[-1.22063896,  2.10688652, -1.10723105, -0.47167461,  1.94301083,\n",
       "         0.66610931,  0.83099514, -0.08102053,  0.14871171,  1.63567475],\n",
       "       [-0.62992741,  1.746166  ,  1.01967608,  0.08258876,  1.30407741,\n",
       "        -0.40510161, -0.92538225, -0.52872856, -0.08808039,  0.24734455],\n",
       "       [-1.60757201,  1.23511857, -1.04468359,  0.10238274,  0.26341435,\n",
       "        -0.19277449,  1.20621309,  0.42064235, -1.01526053, -0.63289634],\n",
       "       [ 0.24677309,  0.46363607, -0.84379068, -1.32865841,  0.46238094,\n",
       "        -1.2343714 ,  1.98728501,  1.40934018,  0.01360572, -0.75111747],\n",
       "       [ 1.2358268 ,  1.80735981, -2.05987966,  1.3455604 , -0.22428711,\n",
       "        -0.73947438, -0.60198434,  0.78965752,  0.70105989, -0.39709713],\n",
       "       [-0.47229277, -0.6793393 ,  1.06758332, -0.08035104,  1.52690698,\n",
       "        -0.85231243, -1.34698312, -0.12437267, -0.62056749, -0.1495915 ],\n",
       "       [-1.07017979,  0.07461446, -0.61179077,  0.07049211, -1.45097551,\n",
       "         1.00261962, -0.11332372,  0.6691788 ,  0.50299339, -0.38189356],\n",
       "       [-0.76394189,  0.62679221,  0.26272542,  1.41893386, -1.4490209 ,\n",
       "         0.61199504,  0.1932734 ,  0.42422995,  0.82107929,  1.01591412]])"
      ]
     },
     "execution_count": 106,
     "metadata": {},
     "output_type": "execute_result"
    }
   ],
   "source": [
    "stock_change"
   ]
  },
  {
   "cell_type": "code",
   "execution_count": 108,
   "metadata": {},
   "outputs": [
    {
     "data": {
      "text/plain": [
       "array([[-1.22063896, -0.62992741, -1.60757201,  0.24677309,  1.2358268 ,\n",
       "        -0.47229277, -1.07017979, -0.76394189],\n",
       "       [ 2.10688652,  1.746166  ,  1.23511857,  0.46363607,  1.80735981,\n",
       "        -0.6793393 ,  0.07461446,  0.62679221],\n",
       "       [-1.10723105,  1.01967608, -1.04468359, -0.84379068, -2.05987966,\n",
       "         1.06758332, -0.61179077,  0.26272542],\n",
       "       [-0.47167461,  0.08258876,  0.10238274, -1.32865841,  1.3455604 ,\n",
       "        -0.08035104,  0.07049211,  1.41893386],\n",
       "       [ 1.94301083,  1.30407741,  0.26341435,  0.46238094, -0.22428711,\n",
       "         1.52690698, -1.45097551, -1.4490209 ],\n",
       "       [ 0.66610931, -0.40510161, -0.19277449, -1.2343714 , -0.73947438,\n",
       "        -0.85231243,  1.00261962,  0.61199504],\n",
       "       [ 0.83099514, -0.92538225,  1.20621309,  1.98728501, -0.60198434,\n",
       "        -1.34698312, -0.11332372,  0.1932734 ],\n",
       "       [-0.08102053, -0.52872856,  0.42064235,  1.40934018,  0.78965752,\n",
       "        -0.12437267,  0.6691788 ,  0.42422995],\n",
       "       [ 0.14871171, -0.08808039, -1.01526053,  0.01360572,  0.70105989,\n",
       "        -0.62056749,  0.50299339,  0.82107929],\n",
       "       [ 1.63567475,  0.24734455, -0.63289634, -0.75111747, -0.39709713,\n",
       "        -0.1495915 , -0.38189356,  1.01591412]])"
      ]
     },
     "execution_count": 108,
     "metadata": {},
     "output_type": "execute_result"
    }
   ],
   "source": [
    "stock_change.T"
   ]
  },
  {
   "cell_type": "code",
   "execution_count": 109,
   "metadata": {},
   "outputs": [
    {
     "data": {
      "text/plain": [
       "(10, 8)"
      ]
     },
     "execution_count": 109,
     "metadata": {},
     "output_type": "execute_result"
    }
   ],
   "source": [
    "stock_change.T.shape"
   ]
  },
  {
   "cell_type": "markdown",
   "metadata": {},
   "source": [
    "## 类型修改\n",
    "- ndarray.astype(type)\n",
    "    - stock_change.astype(np.int32)\n",
    "- ndarray.tostring([order])或者ndarray.tobyte([order]) ndarray序列化到本地\n",
    "    - Construct Python bytes containing the raw data bytes in the array\n",
    "    - arr = np.array([[1,2,3],[4,5,6]],[[12,3,34],[5,6,7]])\n",
    "    - arr.tostring()"
   ]
  },
  {
   "cell_type": "code",
   "execution_count": 110,
   "metadata": {},
   "outputs": [
    {
     "data": {
      "text/plain": [
       "array([[-1,  2, -1,  0,  1,  0,  0,  0,  0,  1],\n",
       "       [ 0,  1,  1,  0,  1,  0,  0,  0,  0,  0],\n",
       "       [-1,  1, -1,  0,  0,  0,  1,  0, -1,  0],\n",
       "       [ 0,  0,  0, -1,  0, -1,  1,  1,  0,  0],\n",
       "       [ 1,  1, -2,  1,  0,  0,  0,  0,  0,  0],\n",
       "       [ 0,  0,  1,  0,  1,  0, -1,  0,  0,  0],\n",
       "       [-1,  0,  0,  0, -1,  1,  0,  0,  0,  0],\n",
       "       [ 0,  0,  0,  1, -1,  0,  0,  0,  0,  1]])"
      ]
     },
     "execution_count": 110,
     "metadata": {},
     "output_type": "execute_result"
    }
   ],
   "source": [
    "stock_change.astype(np.int32)"
   ]
  },
  {
   "cell_type": "code",
   "execution_count": 111,
   "metadata": {},
   "outputs": [
    {
     "data": {
      "text/plain": [
       "numpy.ndarray"
      ]
     },
     "execution_count": 111,
     "metadata": {},
     "output_type": "execute_result"
    }
   ],
   "source": [
    "type(stock_change)"
   ]
  },
  {
   "cell_type": "code",
   "execution_count": 113,
   "metadata": {},
   "outputs": [
    {
     "data": {
      "text/plain": [
       "dtype('float64')"
      ]
     },
     "execution_count": 113,
     "metadata": {},
     "output_type": "execute_result"
    }
   ],
   "source": [
    "stock_change.dtype"
   ]
  },
  {
   "cell_type": "code",
   "execution_count": 115,
   "metadata": {},
   "outputs": [
    {
     "data": {
      "text/plain": [
       "array([[-1,  2, -1,  0,  1,  0,  0,  0,  0,  1],\n",
       "       [ 0,  1,  1,  0,  1,  0,  0,  0,  0,  0],\n",
       "       [-1,  1, -1,  0,  0,  0,  1,  0, -1,  0],\n",
       "       [ 0,  0,  0, -1,  0, -1,  1,  1,  0,  0],\n",
       "       [ 1,  1, -2,  1,  0,  0,  0,  0,  0,  0],\n",
       "       [ 0,  0,  1,  0,  1,  0, -1,  0,  0,  0],\n",
       "       [-1,  0,  0,  0, -1,  1,  0,  0,  0,  0],\n",
       "       [ 0,  0,  0,  1, -1,  0,  0,  0,  0,  1]])"
      ]
     },
     "execution_count": 115,
     "metadata": {},
     "output_type": "execute_result"
    }
   ],
   "source": [
    "stock_change.astype('int32')"
   ]
  },
  {
   "cell_type": "code",
   "execution_count": 116,
   "metadata": {},
   "outputs": [
    {
     "data": {
      "text/plain": [
       "b'no\\xa6\\xb6\\xbc\\x87\\xf3\\xbfp\\x07\\x8aQ\\xe7\\xda\\x00@\\xe7\\xcb\\x12\\xe87\\xb7\\xf1\\xbf\\x08\\xa3\\xd0\\xb4\\xea/\\xde\\xbf+\\xee%\\x85\\x92\\x16\\xff?\\x9b\\xf0\\x8az\\xc4P\\xe5?\\\\\\xf3\\x14!\\x83\\x97\\xea?\\x97\\xc7\\xc3\\xe1\\xc2\\xbd\\xb4\\xbf\\xa0v)5\\xfc\\x08\\xc3?Q\\x95\\x11H\\xb9+\\xfa?p(\\xb3\\x86](\\xe4\\xbfvoB\\xc1K\\xf0\\xfb?\\xb6g\\x18\\xde\\x97P\\xf0?\\x8b\\xf7\\x82v\\x89$\\xb5?\\x1fb\\xe9F\\x80\\xdd\\xf4?\\xa7L1M/\\xed\\xd9\\xbf\\x12I\\x1c>\\xbb\\x9c\\xed\\xbf\\x10\\xf4\\xa5&X\\xeb\\xe0\\xbf\\x12\\xf3\\xe5\\xaco\\x8c\\xb6\\xbf>\\x87\\xa9y\\xfc\\xa8\\xcf?\\xee\\xf9@n\\x9d\\xb8\\xf9\\xbfy\\x03g\\xb0\\x0b\\xc3\\xf3?\\xc1Q\\xc4$\\x06\\xb7\\xf0\\xbf1I\\xfdV\\xc15\\xba?\\xe7\\xdfP\\xe0\\xc7\\xdb\\xd0?V\\xf6\\x13\\xa3\\xd5\\xac\\xc8\\xbf\\x9c1\\xb9\\x19\\xa6L\\xf3?\\xaa\\x7f\\xda\\xe3\\xcd\\xeb\\xda?S\\x11\\xc9\\xd3\\x81>\\xf0\\xbf\\x87j\\xca\\xd4\\xaf@\\xe4\\xbfFw\\xa6\\xaeB\\x96\\xcf?\\xf5Wg\\x9f6\\xac\\xdd?#\\xcd\\xd9MU\\x00\\xeb\\xbf\\xdfR\\x83R/B\\xf5\\xbfKD\\x836\\xa6\\x97\\xdd?V\\x1e\\xcf:\\xfc\\xbf\\xf3\\xbf\\xd5\\x97\\x9b^\\xeb\\xcb\\xff?\\x955\\xfeH\\xa8\\x8c\\xf6?EZpxP\\xdd\\x8b?\\xb3\\xd1\\xac~\\'\\t\\xe8\\xbf\\x8c\\xf1\\xfeQ\\xf2\\xc5\\xf3?\\xff\\xd6\\x9c\\x1d\\xf2\\xea\\xfc?\\x9e\\xd8@0\\xa2z\\x00\\xc0\\xa8\\xd2\\xb3Wj\\x87\\xf5?\\xbb\\xd5\\x07\\xadp\\xb5\\xcc\\xbf\\x1f<~+\\xc6\\xa9\\xe7\\xbf\\xc5\\x0e:\\xabtC\\xe3\\xbf\\x8d\\xaf\\xa3\\xd6\\xdfD\\xe9?\\x99m\\x11$\\x15o\\xe6?\\xbbA9\\x14\\nj\\xd9\\xbf<\\'tv\\x0b:\\xde\\xbf[N\\xb4\\xc3%\\xbd\\xe5\\xbfjL\\xe6>\\xd2\\x14\\xf1?\\xda1\\x19\\xc8\\xe2\\x91\\xb4\\xbf\\xe7\\xe6f\\x046n\\xf8?\\xe8k\\xa7\\xb6$F\\xeb\\xbf*(\\xe3*>\\x8d\\xf5\\xbf;B?\\'\\xe3\\xd6\\xbf\\xbf\\xc1s\\x00Y\\xb0\\xdb\\xe3\\xbf\\xf0/\\x9er\\xd0%\\xc3\\xbfx\\xe4#\\xd8t\\x1f\\xf1\\xbf#\\xc3\\xc4\\xe0\\xee\\x19\\xb3?\\xd2\\x18G:\\xca\\x93\\xe3\\xbf\\xfa!nR\\xc5\\x0b\\xb2?V\\xf5S\\x1927\\xf7\\xbfd\\xe4!\\xde\\xba\\n\\xf0?\\xe3#\\x1a\\x87\\xc8\\x02\\xbd\\xbf\\xfd\\xb8-\\xa8\\xe9i\\xe5?\\xc1:\\xb2\\x95\\x85\\x18\\xe0?3\\xe1\\x9d\\xb4\\xf1p\\xd8\\xbf\\xb4FrE6r\\xe8\\xbf\\xe4\\xb5\\x99\\x8a\\xae\\x0e\\xe4?6\\xb6NK~\\xd0\\xd0?\\xd5\\xb1\\xc9\\xfc\\xf3\\xb3\\xf6?\\n\\x1c+\\x890/\\xf7\\xbf\\x85\\xe3\"\\x9ev\\x95\\xe3?\\x83\\xc2\\xe2\\xce.\\xbd\\xc8?R@\\xbdb\\x95&\\xdb?\\xeb\\xac\\xd2\\x13HF\\xea?\\x9e\\xa87+/A\\xf0?'"
      ]
     },
     "execution_count": 116,
     "metadata": {},
     "output_type": "execute_result"
    }
   ],
   "source": [
    "stock_change.tostring()"
   ]
  },
  {
   "cell_type": "markdown",
   "metadata": {},
   "source": [
    "## 数组的去重\n",
    "- ndarray.unique"
   ]
  },
  {
   "cell_type": "code",
   "execution_count": 117,
   "metadata": {
    "collapsed": true
   },
   "outputs": [],
   "source": [
    "temp = np.array([[1, 2, 3, 4],[3, 4, 5, 6]])"
   ]
  },
  {
   "cell_type": "code",
   "execution_count": 120,
   "metadata": {},
   "outputs": [
    {
     "data": {
      "text/plain": [
       "array([[1, 2, 3, 4],\n",
       "       [3, 4, 5, 6]])"
      ]
     },
     "execution_count": 120,
     "metadata": {},
     "output_type": "execute_result"
    }
   ],
   "source": [
    "temp"
   ]
  },
  {
   "cell_type": "code",
   "execution_count": 121,
   "metadata": {},
   "outputs": [
    {
     "ename": "TypeError",
     "evalue": "unhashable type: 'numpy.ndarray'",
     "output_type": "error",
     "traceback": [
      "\u001b[1;31m---------------------------------------------------------------------------\u001b[0m",
      "\u001b[1;31mTypeError\u001b[0m                                 Traceback (most recent call last)",
      "\u001b[1;32m<ipython-input-121-204a5b33f72d>\u001b[0m in \u001b[0;36m<module>\u001b[1;34m()\u001b[0m\n\u001b[1;32m----> 1\u001b[1;33m \u001b[0mset\u001b[0m\u001b[1;33m(\u001b[0m\u001b[0mtemp\u001b[0m\u001b[1;33m)\u001b[0m\u001b[1;33m\u001b[0m\u001b[0m\n\u001b[0m",
      "\u001b[1;31mTypeError\u001b[0m: unhashable type: 'numpy.ndarray'"
     ]
    }
   ],
   "source": [
    "set(temp) #不可hash"
   ]
  },
  {
   "cell_type": "code",
   "execution_count": 119,
   "metadata": {},
   "outputs": [
    {
     "data": {
      "text/plain": [
       "array([1, 2, 3, 4, 5, 6])"
      ]
     },
     "execution_count": 119,
     "metadata": {},
     "output_type": "execute_result"
    }
   ],
   "source": [
    "np.unique(temp)"
   ]
  },
  {
   "cell_type": "code",
   "execution_count": 122,
   "metadata": {},
   "outputs": [
    {
     "data": {
      "text/plain": [
       "array([[1, 2, 3, 4],\n",
       "       [3, 4, 5, 6]])"
      ]
     },
     "execution_count": 122,
     "metadata": {},
     "output_type": "execute_result"
    }
   ],
   "source": [
    "temp #把二维的数据拍扁，就可以用set"
   ]
  },
  {
   "cell_type": "code",
   "execution_count": 124,
   "metadata": {},
   "outputs": [
    {
     "data": {
      "text/plain": [
       "array([1, 2, 3, 4, 3, 4, 5, 6])"
      ]
     },
     "execution_count": 124,
     "metadata": {},
     "output_type": "execute_result"
    }
   ],
   "source": [
    "temp.flatten()"
   ]
  },
  {
   "cell_type": "code",
   "execution_count": 126,
   "metadata": {},
   "outputs": [
    {
     "data": {
      "text/plain": [
       "{1, 2, 3, 4, 5, 6}"
      ]
     },
     "execution_count": 126,
     "metadata": {},
     "output_type": "execute_result"
    }
   ],
   "source": [
    "set(temp.flatten())"
   ]
  },
  {
   "cell_type": "markdown",
   "metadata": {},
   "source": [
    "# ndarray运算"
   ]
  },
  {
   "cell_type": "markdown",
   "metadata": {},
   "source": [
    "## 逻辑运算\n",
    "- 布尔索引  \n",
    "- 通用判断索引\n",
    "- np.where \n",
    "\n",
    "### 布尔索引\n",
    "- 想要操作符合某一条件的数据，可以选择布尔索引"
   ]
  },
  {
   "cell_type": "code",
   "execution_count": 198,
   "metadata": {},
   "outputs": [],
   "source": [
    "# 创建符合正态分布的8只股票10天的涨跌幅数据\n",
    "import numpy as np\n",
    "stock_change = np.random.normal(loc=0,scale=1,size=(8,10))\n",
    "stock_change = stock_change[0:5,0:5]"
   ]
  },
  {
   "cell_type": "code",
   "execution_count": 11,
   "metadata": {},
   "outputs": [
    {
     "data": {
      "text/plain": [
       "array([[ 1.33426145, -0.91332078,  0.41589832, -0.17800853, -0.99255695],\n",
       "       [-1.46130113, -0.69069642, -1.88562264, -2.23542262, -1.13330587],\n",
       "       [-1.42447526,  0.40538865, -1.00463505,  0.25662942, -0.09784948],\n",
       "       [ 0.24207307,  1.44770819,  1.61822057,  1.05435681,  1.71162636],\n",
       "       [ 1.32025979,  0.07188765, -0.0712197 , -1.09943623, -1.52520158]])"
      ]
     },
     "execution_count": 11,
     "metadata": {},
     "output_type": "execute_result"
    }
   ],
   "source": [
    "stock_change"
   ]
  },
  {
   "cell_type": "code",
   "execution_count": 12,
   "metadata": {},
   "outputs": [
    {
     "data": {
      "text/plain": [
       "array([[ True, False, False, False, False],\n",
       "       [False, False, False, False, False],\n",
       "       [False, False, False, False, False],\n",
       "       [False,  True,  True,  True,  True],\n",
       "       [ True, False, False, False, False]], dtype=bool)"
      ]
     },
     "execution_count": 12,
     "metadata": {},
     "output_type": "execute_result"
    }
   ],
   "source": [
    "# 逻辑判断，如果涨跌幅大于0.5则标记为True，否则则为False\n",
    "stock_change>0.5"
   ]
  },
  {
   "cell_type": "code",
   "execution_count": 13,
   "metadata": {},
   "outputs": [
    {
     "data": {
      "text/plain": [
       "array([ 1.33426145,  1.44770819,  1.61822057,  1.05435681,  1.71162636,\n",
       "        1.32025979])"
      ]
     },
     "execution_count": 13,
     "metadata": {},
     "output_type": "execute_result"
    }
   ],
   "source": [
    "# 返回的值都是大于0.5的\n",
    "stock_change[stock_change>0.5]"
   ]
  },
  {
   "cell_type": "code",
   "execution_count": 14,
   "metadata": {
    "collapsed": true
   },
   "outputs": [],
   "source": [
    "# 返回的值都是大于0.5的, 赋值为1.1\n",
    "stock_change[stock_change>0.5] =1.1"
   ]
  },
  {
   "cell_type": "code",
   "execution_count": 15,
   "metadata": {},
   "outputs": [
    {
     "data": {
      "text/plain": [
       "array([[ 1.1       , -0.91332078,  0.41589832, -0.17800853, -0.99255695],\n",
       "       [-1.46130113, -0.69069642, -1.88562264, -2.23542262, -1.13330587],\n",
       "       [-1.42447526,  0.40538865, -1.00463505,  0.25662942, -0.09784948],\n",
       "       [ 0.24207307,  1.1       ,  1.1       ,  1.1       ,  1.1       ],\n",
       "       [ 1.1       ,  0.07188765, -0.0712197 , -1.09943623, -1.52520158]])"
      ]
     },
     "execution_count": 15,
     "metadata": {},
     "output_type": "execute_result"
    }
   ],
   "source": [
    "# 所有满足条件的都变成1，1了\n",
    "stock_change"
   ]
  },
  {
   "cell_type": "markdown",
   "metadata": {},
   "source": [
    "### 通用判断函数\n",
    "- np.all(布尔值)\n",
    "    - 只要有一个false，则返回false，只有全是true，才会返回trure\n",
    "- np.any(布尔值)\n",
    "    - 只要有一个True，则返回True，只有全是false，才会返回false"
   ]
  },
  {
   "cell_type": "code",
   "execution_count": 30,
   "metadata": {
    "collapsed": true
   },
   "outputs": [],
   "source": [
    "import numpy as np\n",
    "stock_change = np.random.normal(loc=0,scale=1,size=(8,10))\n",
    "stock_change = stock_change[0:5,0:5]"
   ]
  },
  {
   "cell_type": "code",
   "execution_count": 31,
   "metadata": {},
   "outputs": [
    {
     "data": {
      "text/plain": [
       "False"
      ]
     },
     "execution_count": 31,
     "metadata": {},
     "output_type": "execute_result"
    }
   ],
   "source": [
    "# np.all()\n",
    "# 判断stock_change[0:2,0:5]是否全是上涨的\n",
    "np.all(stock_change[0:2,0:5]>0)"
   ]
  },
  {
   "cell_type": "code",
   "execution_count": 32,
   "metadata": {},
   "outputs": [
    {
     "data": {
      "text/plain": [
       "True"
      ]
     },
     "execution_count": 32,
     "metadata": {},
     "output_type": "execute_result"
    }
   ],
   "source": [
    "# np.any()\n",
    "# 判断前5只股票中这段期间是否有上涨\n",
    "np.any(stock_change[0:5,:]>0)"
   ]
  },
  {
   "cell_type": "markdown",
   "metadata": {},
   "source": [
    "### np.where（三元运算符）\n",
    "- 通过使用np.where能够进行更多复杂的运算\n",
    "    - np.where(布尔值，True的位置的值，False的位置的值)\n",
    "- 复合逻辑需要结合np.logical_and和np.logical_or使用"
   ]
  },
  {
   "cell_type": "code",
   "execution_count": 40,
   "metadata": {},
   "outputs": [
    {
     "data": {
      "text/plain": [
       "array([[0, 1, 0, 0],\n",
       "       [0, 0, 1, 1],\n",
       "       [0, 1, 0, 0],\n",
       "       [1, 0, 1, 0]])"
      ]
     },
     "execution_count": 40,
     "metadata": {},
     "output_type": "execute_result"
    }
   ],
   "source": [
    "# 判断前四个股票的四天的涨跌幅，大于0设置为1，否则为0 \n",
    "# 不改变原数组\n",
    "temp = stock_change[:4,:4]\n",
    "np.where(temp>0,1,0)"
   ]
  },
  {
   "cell_type": "code",
   "execution_count": 41,
   "metadata": {},
   "outputs": [
    {
     "data": {
      "text/plain": [
       "array([[False,  True, False, False],\n",
       "       [False, False,  True,  True],\n",
       "       [False,  True, False, False],\n",
       "       [ True, False,  True, False]], dtype=bool)"
      ]
     },
     "execution_count": 41,
     "metadata": {},
     "output_type": "execute_result"
    }
   ],
   "source": [
    "temp>0"
   ]
  },
  {
   "cell_type": "code",
   "execution_count": 43,
   "metadata": {},
   "outputs": [
    {
     "data": {
      "text/plain": [
       "array([[0, 1, 0, 0],\n",
       "       [0, 0, 1, 1],\n",
       "       [0, 1, 0, 0],\n",
       "       [1, 0, 1, 0]])"
      ]
     },
     "execution_count": 43,
     "metadata": {},
     "output_type": "execute_result"
    }
   ],
   "source": [
    "np.where([[False,  True, False, False],\n",
    "       [False, False,  True,  True],\n",
    "       [False,  True, False, False],\n",
    "       [ True, False,  True, False]],1,0)"
   ]
  },
  {
   "cell_type": "code",
   "execution_count": 36,
   "metadata": {},
   "outputs": [
    {
     "data": {
      "text/plain": [
       "array([[-1.03028942,  0.43488904, -1.71219847, -1.66985533],\n",
       "       [-0.36762299, -1.08085229,  0.60529881,  0.65977775],\n",
       "       [-0.36203793,  1.11984597, -0.78890783, -1.17333854],\n",
       "       [ 1.42922861, -0.04194655,  0.41753452, -0.69631736]])"
      ]
     },
     "execution_count": 36,
     "metadata": {},
     "output_type": "execute_result"
    }
   ],
   "source": [
    "# 复合逻辑需要结合np.logical_andh和np.logical_or使用\n",
    "temp = stock_change[:4,:4]\n",
    "temp\n"
   ]
  },
  {
   "cell_type": "markdown",
   "metadata": {},
   "source": [
    "- 复合逻辑\n",
    "    - 判断前四个股票四天的涨跌幅，大于0.5并且小于1的，换为1，否则为0"
   ]
  },
  {
   "cell_type": "code",
   "execution_count": 47,
   "metadata": {},
   "outputs": [
    {
     "data": {
      "text/plain": [
       "array([[False, False, False, False],\n",
       "       [False, False,  True,  True],\n",
       "       [False, False, False, False],\n",
       "       [False, False, False, False]], dtype=bool)"
      ]
     },
     "execution_count": 47,
     "metadata": {},
     "output_type": "execute_result"
    }
   ],
   "source": [
    "np.logical_and(temp>0.5,temp<1)"
   ]
  },
  {
   "cell_type": "code",
   "execution_count": 48,
   "metadata": {},
   "outputs": [
    {
     "data": {
      "text/plain": [
       "array([[0, 0, 0, 0],\n",
       "       [0, 0, 1, 1],\n",
       "       [0, 0, 0, 0],\n",
       "       [0, 0, 0, 0]])"
      ]
     },
     "execution_count": 48,
     "metadata": {},
     "output_type": "execute_result"
    }
   ],
   "source": [
    "np.where(np.logical_and(temp>0.5,temp<1),1,0)"
   ]
  },
  {
   "cell_type": "code",
   "execution_count": 39,
   "metadata": {},
   "outputs": [
    {
     "data": {
      "text/plain": [
       "array([[1, 0, 1, 1],\n",
       "       [0, 1, 1, 1],\n",
       "       [0, 1, 1, 1],\n",
       "       [1, 0, 0, 1]])"
      ]
     },
     "execution_count": 39,
     "metadata": {},
     "output_type": "execute_result"
    }
   ],
   "source": [
    "np.where(np.logical_or(temp>0.5,temp<-0.5),1,0)"
   ]
  },
  {
   "cell_type": "markdown",
   "metadata": {},
   "source": [
    "## 统计运算\n",
    "- 如果想要知道涨幅或者跌幅最大的数据，应该这么做\n",
    "### 统计指标\n",
    "- 在数据挖掘/机器学习领域，统计指标的值也是我们分析问题的一种方式\n",
    "    - np.函数名\n",
    "    - ndarray.方法名\n",
    "- 统计指标函数：  \n",
    "min, max, mean, median, var, std\n",
    "- np.min(a[,axis,out,keepdims])\n",
    "    - return the minimum fo an array or minimum along an axis\n",
    "- np.max(a[,axis,out,keepdims])\n",
    "    - return the maximum of an array or maximum along an axis\n",
    "- np.median(a[,axis,out,overwrite_imput,keepdims])\n",
    "    - compute the median along the specified axis.\n",
    "- np.mean(a[,axis,dtype,out,keepdims])\n",
    "    - compute the arithmetic mean along the specified axis.\n",
    "- np.std(a[,axis,dtype,out,ddof,keepdims])\n",
    "    - compute the standard deviation along the specified axis.\n",
    "- np.var(a[,axis,dtype,out,ddof,keepdims])\n",
    "    - compute the variance along the specified axis.\n",
    "\n",
    "### 股票跌涨幅统计运算\n",
    "- 进行统计的时候，axis轴的取值并不一定，Numpy中不同的API轴的值都不一样，在这里，axis 0代表列，axis 1代表去行统计"
   ]
  },
  {
   "cell_type": "code",
   "execution_count": 197,
   "metadata": {},
   "outputs": [
    {
     "data": {
      "text/plain": [
       "array([[  1.10516303e+00,   1.52240789e+00,   7.66106468e-01,\n",
       "          1.77288162e+00],\n",
       "       [  7.84548835e-01,   1.82127803e-03,   6.07348285e-01,\n",
       "         -2.47616029e-02],\n",
       "       [  7.43009041e-02,   3.10159518e-02,   4.35135811e-03,\n",
       "         -2.49224785e-01],\n",
       "       [  2.08421712e+00,   6.58929242e-02,  -7.21426708e-02,\n",
       "         -7.25494375e-01]])"
      ]
     },
     "execution_count": 197,
     "metadata": {},
     "output_type": "execute_result"
    }
   ],
   "source": [
    "# 前四个股票的四天的涨跌幅\n",
    "temp = stock_change[:4,:4]\n",
    "temp"
   ]
  },
  {
   "cell_type": "code",
   "execution_count": 63,
   "metadata": {},
   "outputs": [
    {
     "data": {
      "text/plain": [
       "1.4292286138651558"
      ]
     },
     "execution_count": 63,
     "metadata": {},
     "output_type": "execute_result"
    }
   ],
   "source": [
    "temp.max()"
   ]
  },
  {
   "cell_type": "code",
   "execution_count": 65,
   "metadata": {},
   "outputs": [
    {
     "data": {
      "text/plain": [
       "1.4292286138651558"
      ]
     },
     "execution_count": 65,
     "metadata": {},
     "output_type": "execute_result"
    }
   ],
   "source": [
    "np.max(temp)"
   ]
  },
  {
   "cell_type": "code",
   "execution_count": 66,
   "metadata": {},
   "outputs": [
    {
     "name": "stdout",
     "output_type": "stream",
     "text": [
      "前四天最大涨幅[ 1.42922861  1.11984597  0.60529881  0.65977775]\n"
     ]
    }
   ],
   "source": [
    "##每一列的最大值\n",
    "print(\"前四天每天最大涨幅{}\".format(np.max(temp,axis=0)))"
   ]
  },
  {
   "cell_type": "code",
   "execution_count": 53,
   "metadata": {},
   "outputs": [
    {
     "name": "stdout",
     "output_type": "stream",
     "text": [
      "前四只股票前四天最大涨幅[ 0.43488904  0.65977775  1.11984597  1.42922861]\n"
     ]
    }
   ],
   "source": [
    "###每一行的最大值，按行 axis=1\n",
    "print(\"前四只股票每只股票前四天最大涨幅{}\".format(np.max(temp,axis=1)))"
   ]
  },
  {
   "cell_type": "code",
   "execution_count": 54,
   "metadata": {},
   "outputs": [
    {
     "name": "stdout",
     "output_type": "stream",
     "text": [
      "前四只股票前四天最大跌幅[-1.71219847 -1.08085229 -1.17333854 -0.69631736]\n"
     ]
    }
   ],
   "source": [
    "print(\"前四只股票前四天最大跌幅{}\".format(np.min(temp,axis=1)))"
   ]
  },
  {
   "cell_type": "code",
   "execution_count": 56,
   "metadata": {},
   "outputs": [
    {
     "name": "stdout",
     "output_type": "stream",
     "text": [
      "前四只股票前四天波动程度[ 0.86827843  0.72399463  0.86913138  0.77402427]\n"
     ]
    }
   ],
   "source": [
    "print(\"前四只股票前四天波动程度{}\".format(np.std(temp,axis=1)))"
   ]
  },
  {
   "cell_type": "code",
   "execution_count": 57,
   "metadata": {},
   "outputs": [
    {
     "name": "stdout",
     "output_type": "stream",
     "text": [
      "前四只股票前四天平均涨跌幅[-0.99436355 -0.04584968 -0.30110958  0.2771248 ]\n"
     ]
    }
   ],
   "source": [
    "print(\"前四只股票前四天平均涨跌幅{}\".format(np.mean(temp,axis=1)))"
   ]
  },
  {
   "cell_type": "code",
   "execution_count": 58,
   "metadata": {},
   "outputs": [
    {
     "name": "stdout",
     "output_type": "stream",
     "text": [
      "前四只股票前四天中间涨跌幅[-1.35007238  0.11883791 -0.57547288  0.18779398]\n"
     ]
    }
   ],
   "source": [
    "print(\"前四只股票前四天中间涨跌幅{}\".format(np.median(temp,axis=1)))"
   ]
  },
  {
   "cell_type": "markdown",
   "metadata": {},
   "source": [
    "#### 返回最大值，最小值所在位置\n",
    "如果需要统计出哪一只股票在某个交易日的涨幅最大或者最小  \n",
    "- np.argmax(temp,axis=)\n",
    "- np.argmin(temp,axis=)"
   ]
  },
  {
   "cell_type": "code",
   "execution_count": 67,
   "metadata": {},
   "outputs": [
    {
     "data": {
      "text/plain": [
       "array([1, 3, 1, 0], dtype=int64)"
      ]
     },
     "execution_count": 67,
     "metadata": {},
     "output_type": "execute_result"
    }
   ],
   "source": [
    "np.argmax(temp,axis=1)"
   ]
  },
  {
   "cell_type": "code",
   "execution_count": 60,
   "metadata": {},
   "outputs": [
    {
     "name": "stdout",
     "output_type": "stream",
     "text": [
      "前四只股票前四天涨幅最大[1 3 1 0]\n"
     ]
    }
   ],
   "source": [
    "#获取指定哪一天涨幅最大\n",
    "print(\"前四只股票前四天涨幅最大{}\".format(np.argmax(temp,axis=1)))"
   ]
  },
  {
   "cell_type": "code",
   "execution_count": 61,
   "metadata": {},
   "outputs": [
    {
     "name": "stdout",
     "output_type": "stream",
     "text": [
      "前四天一天内涨幅最大的股票[3 2 1 1]\n"
     ]
    }
   ],
   "source": [
    "print(\"前四天一天内涨幅最大的股票{}\".format(np.argmax(temp,axis=0)))"
   ]
  },
  {
   "cell_type": "markdown",
   "metadata": {
    "collapsed": true
   },
   "source": [
    "## 数组间运算\n",
    "- 数组与数的运算\n",
    "- 数组与数组的运算\n",
    "### 数组与数的运算"
   ]
  },
  {
   "cell_type": "code",
   "execution_count": 68,
   "metadata": {
    "collapsed": true
   },
   "outputs": [],
   "source": [
    "arr = np.array([[1, 2, 3, 2, 1, 4], [5, 6, 1, 2, 3, 1]])"
   ]
  },
  {
   "cell_type": "code",
   "execution_count": 69,
   "metadata": {},
   "outputs": [
    {
     "data": {
      "text/plain": [
       "array([[11, 12, 13, 12, 11, 14],\n",
       "       [15, 16, 11, 12, 13, 11]])"
      ]
     },
     "execution_count": 69,
     "metadata": {},
     "output_type": "execute_result"
    }
   ],
   "source": [
    "arr+10"
   ]
  },
  {
   "cell_type": "code",
   "execution_count": 71,
   "metadata": {},
   "outputs": [
    {
     "data": {
      "text/plain": [
       "array([[ 0.5,  1. ,  1.5,  1. ,  0.5,  2. ],\n",
       "       [ 2.5,  3. ,  0.5,  1. ,  1.5,  0.5]])"
      ]
     },
     "execution_count": 71,
     "metadata": {},
     "output_type": "execute_result"
    }
   ],
   "source": [
    "arr/2"
   ]
  },
  {
   "cell_type": "code",
   "execution_count": 76,
   "metadata": {
    "collapsed": true
   },
   "outputs": [],
   "source": [
    "##list做同样的事情就会报错\n",
    "a = [1, 2, 3, 4, 5]"
   ]
  },
  {
   "cell_type": "code",
   "execution_count": 78,
   "metadata": {},
   "outputs": [
    {
     "ename": "TypeError",
     "evalue": "can only concatenate list (not \"int\") to list",
     "output_type": "error",
     "traceback": [
      "\u001b[1;31m---------------------------------------------------------------------------\u001b[0m",
      "\u001b[1;31mTypeError\u001b[0m                                 Traceback (most recent call last)",
      "\u001b[1;32m<ipython-input-78-2c64baa9fdb5>\u001b[0m in \u001b[0;36m<module>\u001b[1;34m()\u001b[0m\n\u001b[1;32m----> 1\u001b[1;33m \u001b[0ma\u001b[0m \u001b[1;33m+\u001b[0m \u001b[1;36m10\u001b[0m\u001b[1;33m\u001b[0m\u001b[0m\n\u001b[0m",
      "\u001b[1;31mTypeError\u001b[0m: can only concatenate list (not \"int\") to list"
     ]
    }
   ],
   "source": [
    "a + 10"
   ]
  },
  {
   "cell_type": "code",
   "execution_count": 77,
   "metadata": {},
   "outputs": [
    {
     "data": {
      "text/plain": [
       "[1, 2, 3, 4, 5, 1, 2, 3, 4, 5]"
      ]
     },
     "execution_count": 77,
     "metadata": {},
     "output_type": "execute_result"
    }
   ],
   "source": [
    "a * 2  ##只是数组重复"
   ]
  },
  {
   "cell_type": "markdown",
   "metadata": {},
   "source": [
    "### 数组与数组的运算"
   ]
  },
  {
   "cell_type": "code",
   "execution_count": 80,
   "metadata": {
    "collapsed": true
   },
   "outputs": [],
   "source": [
    "arr1 = np.array([[1, 2, 3, 2, 1, 4], [5, 6, 1, 2, 3, 1]])\n",
    "arr2 = np.array([[1, 2, 3, 4], [3, 4, 5, 6]])"
   ]
  },
  {
   "cell_type": "code",
   "execution_count": 81,
   "metadata": {},
   "outputs": [
    {
     "data": {
      "text/plain": [
       "array([[1, 2, 3, 2, 1, 4],\n",
       "       [5, 6, 1, 2, 3, 1]])"
      ]
     },
     "execution_count": 81,
     "metadata": {},
     "output_type": "execute_result"
    }
   ],
   "source": [
    "arr1 ##(2,6)"
   ]
  },
  {
   "cell_type": "code",
   "execution_count": 82,
   "metadata": {},
   "outputs": [
    {
     "data": {
      "text/plain": [
       "array([[1, 2, 3, 4],\n",
       "       [3, 4, 5, 6]])"
      ]
     },
     "execution_count": 82,
     "metadata": {},
     "output_type": "execute_result"
    }
   ],
   "source": [
    "arr2 ##(2,4)"
   ]
  },
  {
   "cell_type": "code",
   "execution_count": 83,
   "metadata": {},
   "outputs": [
    {
     "ename": "ValueError",
     "evalue": "operands could not be broadcast together with shapes (2,6) (2,4) ",
     "output_type": "error",
     "traceback": [
      "\u001b[1;31m---------------------------------------------------------------------------\u001b[0m",
      "\u001b[1;31mValueError\u001b[0m                                Traceback (most recent call last)",
      "\u001b[1;32m<ipython-input-83-c32d35a25125>\u001b[0m in \u001b[0;36m<module>\u001b[1;34m()\u001b[0m\n\u001b[1;32m----> 1\u001b[1;33m \u001b[0marr1\u001b[0m \u001b[1;33m+\u001b[0m \u001b[0marr2\u001b[0m\u001b[1;33m\u001b[0m\u001b[0m\n\u001b[0m",
      "\u001b[1;31mValueError\u001b[0m: operands could not be broadcast together with shapes (2,6) (2,4) "
     ]
    }
   ],
   "source": [
    "arr1 + arr2\n",
    "# operands could not be broadcast together with shapes (2,6) (2,4) \n",
    "# 不满足广播机制"
   ]
  },
  {
   "cell_type": "markdown",
   "metadata": {},
   "source": [
    "### 广播机制\n",
    "- 执行broadcast的前提在于，在两个ndarray执行的是element-wise的运算，broadcast机制的功能是为了方便不用形状的ndarray(numpy库的核心数据结构)进行数学运算\n",
    "- 当操作两个数组时，numpy会逐个比较他们的shape(构成元祖的tuple)，只有在下述情况下，两个数组才能够进行数组与数组的运算\n",
    "    - 维度相等\n",
    "    - shape (其中相对应的一个地方为1)"
   ]
  },
  {
   "cell_type": "markdown",
   "metadata": {},
   "source": [
    "\n",
    "(3d array) 256 * 256 * 3  \n",
    "(1d array)             3\n",
    "(3d array) 256 * 256 * 3\n",
    "\n",
    "(4d array)  9 * 1 * 7 * 1\n",
    "(3d array)      8 * 1 * 5\n",
    "(4d array)  9 * 8 * 7 * 5 \n",
    "\n",
    "(2d array)  5 * 4\n",
    "(1d array)      1\n",
    "(2d array)  5 * 4\n",
    "\n",
    "(3d array)  15 * 3 * 5\n",
    "(3d array)  15 * 1 * 1\n",
    "(3d array)  15 * 3 * 5"
   ]
  },
  {
   "cell_type": "code",
   "execution_count": 88,
   "metadata": {
    "collapsed": true
   },
   "outputs": [],
   "source": [
    "arr1 = np.array([[1, 2, 3, 2, 1, 4], [5, 6, 1, 2, 3, 1]])\n",
    "arr2 = np.array([[1], [3]])"
   ]
  },
  {
   "cell_type": "code",
   "execution_count": 89,
   "metadata": {},
   "outputs": [
    {
     "data": {
      "text/plain": [
       "array([[1, 2, 3, 2, 1, 4],\n",
       "       [5, 6, 1, 2, 3, 1]])"
      ]
     },
     "execution_count": 89,
     "metadata": {},
     "output_type": "execute_result"
    }
   ],
   "source": [
    "arr1"
   ]
  },
  {
   "cell_type": "code",
   "execution_count": 90,
   "metadata": {},
   "outputs": [
    {
     "data": {
      "text/plain": [
       "(2, 6)"
      ]
     },
     "execution_count": 90,
     "metadata": {},
     "output_type": "execute_result"
    }
   ],
   "source": [
    "arr1.shape"
   ]
  },
  {
   "cell_type": "code",
   "execution_count": 91,
   "metadata": {},
   "outputs": [
    {
     "data": {
      "text/plain": [
       "array([[1],\n",
       "       [3]])"
      ]
     },
     "execution_count": 91,
     "metadata": {},
     "output_type": "execute_result"
    }
   ],
   "source": [
    "arr2"
   ]
  },
  {
   "cell_type": "code",
   "execution_count": 92,
   "metadata": {},
   "outputs": [
    {
     "data": {
      "text/plain": [
       "(2, 1)"
      ]
     },
     "execution_count": 92,
     "metadata": {},
     "output_type": "execute_result"
    }
   ],
   "source": [
    "arr2.shape"
   ]
  },
  {
   "cell_type": "code",
   "execution_count": 93,
   "metadata": {},
   "outputs": [
    {
     "data": {
      "text/plain": [
       "array([[2, 3, 4, 3, 2, 5],\n",
       "       [8, 9, 4, 5, 6, 4]])"
      ]
     },
     "execution_count": 93,
     "metadata": {},
     "output_type": "execute_result"
    }
   ],
   "source": [
    " arr1 + arr2"
   ]
  },
  {
   "cell_type": "code",
   "execution_count": 94,
   "metadata": {},
   "outputs": [
    {
     "data": {
      "text/plain": [
       "array([[ 1,  2,  3,  2,  1,  4],\n",
       "       [15, 18,  3,  6,  9,  3]])"
      ]
     },
     "execution_count": 94,
     "metadata": {},
     "output_type": "execute_result"
    }
   ],
   "source": [
    "arr1 * arr2"
   ]
  },
  {
   "cell_type": "code",
   "execution_count": 95,
   "metadata": {},
   "outputs": [
    {
     "data": {
      "text/plain": [
       "array([[ 1.        ,  2.        ,  3.        ,  2.        ,  1.        ,\n",
       "         4.        ],\n",
       "       [ 1.66666667,  2.        ,  0.33333333,  0.66666667,  1.        ,\n",
       "         0.33333333]])"
      ]
     },
     "execution_count": 95,
     "metadata": {},
     "output_type": "execute_result"
    }
   ],
   "source": [
    "arr1/arr2"
   ]
  },
  {
   "cell_type": "markdown",
   "metadata": {},
   "source": [
    "### 矩阵运算\n",
    "#### 什么是矩阵\n",
    "- 矩阵，英文matrix, 和array的区别是必须是2维的，但是array可以是多维的\n",
    "- 两种方法存储矩阵\n",
    "    - ndarray 二维数组\n",
    "    - matrix 数据结构\n",
    "- np.mat()\n",
    "    - 将数组转换成矩阵类型"
   ]
  },
  {
   "cell_type": "code",
   "execution_count": 96,
   "metadata": {
    "collapsed": true
   },
   "outputs": [],
   "source": [
    "# ndarray存储矩阵\n",
    "data = np.array([[80, 86],\n",
    "[82, 80],\n",
    "[85, 78],\n",
    "[90, 90],\n",
    "[86, 82],\n",
    "[82, 90],\n",
    "[78, 80],\n",
    "[92, 94]])"
   ]
  },
  {
   "cell_type": "code",
   "execution_count": 97,
   "metadata": {},
   "outputs": [
    {
     "data": {
      "text/plain": [
       "array([[80, 86],\n",
       "       [82, 80],\n",
       "       [85, 78],\n",
       "       [90, 90],\n",
       "       [86, 82],\n",
       "       [82, 90],\n",
       "       [78, 80],\n",
       "       [92, 94]])"
      ]
     },
     "execution_count": 97,
     "metadata": {},
     "output_type": "execute_result"
    }
   ],
   "source": [
    "data"
   ]
  },
  {
   "cell_type": "code",
   "execution_count": 99,
   "metadata": {},
   "outputs": [],
   "source": [
    "# matrix存储矩阵\n",
    "data2 = np.mat([[80, 86],\n",
    "       [82, 80],\n",
    "       [85, 78],\n",
    "       [90, 90],\n",
    "       [86, 82],\n",
    "       [82, 90],\n",
    "       [78, 80],\n",
    "       [92, 94]])"
   ]
  },
  {
   "cell_type": "code",
   "execution_count": 100,
   "metadata": {},
   "outputs": [
    {
     "data": {
      "text/plain": [
       "matrix([[80, 86],\n",
       "        [82, 80],\n",
       "        [85, 78],\n",
       "        [90, 90],\n",
       "        [86, 82],\n",
       "        [82, 90],\n",
       "        [78, 80],\n",
       "        [92, 94]])"
      ]
     },
     "execution_count": 100,
     "metadata": {},
     "output_type": "execute_result"
    }
   ],
   "source": [
    "data2"
   ]
  },
  {
   "cell_type": "code",
   "execution_count": 101,
   "metadata": {},
   "outputs": [
    {
     "data": {
      "text/plain": [
       "numpy.matrixlib.defmatrix.matrix"
      ]
     },
     "execution_count": 101,
     "metadata": {},
     "output_type": "execute_result"
    }
   ],
   "source": [
    "type(data2)"
   ]
  },
  {
   "cell_type": "markdown",
   "metadata": {},
   "source": [
    "#### 矩阵乘法运算\n",
    "- 矩阵乘法的两个关键：\n",
    "    - 形状改变\n",
    "    - 运算规则\n",
    "- 形状改变：\n",
    "### (M行，N列) x (N行，L列) =(M行，L列)\n",
    "    - 必须符合上面的式子，否则运算出错\n",
    "    - 设A为m*p的矩阵，B为p*n的矩阵，则称为m*n的矩阵c为矩阵A与B的乘机，记作C=AB\n",
    "    - A(2,3) B(3,2) A*B=(2,2)\n",
    "- 矩阵乘法api：\n",
    "    - np.matmul\n",
    "    - np.dot"
   ]
  },
  {
   "cell_type": "code",
   "execution_count": 104,
   "metadata": {},
   "outputs": [
    {
     "data": {
      "text/plain": [
       "(8, 2)"
      ]
     },
     "execution_count": 104,
     "metadata": {},
     "output_type": "execute_result"
    }
   ],
   "source": [
    "data = np.mat([[80, 86],\n",
    "       [82, 80],\n",
    "       [85, 78],\n",
    "       [90, 90],\n",
    "       [86, 82],\n",
    "       [82, 90],\n",
    "       [78, 80],\n",
    "       [92, 94]])\n",
    "data.shape"
   ]
  },
  {
   "cell_type": "code",
   "execution_count": 103,
   "metadata": {},
   "outputs": [
    {
     "data": {
      "text/plain": [
       "(2, 1)"
      ]
     },
     "execution_count": 103,
     "metadata": {},
     "output_type": "execute_result"
    }
   ],
   "source": [
    "data2 = np.mat([[0.3],[0.7]])\n",
    "data2.shape"
   ]
  },
  {
   "cell_type": "code",
   "execution_count": 106,
   "metadata": {},
   "outputs": [
    {
     "data": {
      "text/plain": [
       "matrix([[ 84.2],\n",
       "        [ 80.6],\n",
       "        [ 80.1],\n",
       "        [ 90. ],\n",
       "        [ 83.2],\n",
       "        [ 87.6],\n",
       "        [ 79.4],\n",
       "        [ 93.4]])"
      ]
     },
     "execution_count": 106,
     "metadata": {},
     "output_type": "execute_result"
    }
   ],
   "source": [
    "data * data2"
   ]
  },
  {
   "cell_type": "code",
   "execution_count": 107,
   "metadata": {},
   "outputs": [
    {
     "data": {
      "text/plain": [
       "matrix([[ 84.2],\n",
       "        [ 80.6],\n",
       "        [ 80.1],\n",
       "        [ 90. ],\n",
       "        [ 83.2],\n",
       "        [ 87.6],\n",
       "        [ 79.4],\n",
       "        [ 93.4]])"
      ]
     },
     "execution_count": 107,
     "metadata": {},
     "output_type": "execute_result"
    }
   ],
   "source": [
    "np.matmul(data,data2)"
   ]
  },
  {
   "cell_type": "code",
   "execution_count": 108,
   "metadata": {},
   "outputs": [
    {
     "data": {
      "text/plain": [
       "matrix([[ 84.2],\n",
       "        [ 80.6],\n",
       "        [ 80.1],\n",
       "        [ 90. ],\n",
       "        [ 83.2],\n",
       "        [ 87.6],\n",
       "        [ 79.4],\n",
       "        [ 93.4]])"
      ]
     },
     "execution_count": 108,
     "metadata": {},
     "output_type": "execute_result"
    }
   ],
   "source": [
    "np.dot(data,data2)"
   ]
  },
  {
   "cell_type": "code",
   "execution_count": 110,
   "metadata": {},
   "outputs": [
    {
     "data": {
      "text/plain": [
       "matrix([[ 84.2],\n",
       "        [ 80.6],\n",
       "        [ 80.1],\n",
       "        [ 90. ],\n",
       "        [ 83.2],\n",
       "        [ 87.6],\n",
       "        [ 79.4],\n",
       "        [ 93.4]])"
      ]
     },
     "execution_count": 110,
     "metadata": {},
     "output_type": "execute_result"
    }
   ],
   "source": [
    "data @ data2"
   ]
  },
  {
   "cell_type": "code",
   "execution_count": 127,
   "metadata": {},
   "outputs": [],
   "source": [
    "A = np.array([[80, 86],\n",
    "       [82, 80],\n",
    "       [85, 78],\n",
    "       [90, 90],\n",
    "       [86, 82],\n",
    "       [82, 90],\n",
    "       [78, 80],\n",
    "       [92, 94]])"
   ]
  },
  {
   "cell_type": "code",
   "execution_count": 129,
   "metadata": {},
   "outputs": [
    {
     "data": {
      "text/plain": [
       "(8, 2)"
      ]
     },
     "execution_count": 129,
     "metadata": {},
     "output_type": "execute_result"
    }
   ],
   "source": [
    "A.shape"
   ]
  },
  {
   "cell_type": "code",
   "execution_count": 130,
   "metadata": {},
   "outputs": [
    {
     "data": {
      "text/plain": [
       "numpy.ndarray"
      ]
     },
     "execution_count": 130,
     "metadata": {},
     "output_type": "execute_result"
    }
   ],
   "source": [
    "type(A)"
   ]
  },
  {
   "cell_type": "code",
   "execution_count": 131,
   "metadata": {},
   "outputs": [],
   "source": [
    "B = np.array([[0.3],[0.7]])"
   ]
  },
  {
   "cell_type": "code",
   "execution_count": 132,
   "metadata": {},
   "outputs": [
    {
     "data": {
      "text/plain": [
       "(2, 1)"
      ]
     },
     "execution_count": 132,
     "metadata": {},
     "output_type": "execute_result"
    }
   ],
   "source": [
    "B.shape"
   ]
  },
  {
   "cell_type": "code",
   "execution_count": 125,
   "metadata": {},
   "outputs": [
    {
     "data": {
      "text/plain": [
       "numpy.ndarray"
      ]
     },
     "execution_count": 125,
     "metadata": {},
     "output_type": "execute_result"
    }
   ],
   "source": [
    "type(B)"
   ]
  },
  {
   "cell_type": "code",
   "execution_count": 133,
   "metadata": {},
   "outputs": [
    {
     "ename": "ValueError",
     "evalue": "operands could not be broadcast together with shapes (8,2) (2,1) ",
     "output_type": "error",
     "traceback": [
      "\u001b[1;31m---------------------------------------------------------------------------\u001b[0m",
      "\u001b[1;31mValueError\u001b[0m                                Traceback (most recent call last)",
      "\u001b[1;32m<ipython-input-133-2aa8ba38e21e>\u001b[0m in \u001b[0;36m<module>\u001b[1;34m()\u001b[0m\n\u001b[1;32m----> 1\u001b[1;33m \u001b[0mA\u001b[0m \u001b[1;33m*\u001b[0m \u001b[0mB\u001b[0m\u001b[1;33m\u001b[0m\u001b[0m\n\u001b[0m",
      "\u001b[1;31mValueError\u001b[0m: operands could not be broadcast together with shapes (8,2) (2,1) "
     ]
    }
   ],
   "source": [
    "A * B  # 矩阵可以相乘，但是ndarry不可以，不满足广播机制"
   ]
  },
  {
   "cell_type": "markdown",
   "metadata": {
    "collapsed": true
   },
   "source": [
    "## 合并，分割\n",
    "- 实现数据的切分和合并，将数据进行切分合并处理"
   ]
  },
  {
   "cell_type": "markdown",
   "metadata": {},
   "source": [
    "### 合并\n",
    "- numpy.hstack(tup) Stack arrays in sequence horizontally (column wise)\n",
    "- numpy.vstack(tup) stack arrays in sequence vertically (row wise)\n",
    "- numpy.concatenate((a1,a2...),axis=0)"
   ]
  },
  {
   "cell_type": "code",
   "execution_count": 141,
   "metadata": {},
   "outputs": [],
   "source": [
    "a = np.array([1,2,3])"
   ]
  },
  {
   "cell_type": "code",
   "execution_count": 143,
   "metadata": {},
   "outputs": [],
   "source": [
    "b = np.array([2,3,4])"
   ]
  },
  {
   "cell_type": "code",
   "execution_count": 144,
   "metadata": {},
   "outputs": [
    {
     "data": {
      "text/plain": [
       "array([1, 2, 3, 2, 3, 4])"
      ]
     },
     "execution_count": 144,
     "metadata": {},
     "output_type": "execute_result"
    }
   ],
   "source": [
    "np.hstack((a,b))"
   ]
  },
  {
   "cell_type": "code",
   "execution_count": 145,
   "metadata": {
    "collapsed": true
   },
   "outputs": [],
   "source": [
    "a = np.array([[1],[2],[3]])"
   ]
  },
  {
   "cell_type": "code",
   "execution_count": 146,
   "metadata": {
    "collapsed": true
   },
   "outputs": [],
   "source": [
    "b = np.array([[2],[3],[4]])"
   ]
  },
  {
   "cell_type": "code",
   "execution_count": 148,
   "metadata": {},
   "outputs": [
    {
     "data": {
      "text/plain": [
       "array([[1, 2],\n",
       "       [2, 3],\n",
       "       [3, 4]])"
      ]
     },
     "execution_count": 148,
     "metadata": {},
     "output_type": "execute_result"
    }
   ],
   "source": [
    "np.hstack((a,b))"
   ]
  },
  {
   "cell_type": "code",
   "execution_count": 149,
   "metadata": {},
   "outputs": [
    {
     "data": {
      "text/plain": [
       "array([[1, 2, 3],\n",
       "       [2, 3, 4]])"
      ]
     },
     "execution_count": 149,
     "metadata": {},
     "output_type": "execute_result"
    }
   ],
   "source": [
    "a = np.array([1,2,3])\n",
    "b = np.array([2,3,4])\n",
    "np.vstack((a,b))"
   ]
  },
  {
   "cell_type": "code",
   "execution_count": 150,
   "metadata": {},
   "outputs": [
    {
     "data": {
      "text/plain": [
       "array([[1],\n",
       "       [2],\n",
       "       [3],\n",
       "       [2],\n",
       "       [3],\n",
       "       [4]])"
      ]
     },
     "execution_count": 150,
     "metadata": {},
     "output_type": "execute_result"
    }
   ],
   "source": [
    "a = np.array([[1],[2],[3]])\n",
    "b = np.array([[2],[3],[4]])\n",
    "np.vstack((a,b))"
   ]
  },
  {
   "cell_type": "code",
   "execution_count": 154,
   "metadata": {},
   "outputs": [
    {
     "data": {
      "text/plain": [
       "array([1, 2, 3, 2, 3, 4])"
      ]
     },
     "execution_count": 154,
     "metadata": {},
     "output_type": "execute_result"
    }
   ],
   "source": [
    "a = np.array([1,2,3])\n",
    "b = np.array([2,3,4])\n",
    "np.concatenate((a,b),axis=0)"
   ]
  },
  {
   "cell_type": "code",
   "execution_count": 155,
   "metadata": {},
   "outputs": [
    {
     "data": {
      "text/plain": [
       "array([[1, 2],\n",
       "       [2, 3],\n",
       "       [3, 4]])"
      ]
     },
     "execution_count": 155,
     "metadata": {},
     "output_type": "execute_result"
    }
   ],
   "source": [
    "a = np.array([[1],[2],[3]])\n",
    "b = np.array([[2],[3],[4]])\n",
    "np.concatenate((a,b),axis=1)"
   ]
  },
  {
   "cell_type": "code",
   "execution_count": 156,
   "metadata": {
    "collapsed": true
   },
   "outputs": [],
   "source": [
    "a = np.array([[1,2],[3,4]])\n",
    "b = np.array([[5,6]])"
   ]
  },
  {
   "cell_type": "code",
   "execution_count": 157,
   "metadata": {},
   "outputs": [
    {
     "data": {
      "text/plain": [
       "array([[1, 2],\n",
       "       [3, 4]])"
      ]
     },
     "execution_count": 157,
     "metadata": {},
     "output_type": "execute_result"
    }
   ],
   "source": [
    "a"
   ]
  },
  {
   "cell_type": "code",
   "execution_count": 159,
   "metadata": {},
   "outputs": [
    {
     "data": {
      "text/plain": [
       "array([[5, 6]])"
      ]
     },
     "execution_count": 159,
     "metadata": {},
     "output_type": "execute_result"
    }
   ],
   "source": [
    "b"
   ]
  },
  {
   "cell_type": "code",
   "execution_count": 160,
   "metadata": {},
   "outputs": [
    {
     "data": {
      "text/plain": [
       "array([[1, 2],\n",
       "       [3, 4],\n",
       "       [5, 6]])"
      ]
     },
     "execution_count": 160,
     "metadata": {},
     "output_type": "execute_result"
    }
   ],
   "source": [
    "np.concatenate((a,b),axis=0) ### 竖直拼接"
   ]
  },
  {
   "cell_type": "code",
   "execution_count": 163,
   "metadata": {},
   "outputs": [
    {
     "data": {
      "text/plain": [
       "array([[1, 2, 5],\n",
       "       [3, 4, 6]])"
      ]
     },
     "execution_count": 163,
     "metadata": {},
     "output_type": "execute_result"
    }
   ],
   "source": [
    "np.concatenate((a,b.T),axis=1)  ### 水平拼接"
   ]
  },
  {
   "cell_type": "code",
   "execution_count": 164,
   "metadata": {
    "collapsed": true
   },
   "outputs": [],
   "source": [
    "a = stock_change[:2,0:4]"
   ]
  },
  {
   "cell_type": "code",
   "execution_count": 165,
   "metadata": {},
   "outputs": [
    {
     "data": {
      "text/plain": [
       "array([[-1.03028942,  0.43488904, -1.71219847, -1.66985533],\n",
       "       [-0.36762299, -1.08085229,  0.60529881,  0.65977775]])"
      ]
     },
     "execution_count": 165,
     "metadata": {},
     "output_type": "execute_result"
    }
   ],
   "source": [
    "a"
   ]
  },
  {
   "cell_type": "code",
   "execution_count": 166,
   "metadata": {
    "collapsed": true
   },
   "outputs": [],
   "source": [
    "b = stock_change[4:6,0:4]"
   ]
  },
  {
   "cell_type": "code",
   "execution_count": 170,
   "metadata": {},
   "outputs": [
    {
     "data": {
      "text/plain": [
       "array([[-0.22773462,  1.02744915, -0.51978563, -3.65049156]])"
      ]
     },
     "execution_count": 170,
     "metadata": {},
     "output_type": "execute_result"
    }
   ],
   "source": [
    "b"
   ]
  },
  {
   "cell_type": "markdown",
   "metadata": {},
   "source": [
    "### 分割\n",
    "- numpy.split(ary,indices_or_sections,axis=0) \n",
    "    - split an array into mutiple sub-arrays"
   ]
  },
  {
   "cell_type": "code",
   "execution_count": 177,
   "metadata": {},
   "outputs": [
    {
     "data": {
      "text/plain": [
       "array([ 0.,  1.,  2.,  3.,  4.,  5.,  6.,  7.,  8.])"
      ]
     },
     "execution_count": 177,
     "metadata": {},
     "output_type": "execute_result"
    }
   ],
   "source": [
    "x = np.arange(9.0)\n",
    "x"
   ]
  },
  {
   "cell_type": "code",
   "execution_count": 178,
   "metadata": {},
   "outputs": [
    {
     "data": {
      "text/plain": [
       "[array([ 0.,  1.,  2.]), array([ 3.,  4.,  5.]), array([ 6.,  7.,  8.])]"
      ]
     },
     "execution_count": 178,
     "metadata": {},
     "output_type": "execute_result"
    }
   ],
   "source": [
    "np.split(x,3)"
   ]
  },
  {
   "cell_type": "code",
   "execution_count": 179,
   "metadata": {},
   "outputs": [
    {
     "data": {
      "text/plain": [
       "array([ 0.,  1.,  2.,  3.,  4.,  5.,  6.,  7.,  8.])"
      ]
     },
     "execution_count": 179,
     "metadata": {},
     "output_type": "execute_result"
    }
   ],
   "source": [
    "x = np.arange(9.0)\n",
    "x"
   ]
  },
  {
   "cell_type": "code",
   "execution_count": 180,
   "metadata": {},
   "outputs": [
    {
     "data": {
      "text/plain": [
       "[array([ 0.,  1.,  2.]),\n",
       " array([ 3.]),\n",
       " array([ 4.]),\n",
       " array([ 5.]),\n",
       " array([ 6.,  7.,  8.])]"
      ]
     },
     "execution_count": 180,
     "metadata": {},
     "output_type": "execute_result"
    }
   ],
   "source": [
    "np.split(x,[3,4,5,6])"
   ]
  },
  {
   "cell_type": "markdown",
   "metadata": {},
   "source": [
    "## IO操作与数据处理\n",
    "- 大多数数据并不是我们自己构造的，而是存在文件中，需要我们用工具获取\n",
    "- Numpy并不适合用来读取数据和处理数据，我们这里了解相关的API，以及Numpy不方便的地方"
   ]
  },
  {
   "cell_type": "markdown",
   "metadata": {},
   "source": [
    "### Numpy 读取\n",
    "- genfromtxt(fname,[,dtype,comments...]) \n",
    "    - Load data from a text file, with missing values handled as specified."
   ]
  },
  {
   "cell_type": "code",
   "execution_count": 181,
   "metadata": {
    "collapsed": true
   },
   "outputs": [],
   "source": [
    "# 读取数据\n",
    "test = np.genfromtxt(\"test.csv\", delimiter = \",\")"
   ]
  },
  {
   "cell_type": "code",
   "execution_count": 182,
   "metadata": {},
   "outputs": [
    {
     "data": {
      "text/plain": [
       "array([[   nan,    nan,    nan,    nan],\n",
       "       [   1. ,  123. ,    1.4,   23. ],\n",
       "       [   2. ,  110. ,    nan,   18. ],\n",
       "       [   3. ,    nan,    2.1,   19. ]])"
      ]
     },
     "execution_count": 182,
     "metadata": {},
     "output_type": "execute_result"
    }
   ],
   "source": [
    "test"
   ]
  },
  {
   "cell_type": "markdown",
   "metadata": {},
   "source": [
    "### 如何处理缺失值\n",
    "#### 什么是缺失值\n",
    "- 什么时候numpy中会出现nan：当我们读取本地的文件为float的时候，如果有缺失（或者为None），就会出现nan\n",
    "#### 缺失值处理\n",
    "- 直接删除含有缺失值的样本\n",
    "- 替换/替换\n",
    "    - 按列求平均，用平均值进行填补"
   ]
  },
  {
   "cell_type": "code",
   "execution_count": 195,
   "metadata": {},
   "outputs": [
    {
     "data": {
      "text/plain": [
       "numpy.float64"
      ]
     },
     "execution_count": 195,
     "metadata": {},
     "output_type": "execute_result"
    }
   ],
   "source": [
    "type(test[2,2]) #nan是浮点"
   ]
  },
  {
   "cell_type": "code",
   "execution_count": 192,
   "metadata": {
    "collapsed": true
   },
   "outputs": [],
   "source": [
    "def fill_nan_by_column_mean(t):\n",
    "    for i in range(t.shape[1]):\n",
    "        # 计算nan的个数\n",
    "        nan_num = np.count_nonzero(t[:, i][t[:, i] != t[:, i]])\n",
    "        if nan_num > 0:\n",
    "            now_col = t[:, i]\n",
    "            # 求和\n",
    "            now_col_not_nan = now_col[np.isnan(now_col) == False].sum()\n",
    "            # 和/个数\n",
    "            now_col_mean = now_col_not_nan / (t.shape[0] - nan_num)\n",
    "            # 赋值给now_col\n",
    "            now_col[np.isnan(now_col)] = now_col_mean\n",
    "            # 赋值给t，即更新t的当前列\n",
    "            t[:, i] = now_col\n",
    "    return t"
   ]
  },
  {
   "cell_type": "code",
   "execution_count": 194,
   "metadata": {},
   "outputs": [
    {
     "data": {
      "text/plain": [
       "array([[   2.  ,  116.5 ,    1.75,   20.  ],\n",
       "       [   1.  ,  123.  ,    1.4 ,   23.  ],\n",
       "       [   2.  ,  110.  ,    1.75,   18.  ],\n",
       "       [   3.  ,  116.5 ,    2.1 ,   19.  ]])"
      ]
     },
     "execution_count": 194,
     "metadata": {},
     "output_type": "execute_result"
    }
   ],
   "source": [
    "test"
   ]
  },
  {
   "cell_type": "code",
   "execution_count": 191,
   "metadata": {},
   "outputs": [
    {
     "data": {
      "text/plain": [
       "array([[   2.  ,  116.5 ,    1.75,   20.  ],\n",
       "       [   1.  ,  123.  ,    1.4 ,   23.  ],\n",
       "       [   2.  ,  110.  ,    1.75,   18.  ],\n",
       "       [   3.  ,  116.5 ,    2.1 ,   19.  ]])"
      ]
     },
     "execution_count": 191,
     "metadata": {},
     "output_type": "execute_result"
    }
   ],
   "source": [
    "fill_nan_by_column_mean(test) ##处理缺失值"
   ]
  }
 ],
 "metadata": {
  "kernelspec": {
   "display_name": "Python 3",
   "language": "python",
   "name": "python3"
  },
  "language_info": {
   "codemirror_mode": {
    "name": "ipython",
    "version": 3
   },
   "file_extension": ".py",
   "mimetype": "text/x-python",
   "name": "python",
   "nbconvert_exporter": "python",
   "pygments_lexer": "ipython3",
   "version": "3.6.3"
  }
 },
 "nbformat": 4,
 "nbformat_minor": 2
}
